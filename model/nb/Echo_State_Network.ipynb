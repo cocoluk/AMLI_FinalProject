{
  "nbformat": 4,
  "nbformat_minor": 0,
  "metadata": {
    "colab": {
      "name": "Echo_State_Network.ipynb",
      "version": "0.3.2",
      "provenance": [],
      "collapsed_sections": [],
      "toc_visible": true
    },
    "kernelspec": {
      "name": "python3",
      "display_name": "Python 3"
    }
  },
  "cells": [
    {
      "cell_type": "code",
      "metadata": {
        "id": "ImK_YZoALzSz",
        "colab_type": "code",
        "colab": {}
      },
      "source": [
        "# author: Lu Yu\n",
        "# version: 07/31/19"
      ],
      "execution_count": 0,
      "outputs": []
    },
    {
      "cell_type": "markdown",
      "metadata": {
        "id": "6yxcKgsrAnAR",
        "colab_type": "text"
      },
      "source": [
        "# Reservoir Computing (RC) RNN"
      ]
    },
    {
      "cell_type": "markdown",
      "metadata": {
        "id": "WstYrOgJKdu9",
        "colab_type": "text"
      },
      "source": [
        "This notebook follows some of the contents and structures of the post from [Matthew Stewart](https://towardsdatascience.com/predicting-stock-prices-with-echo-state-networks-f910809d23d4). Based on [his work](https://github.com/mrdragonbear/EchoStateNetworks), we added the way to evaluate the model performance, such as precision, recall, accuracy, and MSE. \n",
        "\n",
        "We used a simple and self-contained version of Echo State Networks implementation called [pyESN](https://github.com/cknd/pyESN)."
      ]
    },
    {
      "cell_type": "markdown",
      "metadata": {
        "id": "gUMwaUKZAmiC",
        "colab_type": "text"
      },
      "source": [
        " This is how the model is set up:\n",
        " \n",
        " **You call the RC as:**\n",
        "esn = ESN(n_inputs = 1, <br>\n",
        " $\\quad$ $\\quad$     n_outputs = #, <br>\n",
        " $\\quad$ $\\quad$     n_reservoir = #,<br>\n",
        " $\\quad$ $\\quad$     sparsity= #,<br>\n",
        " $\\quad$ $\\quad$     random_state= #, <br>\n",
        " $\\quad$ $\\quad$     spectral_radius = #,<br>\n",
        " $\\quad$ $\\quad$     noise= #)\n",
        "<br> where # denotes the value that you choose.\n",
        "\n",
        "**Brief explanation of the parameters:**\n",
        "n_inputs: number of input dimensions <br>\n",
        "n_outputs: numberr of output dimensions <br>\n",
        "n_reservoir: number of reservoir neurons <br> \n",
        "random_state: seed for the random generator<br>\n",
        "sparsity: proportion of recurrent weights set to zero <br>\n",
        "spectral_radius: spectral radius of the recurrent weight matrix <br>\n",
        "noise: noise added to each neuron (regularization) <br>"
      ]
    },
    {
      "cell_type": "markdown",
      "metadata": {
        "id": "BTS_CZPzAxZa",
        "colab_type": "text"
      },
      "source": [
        "## Import packages"
      ]
    },
    {
      "cell_type": "markdown",
      "metadata": {
        "id": "7zH543NQBBAY",
        "colab_type": "text"
      },
      "source": [
        "You need to upload the file `pyESN.py` in order to use the model."
      ]
    },
    {
      "cell_type": "code",
      "metadata": {
        "id": "rcB8LYPi_1n2",
        "colab_type": "code",
        "colab": {
          "resources": {
            "http://localhost:8080/nbextensions/google.colab/files.js": {
              "data": "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",
              "ok": true,
              "headers": [
                [
                  "content-type",
                  "application/javascript"
                ]
              ],
              "status": 200,
              "status_text": ""
            }
          },
          "base_uri": "https://localhost:8080/",
          "height": 272
        },
        "outputId": "7b79d161-d284-427a-bcdd-314eed41bc30"
      },
      "source": [
        "import numpy as np\n",
        "import pandas as pd\n",
        "import seaborn as sns\n",
        "from matplotlib import pyplot as plt\n",
        "from matplotlib import rc\n",
        "import warnings\n",
        "# from sklearn.metrics import mean_squared_error\n",
        "rc('text', usetex=False)\n",
        "warnings.filterwarnings('ignore')\n",
        "\n",
        "# This is the library for the Reservoir Computing got it by: https://github.com/cknd/pyESN\n",
        "from google.colab import files\n",
        "src = list(files.upload().values())[0]\n",
        "open('pyESN.py','wb').write(src)\n",
        "from pyESN import ESN \n",
        "%matplotlib inline"
      ],
      "execution_count": 23,
      "outputs": [
        {
          "output_type": "display_data",
          "data": {
            "text/html": [
              "\n",
              "     <input type=\"file\" id=\"files-8341607d-34fd-4f10-ba05-895c07a7405b\" name=\"files[]\" multiple disabled />\n",
              "     <output id=\"result-8341607d-34fd-4f10-ba05-895c07a7405b\">\n",
              "      Upload widget is only available when the cell has been executed in the\n",
              "      current browser session. Please rerun this cell to enable.\n",
              "      </output>\n",
              "      <script src=\"/nbextensions/google.colab/files.js\"></script> "
            ],
            "text/plain": [
              "<IPython.core.display.HTML object>"
            ]
          },
          "metadata": {
            "tags": []
          }
        },
        {
          "output_type": "error",
          "ename": "IndexError",
          "evalue": "ignored",
          "traceback": [
            "\u001b[0;31m---------------------------------------------------------------------------\u001b[0m",
            "\u001b[0;31mIndexError\u001b[0m                                Traceback (most recent call last)",
            "\u001b[0;32m<ipython-input-23-cd7647bec87b>\u001b[0m in \u001b[0;36m<module>\u001b[0;34m()\u001b[0m\n\u001b[1;32m     11\u001b[0m \u001b[0;31m# This is the library for the Reservoir Computing got it by: https://github.com/cknd/pyESN\u001b[0m\u001b[0;34m\u001b[0m\u001b[0;34m\u001b[0m\u001b[0;34m\u001b[0m\u001b[0m\n\u001b[1;32m     12\u001b[0m \u001b[0;32mfrom\u001b[0m \u001b[0mgoogle\u001b[0m\u001b[0;34m.\u001b[0m\u001b[0mcolab\u001b[0m \u001b[0;32mimport\u001b[0m \u001b[0mfiles\u001b[0m\u001b[0;34m\u001b[0m\u001b[0;34m\u001b[0m\u001b[0m\n\u001b[0;32m---> 13\u001b[0;31m \u001b[0msrc\u001b[0m \u001b[0;34m=\u001b[0m \u001b[0mlist\u001b[0m\u001b[0;34m(\u001b[0m\u001b[0mfiles\u001b[0m\u001b[0;34m.\u001b[0m\u001b[0mupload\u001b[0m\u001b[0;34m(\u001b[0m\u001b[0;34m)\u001b[0m\u001b[0;34m.\u001b[0m\u001b[0mvalues\u001b[0m\u001b[0;34m(\u001b[0m\u001b[0;34m)\u001b[0m\u001b[0;34m)\u001b[0m\u001b[0;34m[\u001b[0m\u001b[0;36m0\u001b[0m\u001b[0;34m]\u001b[0m\u001b[0;34m\u001b[0m\u001b[0;34m\u001b[0m\u001b[0m\n\u001b[0m\u001b[1;32m     14\u001b[0m \u001b[0mopen\u001b[0m\u001b[0;34m(\u001b[0m\u001b[0;34m'pyESN.py'\u001b[0m\u001b[0;34m,\u001b[0m\u001b[0;34m'wb'\u001b[0m\u001b[0;34m)\u001b[0m\u001b[0;34m.\u001b[0m\u001b[0mwrite\u001b[0m\u001b[0;34m(\u001b[0m\u001b[0msrc\u001b[0m\u001b[0;34m)\u001b[0m\u001b[0;34m\u001b[0m\u001b[0;34m\u001b[0m\u001b[0m\n\u001b[1;32m     15\u001b[0m \u001b[0;32mfrom\u001b[0m \u001b[0mpyESN\u001b[0m \u001b[0;32mimport\u001b[0m \u001b[0mESN\u001b[0m\u001b[0;34m\u001b[0m\u001b[0;34m\u001b[0m\u001b[0m\n",
            "\u001b[0;31mIndexError\u001b[0m: list index out of range"
          ]
        }
      ]
    },
    {
      "cell_type": "markdown",
      "metadata": {
        "id": "eQy5hqxpBGqi",
        "colab_type": "text"
      },
      "source": [
        "Next, upload the dataset `bitcoin_merged.xlsx` to Google Colab, or \n",
        "\n",
        "use the file path `../../bitcoin/data/bitcoin_data/bitcoin_merged.xlsx` if you are running this file using Jupyter Notebook.\n",
        "\n",
        "We will only feed the Bitcoin Core price to the model."
      ]
    },
    {
      "cell_type": "markdown",
      "metadata": {
        "id": "fkAcMIdJDy7O",
        "colab_type": "text"
      },
      "source": [
        "## Import data"
      ]
    },
    {
      "cell_type": "code",
      "metadata": {
        "id": "Kb2VDJygBG8v",
        "colab_type": "code",
        "colab": {}
      },
      "source": [
        "data = pd.read_excel('./bitcoin_merged.xlsx')\n",
        "data = data[['Bitcoin Core (BTC) Price']]\n",
        "data = np.array(data).astype('float64')"
      ],
      "execution_count": 0,
      "outputs": []
    },
    {
      "cell_type": "markdown",
      "metadata": {
        "id": "qBWHnFSFCjgm",
        "colab_type": "text"
      },
      "source": [
        "Since the Bitcoin price flutuate a lot, the result would be more accurate if the input data is scaled. Here we use `MinMaxScaler`."
      ]
    },
    {
      "cell_type": "code",
      "metadata": {
        "id": "8o1oamRMCjxF",
        "colab_type": "code",
        "colab": {}
      },
      "source": [
        "from sklearn.preprocessing import MinMaxScaler\n",
        "scaler = MinMaxScaler()\n",
        "data = scaler.fit_transform(data)"
      ],
      "execution_count": 0,
      "outputs": []
    },
    {
      "cell_type": "markdown",
      "metadata": {
        "id": "tHQ6TQgnD5Jr",
        "colab_type": "text"
      },
      "source": [
        "## Model setup"
      ]
    },
    {
      "cell_type": "markdown",
      "metadata": {
        "id": "SD2vj4QODHLL",
        "colab_type": "text"
      },
      "source": [
        "Use the ESN from the pyESN library to employ an RC network. The task here is to predict two time points ahead by using the previous 1500 points and do that for 100 future points (check the figure below). So, in the end you will have a 100 time step prediction with prediction-window = 2. This will be your validation set.\n",
        "\n",
        "In this section you should use the following hyper-parameters:  \n",
        "- n_reservoir = 500\n",
        "- sparsity=0.2\n",
        "- random_state=23\n",
        "- spectral_radius=1.0\n",
        "- noise = 0.5"
      ]
    },
    {
      "cell_type": "code",
      "metadata": {
        "id": "EmE-W9rNDHgj",
        "colab_type": "code",
        "colab": {}
      },
      "source": [
        "n_reservoir= 500\n",
        "sparsity=0.2\n",
        "rand_seed=23\n",
        "spectral_radius = 1\n",
        "noise = .5\n",
        "\n",
        "\n",
        "esn = ESN(n_inputs = 1,\n",
        "      n_outputs = 1, \n",
        "      n_reservoir = n_reservoir,\n",
        "      sparsity=sparsity,\n",
        "      random_state=rand_seed,\n",
        "      spectral_radius = spectral_radius,\n",
        "      noise=noise)\n",
        "\n",
        "trainlen = 1500 # use this amount of price data to train the model\n",
        "future = 2 # predict two-day prices at one time\n",
        "futureTotal = 100 # predict the next 100-day prices\n",
        "pred_tot=np.zeros(futureTotal) # space for predicted price\n",
        "start = data.shape[0] - trainlen - futureTotal -1 # set the starting of the window\n",
        "\n",
        "for i in range(0,futureTotal,future):\n",
        "    pred_training = esn.fit(np.ones(trainlen),data[start+i:start+trainlen+i])\n",
        "#     pred_training = esn.fit(np.ones(trainlen),data[i:trainlen+i])\n",
        "    prediction = esn.predict(np.ones(future))\n",
        "    pred_tot[i:i+future] = prediction[:,0]"
      ],
      "execution_count": 0,
      "outputs": []
    },
    {
      "cell_type": "markdown",
      "metadata": {
        "id": "qaHV8LVdD70b",
        "colab_type": "text"
      },
      "source": [
        "## Model prediction"
      ]
    },
    {
      "cell_type": "markdown",
      "metadata": {
        "id": "tcoruW9PDfPi",
        "colab_type": "text"
      },
      "source": [
        "Plot the prediction along with the actual data for the training and for the test dataset"
      ]
    },
    {
      "cell_type": "code",
      "metadata": {
        "id": "b9mgkwUwDfpa",
        "colab_type": "code",
        "colab": {
          "base_uri": "https://localhost:8080/",
          "height": 557
        },
        "outputId": "a66d9acf-e945-44c0-bbdf-231b4627aaaf"
      },
      "source": [
        "plt.figure(figsize=(16,8))\n",
        "plt.plot(range(start,start+trainlen+futureTotal),data[start:start+trainlen+futureTotal],'b',label=\"Data\", alpha=0.3)\n",
        "plt.plot(range(start+trainlen,start+trainlen+futureTotal),pred_tot,'k',  alpha=0.8, label='Free Running ESN')\n",
        "\n",
        "lo,hi = plt.ylim()\n",
        "plt.plot([start+trainlen,start+trainlen],[lo+np.spacing(1),hi-np.spacing(1)],'k:', linewidth=4)\n",
        "\n",
        "plt.title(r'Ground Truth and Echo State Network Output', fontsize=25)\n",
        "plt.xlabel(r'Time (Days)', fontsize=20,labelpad=10)\n",
        "plt.ylabel(r'Price ($)', fontsize=20,labelpad=10)\n",
        "plt.legend(fontsize='xx-large', loc='best')\n",
        "sns.despine()"
      ],
      "execution_count": 5,
      "outputs": [
        {
          "output_type": "display_data",
          "data": {
            "image/png": "[encoded data removed]",
            "text/plain": [
              "<Figure size 1152x576 with 1 Axes>"
            ]
          },
          "metadata": {
            "tags": []
          }
        }
      ]
    },
    {
      "cell_type": "markdown",
      "metadata": {
        "id": "D_Q2iySoEVZG",
        "colab_type": "text"
      },
      "source": [
        "## Evaluate performance"
      ]
    },
    {
      "cell_type": "markdown",
      "metadata": {
        "id": "uD58YMQ1EVO8",
        "colab_type": "text"
      },
      "source": [
        "Calculate the percentage of change for the actual data and the predicted data."
      ]
    },
    {
      "cell_type": "code",
      "metadata": {
        "id": "9SxczKsqEKxW",
        "colab_type": "code",
        "colab": {}
      },
      "source": [
        "y_test = data[start+trainlen:start+trainlen+futureTotal]\n",
        "\n",
        "y_test_today = data[start+trainlen+1:start+trainlen+futureTotal]\n",
        "y_test_prev = data[start+trainlen:start+trainlen+futureTotal-1]\n",
        "\n",
        "y_pred_today = pred_tot[1:]\n",
        "y_pred_prev = pred_tot[:-1]\n",
        "\n",
        "delta_predict = (y_pred_today - y_pred_prev) / (y_pred_prev)\n",
        "delta_test = (y_test_today - y_test_prev) / (y_test_prev)"
      ],
      "execution_count": 0,
      "outputs": []
    },
    {
      "cell_type": "markdown",
      "metadata": {
        "id": "NchhomBiEpQD",
        "colab_type": "text"
      },
      "source": [
        "Use two lists to keep track of the price changes. For each entry:\n",
        "\n",
        "* 1 if the price increases\n",
        "* 0 if the price decreases"
      ]
    },
    {
      "cell_type": "code",
      "metadata": {
        "id": "KGzIi7sGEojW",
        "colab_type": "code",
        "colab": {}
      },
      "source": [
        "delta_pred = np.empty(delta_predict.shape)\n",
        "delta_real = np.empty(delta_test.shape)\n",
        "\n",
        "for i in range(delta_predict.shape[0]):\n",
        "    if delta_predict[i] > 0:\n",
        "        delta_pred[i] = 1\n",
        "    else:\n",
        "        delta_pred[i] = 0\n",
        "for i in range(delta_test.shape[0]):\n",
        "    if delta_test[i] > 0:\n",
        "        delta_real[i] = 1\n",
        "    else:\n",
        "        delta_real[i] = 0    "
      ],
      "execution_count": 0,
      "outputs": []
    },
    {
      "cell_type": "markdown",
      "metadata": {
        "id": "X1NdEdGCE78m",
        "colab_type": "text"
      },
      "source": [
        "Next, we calculate the true positive, false positive, true negative, and false negative. \n",
        "\n",
        "Recall that, \n",
        "\n",
        "A **true positive** is an outcome where the model correctly predicts the positive class. \n",
        "\n",
        "Similarly, a **true negative** is an outcome where the model correctly predicts the negative class.\n",
        "\n",
        "A **false positive** is an outcome where the model incorrectly predicts the positive class. \n",
        "\n",
        "And a **false negative** is an outcome where the model incorrectly predicts the negative class.\n",
        "\n",
        "*Source:* https://developers.google.com/machine-learning/crash-course/classification/true-false-positive-negative"
      ]
    },
    {
      "cell_type": "code",
      "metadata": {
        "id": "bENDLgmSE8Qe",
        "colab_type": "code",
        "colab": {}
      },
      "source": [
        "true_pos = 0\n",
        "false_pos = 0\n",
        "true_neg = 0\n",
        "false_neg = 0\n",
        "for i in range(delta_real.shape[0]):\n",
        "    real = delta_real[i]\n",
        "    predicted = delta_pred[i]\n",
        "    if real == 1:\n",
        "        if predicted == 1:\n",
        "            true_pos += 1\n",
        "        else:\n",
        "            false_neg += 1\n",
        "    elif real == 0:\n",
        "        if predicted == 0:\n",
        "            true_neg += 1\n",
        "        else:\n",
        "            false_pos += 1"
      ],
      "execution_count": 0,
      "outputs": []
    },
    {
      "cell_type": "markdown",
      "metadata": {
        "id": "tHb8-KcvFnZE",
        "colab_type": "text"
      },
      "source": [
        "Last, we could use the results above to find the precision, recall, and F1 score. Recall that,\n",
        "\n",
        "**Precision** attempts to answer the following question:\n",
        "\n",
        "> What proportion of positive identifications was actually correct?\n",
        "\n",
        "**Recall** attempts to answer the following question:\n",
        "\n",
        "> What proportion of actual positives was identified correctly?\n",
        "\n",
        "**Accuracy** is one metric for evaluating classification models. Informally, accuracy is the fraction of predictions our model got right. \n",
        "\n",
        "*Source: * https://developers.google.com/machine-learning/crash-course/classification/precision-and-recall\n",
        "\n",
        "https://developers.google.com/machine-learning/crash-course/classification/accuracy"
      ]
    },
    {
      "cell_type": "code",
      "metadata": {
        "id": "520sUQ1gFI3g",
        "colab_type": "code",
        "colab": {
          "base_uri": "https://localhost:8080/",
          "height": 102
        },
        "outputId": "4f00fbc5-96ed-43ca-f255-721e35f02f6a"
      },
      "source": [
        "precision = float(true_pos) / (true_pos + false_pos)\n",
        "recall = float(true_pos) / (true_pos + false_neg)\n",
        "F1 = float(2 * precision * recall) / (precision + recall)\n",
        "accuracy = (true_pos + true_neg) / (true_pos + false_pos + true_neg + false_neg)\n",
        "MSE = np.sqrt(np.mean((pred_tot.flatten() - y_test)**2))\n",
        "print(\"Precision: \" + str(precision))\n",
        "print(\"Recall: \" + str(recall))\n",
        "print(\"F1 score: \" + str(F1))\n",
        "print(\"Accuracy: \" + str(accuracy))\n",
        "print(\"MSE: \" + str(MSE))"
      ],
      "execution_count": 21,
      "outputs": [
        {
          "output_type": "stream",
          "text": [
            "Precision: 0.6181818181818182\n",
            "Recall: 0.5862068965517241\n",
            "F1 score: 0.6017699115044246\n",
            "Accuracy: 0.5454545454545454\n",
            "MSE: 0.1599933996458689\n"
          ],
          "name": "stdout"
        }
      ]
    },
    {
      "cell_type": "markdown",
      "metadata": {
        "id": "ARDkUklZIVPY",
        "colab_type": "text"
      },
      "source": [
        "## Potential improvement"
      ]
    },
    {
      "cell_type": "markdown",
      "metadata": {
        "id": "nBznCgotIozd",
        "colab_type": "text"
      },
      "source": [
        "#### Radius and noise\n",
        "\n",
        "Fixing `reservoir=500` and `sparsity=0.2`, we set some possible values of radius and noise and see which combination gives us the best performance."
      ]
    },
    {
      "cell_type": "code",
      "metadata": {
        "id": "x3hhRhO_IphG",
        "colab_type": "code",
        "colab": {}
      },
      "source": [
        "def MSE(yhat, y):\n",
        "    return np.sqrt(np.mean((yhat.flatten() - y)**2))"
      ],
      "execution_count": 0,
      "outputs": []
    },
    {
      "cell_type": "code",
      "metadata": {
        "id": "8cTu1wjkGOla",
        "colab_type": "code",
        "colab": {
          "base_uri": "https://localhost:8080/",
          "height": 969
        },
        "outputId": "1a261030-b14f-4ef7-95e7-3d53dcec219b"
      },
      "source": [
        "n_reservoir= 500\n",
        "sparsity   = 0.2\n",
        "rand_seed  = 23\n",
        "\n",
        "radius_set = [0.5, 0.7, 0.9,  1,  1.1,1.3,1.5]\n",
        "noise_set = [ 0.0001, 0.0003,0.0007, 0.001, 0.003, 0.005, 0.007,0.01]\n",
        "\n",
        "\n",
        "radius_set_size  = len(radius_set)\n",
        "noise_set_size = len(noise_set)\n",
        "\n",
        "trainlen = 1500\n",
        "future = 2\n",
        "futureTotal= 100\n",
        "start = data.shape[0] - trainlen - futureTotal -1\n",
        "\n",
        "loss = np.zeros([radius_set_size, noise_set_size])\n",
        "\n",
        "for l in range(radius_set_size):\n",
        "    rho = radius_set[l]\n",
        "    for j in range(noise_set_size):\n",
        "        noise = noise_set[j]\n",
        "\n",
        "        pred_tot=np.zeros(futureTotal)\n",
        "\n",
        "        esn = ESN(n_inputs = 1,\n",
        "          n_outputs = 1, \n",
        "          n_reservoir = n_reservoir,\n",
        "          sparsity=sparsity,\n",
        "          random_state=rand_seed,\n",
        "          spectral_radius = rho,\n",
        "          noise=noise)\n",
        "\n",
        "        for i in range(0,futureTotal,future):\n",
        "            pred_training = esn.fit(np.ones(trainlen),data[start+i:start+trainlen+i])\n",
        "            prediction = esn.predict(np.ones(future))\n",
        "            pred_tot[i:i+future] = prediction[:,0]\n",
        "        \n",
        "        loss[l, j] = MSE(pred_tot, data[start+trainlen:start+trainlen+futureTotal])        \n",
        "        print('rho = ', radius_set[l], ', noise = ', noise_set[j], ', MSE = ', loss[l][j] )\n"
      ],
      "execution_count": 25,
      "outputs": [
        {
          "output_type": "stream",
          "text": [
            "rho =  0.5 , noise =  0.0001 , MSE =  0.1589652601658369\n",
            "rho =  0.5 , noise =  0.0003 , MSE =  0.15968240626042035\n",
            "rho =  0.5 , noise =  0.0007 , MSE =  0.1597487062769799\n",
            "rho =  0.5 , noise =  0.001 , MSE =  0.1597390456094615\n",
            "rho =  0.5 , noise =  0.003 , MSE =  0.15981398029344127\n",
            "rho =  0.5 , noise =  0.005 , MSE =  0.15968889217630758\n",
            "rho =  0.5 , noise =  0.007 , MSE =  0.1595263090384571\n",
            "rho =  0.5 , noise =  0.01 , MSE =  0.1593282301407998\n",
            "rho =  0.7 , noise =  0.0001 , MSE =  0.15863455186592507\n",
            "rho =  0.7 , noise =  0.0003 , MSE =  0.15822391068511912\n",
            "rho =  0.7 , noise =  0.0007 , MSE =  0.1587098731447627\n",
            "rho =  0.7 , noise =  0.001 , MSE =  0.1590675124169026\n",
            "rho =  0.7 , noise =  0.003 , MSE =  0.15978573991023276\n",
            "rho =  0.7 , noise =  0.005 , MSE =  0.15985360173061955\n",
            "rho =  0.7 , noise =  0.007 , MSE =  0.15980953989740618\n",
            "rho =  0.7 , noise =  0.01 , MSE =  0.15968766930322756\n",
            "rho =  0.9 , noise =  0.0001 , MSE =  0.1584219878746765\n",
            "rho =  0.9 , noise =  0.0003 , MSE =  0.15822996249758273\n",
            "rho =  0.9 , noise =  0.0007 , MSE =  0.15821040196213862\n",
            "rho =  0.9 , noise =  0.001 , MSE =  0.15829183801471858\n",
            "rho =  0.9 , noise =  0.003 , MSE =  0.15913866808465285\n",
            "rho =  0.9 , noise =  0.005 , MSE =  0.15956496491003785\n",
            "rho =  0.9 , noise =  0.007 , MSE =  0.15974126642597833\n",
            "rho =  0.9 , noise =  0.01 , MSE =  0.15980105521572258\n",
            "rho =  1 , noise =  0.0001 , MSE =  0.15679962908691308\n",
            "rho =  1 , noise =  0.0003 , MSE =  0.15680220337949977\n",
            "rho =  1 , noise =  0.0007 , MSE =  0.15762658433476756\n",
            "rho =  1 , noise =  0.001 , MSE =  0.15804631642715292\n",
            "rho =  1 , noise =  0.003 , MSE =  0.15887121094829912\n",
            "rho =  1 , noise =  0.005 , MSE =  0.15920268557245543\n",
            "rho =  1 , noise =  0.007 , MSE =  0.15941391758264825\n",
            "rho =  1 , noise =  0.01 , MSE =  0.1595731452303916\n",
            "rho =  1.1 , noise =  0.0001 , MSE =  0.1582352692037465\n",
            "rho =  1.1 , noise =  0.0003 , MSE =  0.1559160066799093\n",
            "rho =  1.1 , noise =  0.0007 , MSE =  0.15601085462953249\n",
            "rho =  1.1 , noise =  0.001 , MSE =  0.15649770464239932\n",
            "rho =  1.1 , noise =  0.003 , MSE =  0.15854075088497627\n",
            "rho =  1.1 , noise =  0.005 , MSE =  0.15908143390136065\n",
            "rho =  1.1 , noise =  0.007 , MSE =  0.15929391704132503\n",
            "rho =  1.1 , noise =  0.01 , MSE =  0.15944591906713185\n",
            "rho =  1.3 , noise =  0.0001 , MSE =  0.157368723329616\n",
            "rho =  1.3 , noise =  0.0003 , MSE =  0.1579347719792979\n",
            "rho =  1.3 , noise =  0.0007 , MSE =  0.1580965504245603\n",
            "rho =  1.3 , noise =  0.001 , MSE =  0.1579584715501435\n",
            "rho =  1.3 , noise =  0.003 , MSE =  0.15754056405837397\n",
            "rho =  1.3 , noise =  0.005 , MSE =  0.15790708509920579\n",
            "rho =  1.3 , noise =  0.007 , MSE =  0.15831418239682923\n",
            "rho =  1.3 , noise =  0.01 , MSE =  0.15878478186541853\n",
            "rho =  1.5 , noise =  0.0001 , MSE =  0.1582896783248376\n",
            "rho =  1.5 , noise =  0.0003 , MSE =  0.1558615915667686\n",
            "rho =  1.5 , noise =  0.0007 , MSE =  0.15470394835840567\n",
            "rho =  1.5 , noise =  0.001 , MSE =  0.15469941124109832\n",
            "rho =  1.5 , noise =  0.003 , MSE =  0.15597768790026675\n",
            "rho =  1.5 , noise =  0.005 , MSE =  0.15684889148721542\n",
            "rho =  1.5 , noise =  0.007 , MSE =  0.15757897935588203\n",
            "rho =  1.5 , noise =  0.01 , MSE =  0.15849527239842373\n"
          ],
          "name": "stdout"
        }
      ]
    },
    {
      "cell_type": "markdown",
      "metadata": {
        "id": "lnpP7iQnSVPC",
        "colab_type": "text"
      },
      "source": [
        "A visualization to show the MSE for the different values of `spectral_radius` and `noise`."
      ]
    },
    {
      "cell_type": "code",
      "metadata": {
        "id": "Db5BFE_aI6vD",
        "colab_type": "code",
        "colab": {
          "base_uri": "https://localhost:8080/",
          "height": 506
        },
        "outputId": "8cef3123-79d2-4abf-9787-dc9a8b1016c5"
      },
      "source": [
        "plt.figure(figsize=(16,8))\n",
        "im = plt.imshow(loss.T, vmin=abs(loss).min(), vmax=abs(loss).max(), origin='lower',cmap='PuRd')\n",
        "plt.xticks(np.linspace(0,radius_set_size-1,radius_set_size), radius_set);\n",
        "plt.yticks(np.linspace(0,noise_set_size-1, noise_set_size), noise_set);\n",
        "plt.xlabel(r'$\\rho$', fontsize=16); plt.ylabel('noise', fontsize=16); \n",
        "\n",
        "# im.set_interpolation('bilinear')\n",
        "cb = plt.colorbar(im); "
      ],
      "execution_count": 26,
      "outputs": [
        {
          "output_type": "display_data",
          "data": {
            "image/png": "[encoded data removed]",
            "text/plain": [
              "<Figure size 1152x576 with 2 Axes>"
            ]
          },
          "metadata": {
            "tags": []
          }
        }
      ]
    },
    {
      "cell_type": "code",
      "metadata": {
        "id": "DutyZZJAI9v8",
        "colab_type": "code",
        "colab": {
          "base_uri": "https://localhost:8080/",
          "height": 85
        },
        "outputId": "d612aa39-88b8-4532-b4c4-7c73d8e242db"
      },
      "source": [
        "minLoss = np.min(loss)\n",
        "index_min = np.where(loss == minLoss)\n",
        "index_min\n",
        "rho_opt = radius_set[int(index_min[0])]\n",
        "noise_opt = noise_set[int(index_min[1])]\n",
        "print('The optimal set is:\\nspectrum radius = ',\n",
        "      rho_opt,'\\nnoise = ',noise_opt,'\\nMSE = ',minLoss)"
      ],
      "execution_count": 27,
      "outputs": [
        {
          "output_type": "stream",
          "text": [
            "The optimal set is:\n",
            "spectrum radius =  1.5 \n",
            "noise =  0.001 \n",
            "MSE =  0.15469941124109832\n"
          ],
          "name": "stdout"
        }
      ]
    },
    {
      "cell_type": "markdown",
      "metadata": {
        "id": "MdLtEoewPoKM",
        "colab_type": "text"
      },
      "source": [
        "From the performance of several possible combinations above, we notice that when `spectrum radius` is 1.5 and `noise` is 0.001, we have the lowest MSE."
      ]
    },
    {
      "cell_type": "markdown",
      "metadata": {
        "id": "eoSnF4YxRX8s",
        "colab_type": "text"
      },
      "source": [
        "#### Reservoir and sparsity\n",
        "\n",
        "Based on the best combination of radius and noise, we may also find the potential good candidiates of reservoir and sparsity."
      ]
    },
    {
      "cell_type": "code",
      "metadata": {
        "id": "UdQxb9stI_CN",
        "colab_type": "code",
        "colab": {
          "base_uri": "https://localhost:8080/",
          "height": 442
        },
        "outputId": "9015590f-1508-46e1-ac8b-29d91fa95afc"
      },
      "source": [
        "n_reservoir_set = [100, 200, 300, 400, 500]\n",
        "sparsity_set    = [0.01, 0.05, 0.1, 0.2, 0.5]\n",
        "rand_seed       = 23\n",
        "\n",
        "radius = 1.5\n",
        "noise = 0.001\n",
        "\n",
        "\n",
        "n_reservoir_size  = len(n_reservoir_set)\n",
        "sparsity_size = len(sparsity_set)\n",
        "\n",
        "trainlen = 1500\n",
        "future = 2\n",
        "futureTotal= 100\n",
        "start = data.shape[0] - trainlen - futureTotal -1\n",
        "\n",
        "loss = np.zeros([n_reservoir_size, sparsity_size])\n",
        "\n",
        "for l in range(n_reservoir_size):\n",
        "    reservoir = n_reservoir_set[l]\n",
        "    for j in range(sparsity_size):\n",
        "        sparsity = sparsity_set[j]\n",
        "\n",
        "        pred_tot=np.zeros(futureTotal)\n",
        "\n",
        "        esn = ESN(n_inputs = 1,\n",
        "          n_outputs = 1, \n",
        "          n_reservoir = reservoir,\n",
        "          sparsity=sparsity,\n",
        "          random_state=rand_seed,\n",
        "          spectral_radius = radius,\n",
        "          noise=noise)\n",
        "\n",
        "        for i in range(0,futureTotal,future):\n",
        "            pred_training = esn.fit(np.ones(trainlen),data[start+i:start+trainlen+i])\n",
        "            prediction = esn.predict(np.ones(future))\n",
        "            pred_tot[i:i+future] = prediction[:,0]\n",
        "        \n",
        "        loss[l, j] = MSE(pred_tot, data[start+trainlen:start+trainlen+futureTotal])        \n",
        "        print('reservoir = ', n_reservoir_set[l], ', sparsity = ', sparsity_set[j], ', MSE = ', loss[l][j] )\n"
      ],
      "execution_count": 32,
      "outputs": [
        {
          "output_type": "stream",
          "text": [
            "reservoir =  100 , sparsity =  0.01 , MSE =  0.1583701702557266\n",
            "reservoir =  100 , sparsity =  0.05 , MSE =  0.156965935714113\n",
            "reservoir =  100 , sparsity =  0.1 , MSE =  0.15912405591611467\n",
            "reservoir =  100 , sparsity =  0.2 , MSE =  0.15921323638980964\n",
            "reservoir =  100 , sparsity =  0.5 , MSE =  0.15848504744437655\n",
            "reservoir =  200 , sparsity =  0.01 , MSE =  0.15724481664474318\n",
            "reservoir =  200 , sparsity =  0.05 , MSE =  0.15809603901661612\n",
            "reservoir =  200 , sparsity =  0.1 , MSE =  0.15794708978735\n",
            "reservoir =  200 , sparsity =  0.2 , MSE =  0.15717677014767273\n",
            "reservoir =  200 , sparsity =  0.5 , MSE =  0.15882150250543128\n",
            "reservoir =  300 , sparsity =  0.01 , MSE =  0.1602182222510961\n",
            "reservoir =  300 , sparsity =  0.05 , MSE =  0.1576004127797354\n",
            "reservoir =  300 , sparsity =  0.1 , MSE =  0.15702492033574544\n",
            "reservoir =  300 , sparsity =  0.2 , MSE =  0.16042273748884786\n",
            "reservoir =  300 , sparsity =  0.5 , MSE =  0.15519934684003941\n",
            "reservoir =  400 , sparsity =  0.01 , MSE =  0.15987853678306554\n",
            "reservoir =  400 , sparsity =  0.05 , MSE =  0.16041817009164547\n",
            "reservoir =  400 , sparsity =  0.1 , MSE =  0.1715938407620338\n",
            "reservoir =  400 , sparsity =  0.2 , MSE =  0.15682336603034266\n",
            "reservoir =  400 , sparsity =  0.5 , MSE =  0.16116025191099398\n",
            "reservoir =  500 , sparsity =  0.01 , MSE =  0.1586004937924643\n",
            "reservoir =  500 , sparsity =  0.05 , MSE =  0.17189607267515833\n",
            "reservoir =  500 , sparsity =  0.1 , MSE =  0.16318585432780974\n",
            "reservoir =  500 , sparsity =  0.2 , MSE =  0.15469941124109832\n",
            "reservoir =  500 , sparsity =  0.5 , MSE =  0.15905403629520914\n"
          ],
          "name": "stdout"
        }
      ]
    },
    {
      "cell_type": "markdown",
      "metadata": {
        "id": "gBx6SuHRSb8F",
        "colab_type": "text"
      },
      "source": [
        "A visualization to show the MSE for the different values of `n_reservoir` and `sparsity`."
      ]
    },
    {
      "cell_type": "code",
      "metadata": {
        "id": "M_Kn6an6RTLv",
        "colab_type": "code",
        "colab": {
          "base_uri": "https://localhost:8080/",
          "height": 506
        },
        "outputId": "1aae7252-4d55-45c8-ca58-a9572f5ad947"
      },
      "source": [
        "plt.figure(figsize=(16,8))\n",
        "im = plt.imshow(loss.T, vmin=abs(loss).min(), vmax=abs(loss).max(), origin='lower',cmap='PuRd')\n",
        "plt.xticks(np.linspace(0,n_reservoir_size-1,n_reservoir_size), n_reservoir_set);\n",
        "plt.yticks(np.linspace(0,sparsity_size-1, sparsity_size), sparsity_set);\n",
        "plt.xlabel(r'$\\rho$', fontsize=16); plt.ylabel('noise', fontsize=16); \n",
        "\n",
        "# im.set_interpolation('bilinear')\n",
        "cb = plt.colorbar(im); "
      ],
      "execution_count": 33,
      "outputs": [
        {
          "output_type": "display_data",
          "data": {
            "image/png": "[encoded data removed]",
            "text/plain": [
              "<Figure size 1152x576 with 2 Axes>"
            ]
          },
          "metadata": {
            "tags": []
          }
        }
      ]
    },
    {
      "cell_type": "code",
      "metadata": {
        "id": "ALb7xS4MQcAD",
        "colab_type": "code",
        "colab": {
          "base_uri": "https://localhost:8080/",
          "height": 85
        },
        "outputId": "870ef3bb-b7f3-4f89-ff35-29983be49516"
      },
      "source": [
        "minLoss = np.min(loss)\n",
        "index_min = np.where(loss == minLoss)\n",
        "index_min\n",
        "reservoir_opt = n_reservoir_set[int(index_min[0])]\n",
        "sparsity_opt = sparsity_set[int(index_min[1])]\n",
        "print('The optimal set is:\\nspectrum reservoir = ',\n",
        "      reservoir_opt,'\\nsparsity = ',sparsity_opt,'\\nMSE = ',minLoss)"
      ],
      "execution_count": 34,
      "outputs": [
        {
          "output_type": "stream",
          "text": [
            "The optimal set is:\n",
            "spectrum reservoir =  500 \n",
            "sparsity =  0.2 \n",
            "MSE =  0.15469941124109832\n"
          ],
          "name": "stdout"
        }
      ]
    },
    {
      "cell_type": "markdown",
      "metadata": {
        "id": "vWKEXQCcSkxy",
        "colab_type": "text"
      },
      "source": [
        "The optimal set is still the combination of `spectrum reservoir =  500` and `sparsity =  0.2`, given that `radius = 1.5` and `noise = 0.001`."
      ]
    }
  ]
}