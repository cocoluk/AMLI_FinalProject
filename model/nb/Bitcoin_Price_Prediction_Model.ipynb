{
 "cells": [
  {
   "cell_type": "markdown",
   "metadata": {
    "colab_type": "text",
    "id": "aIHND-b7JaHJ"
   },
   "source": [
    "**7/9:** Able to get Google News data using API\n",
    "\n",
    "**7/10:** Read articles about models using RNN & LSTM to predict stock/cryptocurrency prices\n",
    "\n",
    "**7/11:** Applied an existing model to Bitcoin daily price data and got F1 score around 0.52; no improvement with larger historical data\n"
   ]
  },
  {
   "cell_type": "markdown",
   "metadata": {
    "colab_type": "text",
    "id": "V99W-z6yu3Vk"
   },
   "source": [
    "## Bitcoin Price Prediction\n"
   ]
  },
  {
   "cell_type": "markdown",
   "metadata": {
    "colab_type": "text",
    "id": "MWiAWRct5-y1"
   },
   "source": [
    "### Model"
   ]
  },
  {
   "cell_type": "markdown",
   "metadata": {
    "colab_type": "text",
    "id": "ulZZEVfl5BOQ"
   },
   "source": [
    "Adopted code from Jerry Wei"
   ]
  },
  {
   "cell_type": "code",
   "execution_count": 0,
   "metadata": {
    "colab": {},
    "colab_type": "code",
    "id": "iOJyrbl2xl2g"
   },
   "outputs": [],
   "source": [
    "from keras.layers.core import Dense, Activation, Dropout\n",
    "from keras.layers.recurrent import LSTM\n",
    "from keras.layers import Bidirectional\n",
    "from keras.models import Sequential\n",
    "from sklearn.metrics import mean_squared_error\n",
    "import time\n",
    "import numpy as np\n",
    "import matplotlib.pyplot as plt\n",
    "import pandas as pd\n",
    "import math"
   ]
  },
  {
   "cell_type": "markdown",
   "metadata": {
    "colab_type": "text",
    "id": "CoVDGhXe5wFy"
   },
   "source": [
    "#### Load Data"
   ]
  },
  {
   "cell_type": "code",
   "execution_count": 0,
   "metadata": {
    "colab": {},
    "colab_type": "code",
    "id": "ORB7ETgnB5DC"
   },
   "outputs": [],
   "source": [
    "def load_data(filename, sequence_length):\n",
    "    \"\"\"\n",
    "    Loads the bitcoin data\n",
    "    \n",
    "    Arguments:\n",
    "    filename -- A string that represents where the .csv file can be located\n",
    "    sequence_length -- An integer of how many days should be looked at in a row\n",
    "    \n",
    "    Returns:\n",
    "    X_train -- A tensor of shape (2400, 49, 35) that will be inputed into the model to train it\n",
    "    Y_train -- A tensor of shape (2400,) that will be inputed into the model to train it\n",
    "    X_test -- A tensor of shape (267, 49, 35) that will be used to test the model's proficiency\n",
    "    Y_test -- A tensor of shape (267,) that will be used to check the model's predictions\n",
    "    Y_daybefore -- A tensor of shape (267,) that represents the price of bitcoin the day before each Y_test value\n",
    "    unnormalized_bases -- A tensor of shape (267,) that will be used to get the true prices from the normalized ones\n",
    "    window_size -- An integer that represents how many days of X values the model can look at at once\n",
    "    \"\"\"\n",
    "    #Read the data file\n",
    "    raw_data = filename.values\n",
    "    \n",
    "    #Change all zeros to the number before the zero occurs\n",
    "    for x in range(0, raw_data.shape[0]):\n",
    "        for y in range(0, raw_data.shape[1]):\n",
    "            if(raw_data[x][y] == 0):\n",
    "                raw_data[x][y] = raw_data[x-1][y]\n",
    "    \n",
    "    #Convert the file to a list\n",
    "    data = raw_data.tolist()\n",
    "    \n",
    "    #Convert the data to a 3D array (a x b x c) \n",
    "    #Where a is the number of days, b is the window size, and c is the number of features in the data file\n",
    "    result = []\n",
    "    for index in range(len(data) - sequence_length):\n",
    "        result.append(data[index: index + sequence_length])\n",
    "    \n",
    "    #Normalizing data by going through each window\n",
    "    #Every value in the window is divided by the first value in the window, and then 1 is subtracted\n",
    "    d0 = np.array(result)\n",
    "    dr = np.zeros_like(d0)\n",
    "    dr[:,1:,:] = d0[:,1:,:] / d0[:,0:1,:] - 1\n",
    "\n",
    "    #Keeping the unnormalized prices for Y_test\n",
    "    #Useful when graphing bitcoin price over time later\n",
    "    start = 2842 # number of data = 2842, consistent with X_train.shape[0]\n",
    "    end = int(dr.shape[0] + 1)\n",
    "    print(\"end\")\n",
    "    print(end)\n",
    "    unnormalized_bases = d0[start:end,0:1,-1] # 20 : bitcoin price\n",
    "    \n",
    "    #Splitting data set into training (First 90% of data points) and testing data (last 10% of data points)\n",
    "    split_line = round(0.9 * dr.shape[0])\n",
    "    training_data = dr[:int(split_line), :]\n",
    "    print(\"training_data\")\n",
    "    print(training_data.shape)\n",
    "    #Shuffle the data\n",
    "    np.random.shuffle(training_data)\n",
    "    \n",
    "    #Training Data\n",
    "    X_train = training_data[:, :-1]\n",
    "    Y_train = training_data[:, -1]\n",
    "    Y_train = Y_train[:, -1] # 20\n",
    "    \n",
    "    #Testing data\n",
    "    X_test = dr[int(split_line):, :-1]\n",
    "    Y_test = dr[int(split_line):, 99, :] # 99\n",
    "    Y_test = Y_test[:, -1] # 20\n",
    "\n",
    "    #Get the day before Y_test's price\n",
    "    Y_daybefore = dr[int(split_line):, 98, :] # 98\n",
    "    Y_daybefore = Y_daybefore[:, -1] # 20\n",
    "    \n",
    "    #Get window size and sequence length\n",
    "    sequence_length = sequence_length\n",
    "    window_size = sequence_length - 1 #because the last value is reserved as the y value\n",
    "    \n",
    "    return X_train, Y_train, X_test, Y_test, Y_daybefore, unnormalized_bases, window_size"
   ]
  },
  {
   "cell_type": "markdown",
   "metadata": {
    "colab_type": "text",
    "id": "l1dczOQr6Rtv"
   },
   "source": [
    "#### Building the Model"
   ]
  },
  {
   "cell_type": "code",
   "execution_count": 0,
   "metadata": {
    "colab": {},
    "colab_type": "code",
    "id": "SO98KGsY6dG5"
   },
   "outputs": [],
   "source": [
    "def initialize_model(window_size, dropout_value, activation_function, loss_function, optimizer):\n",
    "    \"\"\"\n",
    "    Initializes and creates the model to be used\n",
    "    \n",
    "    Arguments:\n",
    "    window_size -- An integer that represents how many days of X_values the model can look at at once\n",
    "    dropout_value -- A decimal representing how much dropout should be incorporated at each level, in this case 0.2\n",
    "    activation_function -- A string to define the activation_function, in this case it is linear\n",
    "    loss_function -- A string to define the loss function to be used, in the case it is mean squared error\n",
    "    optimizer -- A string to define the optimizer to be used, in the case it is adam\n",
    "    \n",
    "    Returns:\n",
    "    model -- A 3 layer RNN with 100*dropout_value dropout in each layer that uses activation_function as its activation\n",
    "             function, loss_function as its loss function, and optimizer as its optimizer\n",
    "    \"\"\"\n",
    "    #Create a Sequential model using Keras\n",
    "    model = Sequential()\n",
    "\n",
    "    #First recurrent layer with dropout\n",
    "    model.add(Bidirectional(LSTM(window_size, return_sequences=True), input_shape=(window_size, X_train.shape[-1]),))\n",
    "    model.add(Dropout(dropout_value))\n",
    "\n",
    "    #Second recurrent layer with dropout\n",
    "    model.add(Bidirectional(LSTM((window_size*2), return_sequences=True)))\n",
    "    model.add(Dropout(dropout_value))\n",
    "\n",
    "    #Third recurrent layer\n",
    "    model.add(Bidirectional(LSTM(window_size, return_sequences=False)))\n",
    "\n",
    "    #Output layer (returns the predicted value)\n",
    "    model.add(Dense(units=1))\n",
    "    \n",
    "    #Set activation function\n",
    "    model.add(Activation(activation_function))\n",
    "\n",
    "    #Set loss function and optimizer\n",
    "    model.compile(loss=loss_function, optimizer=optimizer)\n",
    "    \n",
    "    return model"
   ]
  },
  {
   "cell_type": "markdown",
   "metadata": {
    "colab_type": "text",
    "id": "EqwQ-Wpm6fPn"
   },
   "source": [
    "#### Training the Model"
   ]
  },
  {
   "cell_type": "code",
   "execution_count": 0,
   "metadata": {
    "colab": {},
    "colab_type": "code",
    "id": "Y8Fqal5H6itd"
   },
   "outputs": [],
   "source": [
    "def fit_model(model, X_train, Y_train, batch_num, num_epoch, val_split):\n",
    "    \"\"\"\n",
    "    Fits the model to the training data\n",
    "    \n",
    "    Arguments:\n",
    "    model -- The previously initalized 3 layer Recurrent Neural Network\n",
    "    X_train -- A tensor of shape (2400, 49, 35) that represents the x values of the training data\n",
    "    Y_train -- A tensor of shape (2400,) that represents the y values of the training data\n",
    "    batch_num -- An integer representing the batch size to be used, in this case 1024\n",
    "    num_epoch -- An integer defining the number of epochs to be run, in this case 100\n",
    "    val_split -- A decimal representing the proportion of training data to be used as validation data\n",
    "    \n",
    "    Returns:\n",
    "    model -- The 3 layer Recurrent Neural Network that has been fitted to the training data\n",
    "    training_time -- An integer representing the amount of time (in seconds) that the model was training\n",
    "    \"\"\"\n",
    "    #Record the time the model starts training\n",
    "    start = time.time()\n",
    "\n",
    "    #Train the model on X_train and Y_train\n",
    "    model.fit(X_train, Y_train, batch_size= batch_num, nb_epoch=num_epoch, validation_split= val_split)\n",
    "\n",
    "    #Get the time it took to train the model (in seconds)\n",
    "    training_time = int(math.floor(time.time() - start))\n",
    "    return model, training_time"
   ]
  },
  {
   "cell_type": "markdown",
   "metadata": {
    "colab_type": "text",
    "id": "fwK7Te9S6k6P"
   },
   "source": [
    "#### Testing the Model"
   ]
  },
  {
   "cell_type": "code",
   "execution_count": 0,
   "metadata": {
    "colab": {},
    "colab_type": "code",
    "id": "JxE6OtmM6nM9"
   },
   "outputs": [],
   "source": [
    "def test_model(model, X_test, Y_test, unnormalized_bases):\n",
    "    \"\"\"\n",
    "    Test the model on the testing data\n",
    "    \n",
    "    Arguments:\n",
    "    model -- The previously fitted 3 layer Recurrent Neural Network\n",
    "    X_test -- A tensor of shape (267, 49, 35) that represents the x values of the testing data\n",
    "    Y_test -- A tensor of shape (267,) that represents the y values of the testing data\n",
    "    unnormalized_bases -- A tensor of shape (267,) that can be used to get unnormalized data points\n",
    "    \n",
    "    Returns:\n",
    "    y_predict -- A tensor of shape (267,) that represnts the normalized values that the model predicts based on X_test\n",
    "    real_y_test -- A tensor of shape (267,) that represents the actual prices of bitcoin throughout the testing period\n",
    "    real_y_predict -- A tensor of shape (267,) that represents the model's predicted prices of bitcoin\n",
    "    fig -- A branch of the graph of the real predicted prices of bitcoin versus the real prices of bitcoin\n",
    "    \"\"\"\n",
    "    #Test the model on X_Test\n",
    "    y_predict = model.predict(X_test)\n",
    "\n",
    "    #Create empty 2D arrays to store unnormalized values\n",
    "    real_y_test = np.zeros_like(Y_test)\n",
    "    real_y_predict = np.zeros_like(y_predict)\n",
    "\n",
    "    #Fill the 2D arrays with the real value and the predicted value by reversing the normalization process\n",
    "    for i in range(Y_test.shape[0]):\n",
    "        y = Y_test[i]\n",
    "        predict = y_predict[i]\n",
    "        real_y_test[i] = (y+1)*unnormalized_bases[i]\n",
    "        real_y_predict[i] = (predict+1)*unnormalized_bases[i]\n",
    "\n",
    "    #Plot of the predicted prices versus the real prices\n",
    "    fig = plt.figure(figsize=(10,5))\n",
    "    ax = fig.add_subplot(111)\n",
    "    ax.set_title(\"Bitcoin Price Over Time\")\n",
    "    plt.plot(real_y_predict, color = 'green', label = 'Predicted Price')\n",
    "    plt.plot(real_y_test, color = 'red', label = 'Real Price')\n",
    "    ax.set_ylabel(\"Price (USD)\")\n",
    "    ax.set_xlabel(\"Time (Days)\")\n",
    "    ax.legend()\n",
    "    \n",
    "    return y_predict, real_y_test, real_y_predict, fig"
   ]
  },
  {
   "cell_type": "markdown",
   "metadata": {
    "colab_type": "text",
    "id": "YTpmEUpS6o5Y"
   },
   "source": [
    "#### Evaluating Change in Price"
   ]
  },
  {
   "cell_type": "code",
   "execution_count": 0,
   "metadata": {
    "colab": {},
    "colab_type": "code",
    "id": "MhGp1G9c6uPC"
   },
   "outputs": [],
   "source": [
    "def price_change(Y_daybefore, Y_test, y_predict):\n",
    "    \"\"\"\n",
    "    Calculate the percent change between each value and the day before\n",
    "    \n",
    "    Arguments:\n",
    "    Y_daybefore -- A tensor of shape (267,) that represents the prices of each day before each price in Y_test\n",
    "    Y_test -- A tensor of shape (267,) that represents the normalized y values of the testing data\n",
    "    y_predict -- A tensor of shape (267,) that represents the normalized y values of the model's predictions\n",
    "    \n",
    "    Returns:\n",
    "    Y_daybefore -- A tensor of shape (267, 1) that represents the prices of each day before each price in Y_test\n",
    "    Y_test -- A tensor of shape (267, 1) that represents the normalized y values of the testing data\n",
    "    delta_predict -- A tensor of shape (267, 1) that represents the difference between predicted and day before values\n",
    "    delta_real -- A tensor of shape (267, 1) that represents the difference between real and day before values\n",
    "    fig -- A plot representing percent change in bitcoin price per day,\n",
    "    \"\"\"\n",
    "    #Reshaping Y_daybefore and Y_test\n",
    "    Y_daybefore = np.reshape(Y_daybefore, (-1, 1))\n",
    "    Y_test = np.reshape(Y_test, (-1, 1))\n",
    "\n",
    "    #The difference between each predicted value and the value from the day before\n",
    "    delta_predict = (y_predict - Y_daybefore) / (1+Y_daybefore)\n",
    "\n",
    "    #The difference between each true value and the value from the day before\n",
    "    delta_real = (Y_test - Y_daybefore) / (1+Y_daybefore)\n",
    "\n",
    "    #Plotting the predicted percent change versus the real percent change\n",
    "    fig = plt.figure(figsize=(10, 6))\n",
    "    ax = fig.add_subplot(111)\n",
    "    ax.set_title(\"Percent Change in Bitcoin Price Per Day\")\n",
    "    plt.plot(delta_predict, color='green', label = 'Predicted Percent Change')\n",
    "    plt.plot(delta_real, color='red', label = 'Real Percent Change')\n",
    "    plt.ylabel(\"Percent Change\")\n",
    "    plt.xlabel(\"Time (Days)\")\n",
    "    ax.legend()\n",
    "    plt.show()\n",
    "    \n",
    "    return Y_daybefore, Y_test, delta_predict, delta_real, fig"
   ]
  },
  {
   "cell_type": "markdown",
   "metadata": {
    "colab_type": "text",
    "id": "FCZpPbMC6xLe"
   },
   "source": [
    "#### Process the Percent Change in Price"
   ]
  },
  {
   "cell_type": "code",
   "execution_count": 0,
   "metadata": {
    "colab": {},
    "colab_type": "code",
    "id": "N-9eQCrD6vXL"
   },
   "outputs": [],
   "source": [
    "def binary_price(delta_predict, delta_real):\n",
    "    \"\"\"\n",
    "    Converts percent change to a binary 1 or 0, where 1 is an increase and 0 is a decrease/no change\n",
    "    \n",
    "    Arguments:\n",
    "    delta_predict -- A tensor of shape (267, 1) that represents the predicted percent change in price\n",
    "    delta_real -- A tensor of shape (267, 1) that represents the real percent change in price\n",
    "    \n",
    "    Returns:\n",
    "    delta_predict_1_0 -- A tensor of shape (267, 1) that represents the binary version of delta_predict\n",
    "    delta_real_1_0 -- A tensor of shape (267, 1) that represents the binary version of delta_real\n",
    "    \"\"\"\n",
    "    #Empty arrays where a 1 represents an increase in price and a 0 represents a decrease in price\n",
    "    delta_predict_1_0 = np.empty(delta_predict.shape)\n",
    "    delta_real_1_0 = np.empty(delta_real.shape)\n",
    "\n",
    "    #If the change in price is greater than zero, store it as a 1\n",
    "    #If the change in price is less than zero, store it as a 0\n",
    "    for i in range(delta_predict.shape[0]):\n",
    "        if delta_predict[i][0] > 0:\n",
    "            delta_predict_1_0[i][0] = 1\n",
    "        else:\n",
    "            delta_predict_1_0[i][0] = 0\n",
    "    for i in range(delta_real.shape[0]):\n",
    "        if delta_real[i][0] > 0:\n",
    "            delta_real_1_0[i][0] = 1\n",
    "        else:\n",
    "            delta_real_1_0[i][0] = 0    \n",
    "\n",
    "    return delta_predict_1_0, delta_real_1_0"
   ]
  },
  {
   "cell_type": "markdown",
   "metadata": {
    "colab_type": "text",
    "id": "LdJOPn_a628k"
   },
   "source": [
    "#### Comparing Predictions and Real Data"
   ]
  },
  {
   "cell_type": "code",
   "execution_count": 0,
   "metadata": {
    "colab": {},
    "colab_type": "code",
    "id": "mp3y9mFT665O"
   },
   "outputs": [],
   "source": [
    "def find_positives_negatives(delta_predict_1_0, delta_real_1_0):\n",
    "    \"\"\"\n",
    "    Finding the number of false positives, false negatives, true positives, true negatives\n",
    "    \n",
    "    Arguments: \n",
    "    delta_predict_1_0 -- A tensor of shape (267, 1) that represents the binary version of delta_predict\n",
    "    delta_real_1_0 -- A tensor of shape (267, 1) that represents the binary version of delta_real\n",
    "    \n",
    "    Returns:\n",
    "    true_pos -- An integer that represents the number of true positives achieved by the model\n",
    "    false_pos -- An integer that represents the number of false positives achieved by the model\n",
    "    true_neg -- An integer that represents the number of true negatives achieved by the model\n",
    "    false_neg -- An integer that represents the number of false negatives achieved by the model\n",
    "    \"\"\"\n",
    "    #Finding the number of false positive/negatives and true positives/negatives\n",
    "    true_pos = 0\n",
    "    false_pos = 0\n",
    "    true_neg = 0\n",
    "    false_neg = 0\n",
    "    for i in range(delta_real_1_0.shape[0]):\n",
    "        real = delta_real_1_0[i][0]\n",
    "        predicted = delta_predict_1_0[i][0]\n",
    "        if real == 1:\n",
    "            if predicted == 1:\n",
    "                true_pos += 1\n",
    "            else:\n",
    "                false_neg += 1\n",
    "        elif real == 0:\n",
    "            if predicted == 0:\n",
    "                true_neg += 1\n",
    "            else:\n",
    "                false_pos += 1\n",
    "    return true_pos, false_pos, true_neg, false_neg"
   ]
  },
  {
   "cell_type": "markdown",
   "metadata": {
    "colab_type": "text",
    "id": "E4sOxfjJ69vq"
   },
   "source": [
    "#### Calculating Statistics"
   ]
  },
  {
   "cell_type": "code",
   "execution_count": 0,
   "metadata": {
    "colab": {},
    "colab_type": "code",
    "id": "7KSwSvtp6_k9"
   },
   "outputs": [],
   "source": [
    "def calculate_statistics(true_pos, false_pos, true_neg, false_neg, y_predict, Y_test):\n",
    "    \"\"\"\n",
    "    Calculate various statistics to assess performance\n",
    "    \n",
    "    Arguments:\n",
    "    true_pos -- An integer that represents the number of true positives achieved by the model\n",
    "    false_pos -- An integer that represents the number of false positives achieved by the model\n",
    "    true_neg -- An integer that represents the number of true negatives achieved by the model\n",
    "    false_neg -- An integer that represents the number of false negatives achieved by the model\n",
    "    Y_test -- A tensor of shape (267, 1) that represents the normalized y values of the testing data\n",
    "    y_predict -- A tensor of shape (267, 1) that represents the normalized y values of the model's predictions\n",
    "    \n",
    "    Returns:\n",
    "    precision -- How often the model gets a true positive compared to how often it returns a positive\n",
    "    recall -- How often the model gets a true positive compared to how often is hould have gotten a positive\n",
    "    F1 -- The weighted average of recall and precision\n",
    "    Mean Squared Error -- The average of the squares of the differences between predicted and real values\n",
    "    \"\"\"\n",
    "    precision = float(true_pos) / (true_pos + false_pos)\n",
    "    recall = float(true_pos) / (true_pos + false_neg)\n",
    "    F1 = float(2 * precision * recall) / (precision + recall)\n",
    "    #Get Mean Squared Error\n",
    "    MSE = mean_squared_error(y_predict.flatten(), Y_test.flatten())\n",
    "\n",
    "    return precision, recall, F1, MSE"
   ]
  },
  {
   "cell_type": "markdown",
   "metadata": {
    "colab_type": "text",
    "id": "OCzlLpC97E7C"
   },
   "source": [
    "### Putting Together"
   ]
  },
  {
   "cell_type": "code",
   "execution_count": 0,
   "metadata": {
    "colab": {},
    "colab_type": "code",
    "id": "Pit1Ju4kk5-x"
   },
   "outputs": [],
   "source": [
    "raw_data = pd.read_excel(\"./bitcoin_merged.xlsx\")\n",
    "# raw_data.columns"
   ]
  },
  {
   "cell_type": "code",
   "execution_count": 0,
   "metadata": {
    "colab": {},
    "colab_type": "code",
    "id": "HOC_6g_FB04m"
   },
   "outputs": [],
   "source": [
    "for filename in os.listdir(directory):\n",
    "  if filename.endswith(\".csv\"):\n",
    "    df = pd.read_csv(filename)\n",
    "    if col_cnt == 1: \n",
    "      filewriter.write(0, 0, df.columns[0]) # write header\n",
    "    filewriter.write(0, col_cnt, df.columns[1]) # write header\n",
    "\n",
    "    row_cnt = 1\n",
    "    start_date = dt.strptime(\"10/08/17\", \"%y/%m/%d\")\n",
    "    \n",
    "    for i in range(df.shape[0]):\n",
    "      current_date = dt.strptime(df.iloc[i][0], \"%Y-%m-%d\")\n",
    "      if start_date <= current_date:\n",
    "        if(col_cnt == 1):\n",
    "          filewriter.write(row_cnt, 0, df.iloc[i][0])\n",
    "        filewriter.write(row_cnt, col_cnt, df.iloc[i][1])\n",
    "        row_cnt += 1\n",
    "\n",
    "    col_cnt += 1\n",
    "\n",
    "        \n",
    "output.close()"
   ]
  },
  {
   "cell_type": "code",
   "execution_count": 0,
   "metadata": {
    "colab": {},
    "colab_type": "code",
    "id": "GAY81YQBB-Bm"
   },
   "outputs": [],
   "source": [
    "raw_data = raw_data.loc[:, raw_data.columns != 'Date']"
   ]
  },
  {
   "cell_type": "markdown",
   "metadata": {
    "colab_type": "text",
    "id": "2gQBix9nv7Nw"
   },
   "source": [
    "#### Correlation"
   ]
  },
  {
   "cell_type": "code",
   "execution_count": 0,
   "metadata": {
    "colab": {},
    "colab_type": "code",
    "id": "XpgcdrCMrEVk"
   },
   "outputs": [],
   "source": [
    "# # corr = raw_data.corr()\n",
    "# # corr.style.background_gradient(cmap='coolwarm')\n",
    "# import seaborn as sns\n",
    "# import matplotlib.pyplot as plt\n",
    "\n",
    "# fig, ax = plt.subplots()\n",
    "# fig.set_size_inches(30, 20)\n",
    "# sns.heatmap(raw_data.corr(method='pearson'), annot=True, fmt='.4f', \n",
    "#             cmap=plt.get_cmap('coolwarm'), cbar=False, ax=ax)\n",
    "# ax.set_yticklabels(ax.get_yticklabels(), rotation=\"horizontal\")\n",
    "# plt.savefig('result.png', bbox_inches='tight', pad_inches=0.0)"
   ]
  },
  {
   "cell_type": "markdown",
   "metadata": {
    "colab_type": "text",
    "id": "yqaymqWB7Mhe"
   },
   "source": [
    "#### Features selection"
   ]
  },
  {
   "cell_type": "markdown",
   "metadata": {
    "colab_type": "text",
    "id": "SPnLf-g96SnL"
   },
   "source": [
    "*First try: >= 0.5*"
   ]
  },
  {
   "cell_type": "code",
   "execution_count": 0,
   "metadata": {
    "colab": {},
    "colab_type": "code",
    "id": "aGmRyFAK4SB6"
   },
   "outputs": [],
   "source": [
    "raw_data = raw_data[['Transactions per Block', 'Total Transactions',\n",
    "       'Avg. UTXO Value', 'Hash Rate', 'Metcalfe\\'s Law - UTXO',\n",
    "       'Chain Value Density', 'Transaction Fees', 'Difficulty', \n",
    "       'Metcalfe\\'s Law - TX', 'Fees Value', 'Fee Percentage', \n",
    "       'Transaction Value', 'Market Capitalization', 'Miner Revenue',\n",
    "       'Daily Transactions', 'Block Size', 'UTXO Set Size', \n",
    "       'Miner Revenue Value', 'Block Height','Blockchain Size', \n",
    "       'Money Supply', 'Output Value', 'Bitcoin Core (BTC) Price']]"
   ]
  },
  {
   "cell_type": "markdown",
   "metadata": {
    "colab_type": "text",
    "id": "3Pc8NQYG6zRJ"
   },
   "source": [
    "Second try: >= 0.2"
   ]
  },
  {
   "cell_type": "code",
   "execution_count": 0,
   "metadata": {
    "colab": {
     "base_uri": "https://localhost:8080/",
     "height": 34
    },
    "colab_type": "code",
    "id": "sAIncH-w6bE5",
    "outputId": "44ff9b8a-b102-473a-aae5-a06d7e23157c"
   },
   "outputs": [
    {
     "data": {
      "text/plain": [
       "(3258, 22)"
      ]
     },
     "execution_count": 42,
     "metadata": {
      "tags": []
     },
     "output_type": "execute_result"
    }
   ],
   "source": [
    "# raw_data = raw_data[['Velocity - Daily', 'Transactions per Block', 'Total Transactions',\n",
    "#        'Avg. UTXO Value', 'Hash Rate', 'Price Volatility',\n",
    "#        'Metcalfe's Law - UTXO', 'Inflation Rate', 'Chain Value Density',\n",
    "#        'Transaction Fees', 'Velocity of Money', 'Transaction Size',\n",
    "#        'Velocity - Quarterly', 'Difficulty', 'UTXO Growth',\n",
    "#        'Metcalfe's Law - TX', 'Fees Value', 'Fee Percentage', 'Daily Blocks',\n",
    "#        'Transaction Value', 'Market Capitalization', 'Miner Revenue',\n",
    "#        'Daily Transactions', 'Output Volume', 'Bitcoin Core (BTC) Price',\n",
    "#        'Annual Hash Growth', 'Transaction Amount', 'Block Size',\n",
    "#        'Block Interval', 'Two-Week Hash Growth', 'UTXO Set Size',\n",
    "#        'Avg. UTXO Amount', 'Miner Revenue Value', 'Block Height',\n",
    "#        'Blockchain Size', 'Money Supply', 'Quarterly Hash Growth', 'Fee Rate',\n",
    "#        'Output Value']]"
   ]
  },
  {
   "cell_type": "code",
   "execution_count": 0,
   "metadata": {
    "colab": {},
    "colab_type": "code",
    "id": "W4e8wDFY7Wgr"
   },
   "outputs": [],
   "source": [
    "raw_data.head()"
   ]
  },
  {
   "cell_type": "markdown",
   "metadata": {
    "colab_type": "text",
    "id": "5X2sgmFm4TiV"
   },
   "source": [
    "#### Splitting data"
   ]
  },
  {
   "cell_type": "code",
   "execution_count": 0,
   "metadata": {
    "colab": {
     "base_uri": "https://localhost:8080/",
     "height": 204
    },
    "colab_type": "code",
    "id": "ze0SNchR7GaY",
    "outputId": "cd0448de-cb1f-4535-fa29-6933f737139a"
   },
   "outputs": [
    {
     "name": "stdout",
     "output_type": "stream",
     "text": [
      "end\n",
      "3159\n",
      "training_data\n",
      "(2842, 100, 23)\n",
      "(2842, 99, 23)\n",
      "(2842,)\n",
      "(316, 99, 23)\n",
      "(316,)\n",
      "(316,)\n",
      "(316, 1)\n",
      "99\n"
     ]
    }
   ],
   "source": [
    "X_train, Y_train, X_test, Y_test, Y_daybefore, unnormalized_bases, window_size = load_data(raw_data, 100)\n",
    "print (X_train.shape)\n",
    "print (Y_train.shape)\n",
    "print (X_test.shape)\n",
    "print (Y_test.shape)\n",
    "print (Y_daybefore.shape)\n",
    "print (unnormalized_bases.shape)\n",
    "print (window_size)"
   ]
  },
  {
   "cell_type": "code",
   "execution_count": 0,
   "metadata": {
    "colab": {},
    "colab_type": "code",
    "id": "IhEFbO8doz10"
   },
   "outputs": [],
   "source": [
    "# X_train, Y_train, X_test, Y_test, Y_daybefore, unnormalized_bases, window_size = load_data2(\"./Bitcoin Data.csv\", 50)\n",
    "# print (X_train.shape)\n",
    "# print (Y_train.shape)\n",
    "# print (X_test.shape)\n",
    "# print (Y_test.shape)\n",
    "# print (Y_daybefore.shape)\n",
    "# print (unnormalized_bases.shape)\n",
    "# print (window_size)"
   ]
  },
  {
   "cell_type": "code",
   "execution_count": 0,
   "metadata": {
    "colab": {
     "base_uri": "https://localhost:8080/",
     "height": 34
    },
    "colab_type": "code",
    "id": "vww5N735pP3S",
    "outputId": "ef5ea6be-dd73-4d01-8e4f-60f08d904bf9"
   },
   "outputs": [
    {
     "data": {
      "text/plain": [
       "(2717, 35)"
      ]
     },
     "execution_count": 65,
     "metadata": {
      "tags": []
     },
     "output_type": "execute_result"
    }
   ],
   "source": [
    "df = pd.read_csv('./Bitcoin Data.csv')\n",
    "df.shape"
   ]
  },
  {
   "cell_type": "markdown",
   "metadata": {
    "colab_type": "text",
    "id": "8GFjcR1lCUpV"
   },
   "source": [
    "#### Model"
   ]
  },
  {
   "cell_type": "code",
   "execution_count": 0,
   "metadata": {
    "colab": {
     "base_uri": "https://localhost:8080/",
     "height": 391
    },
    "colab_type": "code",
    "id": "ZQyqTqF9CRB8",
    "outputId": "06fa77de-18e9-4257-e05d-74c70ec377d4"
   },
   "outputs": [
    {
     "name": "stdout",
     "output_type": "stream",
     "text": [
      "_________________________________________________________________\n",
      "Layer (type)                 Output Shape              Param #   \n",
      "=================================================================\n",
      "bidirectional_7 (Bidirection (None, 99, 198)           97416     \n",
      "_________________________________________________________________\n",
      "dropout_5 (Dropout)          (None, 99, 198)           0         \n",
      "_________________________________________________________________\n",
      "bidirectional_8 (Bidirection (None, 99, 396)           628848    \n",
      "_________________________________________________________________\n",
      "dropout_6 (Dropout)          (None, 99, 396)           0         \n",
      "_________________________________________________________________\n",
      "bidirectional_9 (Bidirection (None, 198)               392832    \n",
      "_________________________________________________________________\n",
      "dense_3 (Dense)              (None, 1)                 199       \n",
      "_________________________________________________________________\n",
      "activation_3 (Activation)    (None, 1)                 0         \n",
      "=================================================================\n",
      "Total params: 1,119,295\n",
      "Trainable params: 1,119,295\n",
      "Non-trainable params: 0\n",
      "_________________________________________________________________\n",
      "None\n"
     ]
    }
   ],
   "source": [
    "model = initialize_model(window_size, 0.2, 'linear', 'mse', 'adam')\n",
    "print (model.summary())"
   ]
  },
  {
   "cell_type": "markdown",
   "metadata": {
    "colab_type": "text",
    "id": "38dP_3XPCWOq"
   },
   "source": [
    "Train model"
   ]
  },
  {
   "cell_type": "code",
   "execution_count": 0,
   "metadata": {
    "colab": {
     "base_uri": "https://localhost:8080/",
     "height": 1000
    },
    "colab_type": "code",
    "id": "i8g0DaQdCZiE",
    "outputId": "d08d3e4d-5575-4c70-e7d7-0db1279ebfa2"
   },
   "outputs": [
    {
     "name": "stderr",
     "output_type": "stream",
     "text": [
      "/usr/local/lib/python3.6/dist-packages/ipykernel_launcher.py:21: UserWarning: The `nb_epoch` argument in `fit` has been renamed `epochs`.\n"
     ]
    },
    {
     "name": "stdout",
     "output_type": "stream",
     "text": [
      "Train on 2699 samples, validate on 143 samples\n",
      "Epoch 1/100\n",
      "2699/2699 [==============================] - 10s 4ms/step - loss: 8.3840 - val_loss: 10.8191\n",
      "Epoch 2/100\n",
      "2699/2699 [==============================] - 4s 1ms/step - loss: 5.7405 - val_loss: 8.4481\n",
      "Epoch 3/100\n",
      "2699/2699 [==============================] - 4s 1ms/step - loss: 4.1435 - val_loss: 6.5820\n",
      "Epoch 4/100\n",
      "2699/2699 [==============================] - 4s 1ms/step - loss: 3.2620 - val_loss: 5.1513\n",
      "Epoch 5/100\n",
      "2699/2699 [==============================] - 4s 1ms/step - loss: 2.5516 - val_loss: 4.0860\n",
      "Epoch 6/100\n",
      "2699/2699 [==============================] - 4s 1ms/step - loss: 1.7167 - val_loss: 2.3668\n",
      "Epoch 7/100\n",
      "2699/2699 [==============================] - 4s 1ms/step - loss: 1.2858 - val_loss: 1.2750\n",
      "Epoch 8/100\n",
      "2699/2699 [==============================] - 4s 1ms/step - loss: 0.9531 - val_loss: 0.4907\n",
      "Epoch 9/100\n",
      "2699/2699 [==============================] - 4s 1ms/step - loss: 0.7009 - val_loss: 0.5135\n",
      "Epoch 10/100\n",
      "2699/2699 [==============================] - 4s 1ms/step - loss: 0.6027 - val_loss: 0.3149\n",
      "Epoch 11/100\n",
      "2699/2699 [==============================] - 4s 1ms/step - loss: 0.4523 - val_loss: 0.3654\n",
      "Epoch 12/100\n",
      "2699/2699 [==============================] - 4s 1ms/step - loss: 0.4005 - val_loss: 0.2465\n",
      "Epoch 13/100\n",
      "2699/2699 [==============================] - 4s 1ms/step - loss: 0.3747 - val_loss: 0.2409\n",
      "Epoch 14/100\n",
      "2699/2699 [==============================] - 4s 1ms/step - loss: 0.3470 - val_loss: 0.1803\n",
      "Epoch 15/100\n",
      "2699/2699 [==============================] - 4s 1ms/step - loss: 0.2665 - val_loss: 0.1941\n",
      "Epoch 16/100\n",
      "2699/2699 [==============================] - 4s 1ms/step - loss: 0.2433 - val_loss: 0.2067\n",
      "Epoch 17/100\n",
      "2699/2699 [==============================] - 4s 1ms/step - loss: 0.2286 - val_loss: 0.1776\n",
      "Epoch 18/100\n",
      "2699/2699 [==============================] - 4s 1ms/step - loss: 0.2347 - val_loss: 0.1639\n",
      "Epoch 19/100\n",
      "2699/2699 [==============================] - 4s 1ms/step - loss: 0.1949 - val_loss: 0.1580\n",
      "Epoch 20/100\n",
      "2699/2699 [==============================] - 4s 1ms/step - loss: 0.1857 - val_loss: 0.2071\n",
      "Epoch 21/100\n",
      "2699/2699 [==============================] - 4s 1ms/step - loss: 0.1757 - val_loss: 0.1768\n",
      "Epoch 22/100\n",
      "2699/2699 [==============================] - 4s 2ms/step - loss: 0.1713 - val_loss: 0.1364\n",
      "Epoch 23/100\n",
      "2699/2699 [==============================] - 4s 2ms/step - loss: 0.1817 - val_loss: 0.2400\n",
      "Epoch 24/100\n",
      "2699/2699 [==============================] - 4s 1ms/step - loss: 0.1626 - val_loss: 0.1301\n",
      "Epoch 25/100\n",
      "2699/2699 [==============================] - 4s 1ms/step - loss: 0.1881 - val_loss: 0.1299\n",
      "Epoch 26/100\n",
      "2699/2699 [==============================] - 4s 1ms/step - loss: 0.1766 - val_loss: 0.2747\n",
      "Epoch 27/100\n",
      "2699/2699 [==============================] - 4s 1ms/step - loss: 0.1575 - val_loss: 0.1645\n",
      "Epoch 28/100\n",
      "2699/2699 [==============================] - 4s 1ms/step - loss: 0.1456 - val_loss: 0.1966\n",
      "Epoch 29/100\n",
      "2699/2699 [==============================] - 4s 1ms/step - loss: 0.1534 - val_loss: 0.1738\n",
      "Epoch 30/100\n",
      "2699/2699 [==============================] - 4s 1ms/step - loss: 0.1393 - val_loss: 0.1472\n",
      "Epoch 31/100\n",
      "2699/2699 [==============================] - 4s 1ms/step - loss: 0.1321 - val_loss: 0.1302\n",
      "Epoch 32/100\n",
      "2699/2699 [==============================] - 4s 1ms/step - loss: 0.1114 - val_loss: 0.1735\n",
      "Epoch 33/100\n",
      "2699/2699 [==============================] - 4s 1ms/step - loss: 0.1145 - val_loss: 0.2418\n",
      "Epoch 34/100\n",
      "2699/2699 [==============================] - 4s 1ms/step - loss: 0.1121 - val_loss: 0.1355\n",
      "Epoch 35/100\n",
      "2699/2699 [==============================] - 4s 1ms/step - loss: 0.1178 - val_loss: 0.2110\n",
      "Epoch 36/100\n",
      "2699/2699 [==============================] - 4s 1ms/step - loss: 0.1101 - val_loss: 0.1911\n",
      "Epoch 37/100\n",
      "2699/2699 [==============================] - 4s 1ms/step - loss: 0.0957 - val_loss: 0.1588\n",
      "Epoch 38/100\n",
      "2699/2699 [==============================] - 4s 1ms/step - loss: 0.0948 - val_loss: 0.1443\n",
      "Epoch 39/100\n",
      "2699/2699 [==============================] - 4s 1ms/step - loss: 0.0881 - val_loss: 0.1778\n",
      "Epoch 40/100\n",
      "2699/2699 [==============================] - 4s 1ms/step - loss: 0.0885 - val_loss: 0.1626\n",
      "Epoch 41/100\n",
      "2699/2699 [==============================] - 4s 1ms/step - loss: 0.0838 - val_loss: 0.1545\n",
      "Epoch 42/100\n",
      "2699/2699 [==============================] - 4s 1ms/step - loss: 0.0785 - val_loss: 0.1646\n",
      "Epoch 43/100\n",
      "2699/2699 [==============================] - 4s 1ms/step - loss: 0.0765 - val_loss: 0.1683\n",
      "Epoch 44/100\n",
      "2699/2699 [==============================] - 4s 1ms/step - loss: 0.0737 - val_loss: 0.1656\n",
      "Epoch 45/100\n",
      "2699/2699 [==============================] - 4s 1ms/step - loss: 0.0742 - val_loss: 0.1280\n",
      "Epoch 46/100\n",
      "2699/2699 [==============================] - 4s 1ms/step - loss: 0.0717 - val_loss: 0.1333\n",
      "Epoch 47/100\n",
      "2699/2699 [==============================] - 4s 1ms/step - loss: 0.0708 - val_loss: 0.1077\n",
      "Epoch 48/100\n",
      "2699/2699 [==============================] - 4s 1ms/step - loss: 0.0677 - val_loss: 0.0802\n",
      "Epoch 49/100\n",
      "2699/2699 [==============================] - 4s 1ms/step - loss: 0.0659 - val_loss: 0.1519\n",
      "Epoch 50/100\n",
      "2699/2699 [==============================] - 4s 1ms/step - loss: 0.0716 - val_loss: 0.1060\n",
      "Epoch 51/100\n",
      "2699/2699 [==============================] - 4s 1ms/step - loss: 0.0674 - val_loss: 0.1699\n",
      "Epoch 52/100\n",
      "2699/2699 [==============================] - 4s 1ms/step - loss: 0.0691 - val_loss: 0.1158\n",
      "Epoch 53/100\n",
      "2699/2699 [==============================] - 4s 1ms/step - loss: 0.0647 - val_loss: 0.1461\n",
      "Epoch 54/100\n",
      "2699/2699 [==============================] - 4s 1ms/step - loss: 0.0571 - val_loss: 0.2168\n",
      "Epoch 55/100\n",
      "2699/2699 [==============================] - 4s 1ms/step - loss: 0.0553 - val_loss: 0.1646\n",
      "Epoch 56/100\n",
      "2699/2699 [==============================] - 4s 1ms/step - loss: 0.0572 - val_loss: 0.1546\n",
      "Epoch 57/100\n",
      "2699/2699 [==============================] - 4s 1ms/step - loss: 0.0524 - val_loss: 0.2457\n",
      "Epoch 58/100\n",
      "2699/2699 [==============================] - 4s 1ms/step - loss: 0.0571 - val_loss: 0.1303\n",
      "Epoch 59/100\n",
      "2699/2699 [==============================] - 4s 1ms/step - loss: 0.0567 - val_loss: 0.2041\n",
      "Epoch 60/100\n",
      "2699/2699 [==============================] - 4s 1ms/step - loss: 0.0542 - val_loss: 0.1332\n",
      "Epoch 61/100\n",
      "2699/2699 [==============================] - 4s 1ms/step - loss: 0.0522 - val_loss: 0.1685\n",
      "Epoch 62/100\n",
      "2699/2699 [==============================] - 4s 1ms/step - loss: 0.0478 - val_loss: 0.1763\n",
      "Epoch 63/100\n",
      "2699/2699 [==============================] - 4s 1ms/step - loss: 0.0471 - val_loss: 0.1666\n",
      "Epoch 64/100\n",
      "2699/2699 [==============================] - 4s 1ms/step - loss: 0.0499 - val_loss: 0.1666\n",
      "Epoch 65/100\n",
      "2699/2699 [==============================] - 4s 1ms/step - loss: 0.0462 - val_loss: 0.1522\n",
      "Epoch 66/100\n",
      "2699/2699 [==============================] - 4s 1ms/step - loss: 0.0436 - val_loss: 0.1259\n",
      "Epoch 67/100\n",
      "2699/2699 [==============================] - 4s 1ms/step - loss: 0.0406 - val_loss: 0.1835\n",
      "Epoch 68/100\n",
      "2699/2699 [==============================] - 4s 1ms/step - loss: 0.0410 - val_loss: 0.1604\n",
      "Epoch 69/100\n",
      "2699/2699 [==============================] - 4s 1ms/step - loss: 0.0425 - val_loss: 0.2758\n",
      "Epoch 70/100\n",
      "2699/2699 [==============================] - 4s 1ms/step - loss: 0.0449 - val_loss: 0.1538\n",
      "Epoch 71/100\n",
      "2699/2699 [==============================] - 4s 1ms/step - loss: 0.0452 - val_loss: 0.1547\n",
      "Epoch 72/100\n",
      "2699/2699 [==============================] - 4s 1ms/step - loss: 0.0361 - val_loss: 0.1552\n",
      "Epoch 73/100\n",
      "2699/2699 [==============================] - 4s 1ms/step - loss: 0.0404 - val_loss: 0.1560\n",
      "Epoch 74/100\n",
      "2699/2699 [==============================] - 4s 1ms/step - loss: 0.0401 - val_loss: 0.1716\n",
      "Epoch 75/100\n",
      "2699/2699 [==============================] - 4s 1ms/step - loss: 0.0389 - val_loss: 0.1602\n",
      "Epoch 76/100\n",
      "2699/2699 [==============================] - 4s 1ms/step - loss: 0.0352 - val_loss: 0.1718\n",
      "Epoch 77/100\n",
      "2699/2699 [==============================] - 4s 1ms/step - loss: 0.0375 - val_loss: 0.1707\n",
      "Epoch 78/100\n",
      "2699/2699 [==============================] - 4s 1ms/step - loss: 0.0344 - val_loss: 0.2135\n",
      "Epoch 79/100\n",
      "2699/2699 [==============================] - 4s 1ms/step - loss: 0.0348 - val_loss: 0.2211\n",
      "Epoch 80/100\n",
      "2699/2699 [==============================] - 4s 1ms/step - loss: 0.0353 - val_loss: 0.2253\n",
      "Epoch 81/100\n",
      "2699/2699 [==============================] - 4s 1ms/step - loss: 0.0341 - val_loss: 0.1978\n",
      "Epoch 82/100\n",
      "2699/2699 [==============================] - 4s 1ms/step - loss: 0.0330 - val_loss: 0.1837\n",
      "Epoch 83/100\n",
      "2699/2699 [==============================] - 4s 1ms/step - loss: 0.0340 - val_loss: 0.1801\n",
      "Epoch 84/100\n",
      "2699/2699 [==============================] - 4s 1ms/step - loss: 0.0332 - val_loss: 0.1852\n",
      "Epoch 85/100\n",
      "2699/2699 [==============================] - 4s 1ms/step - loss: 0.0325 - val_loss: 0.1716\n",
      "Epoch 86/100\n",
      "2699/2699 [==============================] - 4s 1ms/step - loss: 0.0295 - val_loss: 0.2186\n",
      "Epoch 87/100\n",
      "2699/2699 [==============================] - 4s 1ms/step - loss: 0.0299 - val_loss: 0.2282\n",
      "Epoch 88/100\n",
      "2699/2699 [==============================] - 4s 1ms/step - loss: 0.0308 - val_loss: 0.2196\n",
      "Epoch 89/100\n",
      "2699/2699 [==============================] - 4s 1ms/step - loss: 0.0307 - val_loss: 0.2087\n",
      "Epoch 90/100\n",
      "2699/2699 [==============================] - 4s 1ms/step - loss: 0.0296 - val_loss: 0.2634\n",
      "Epoch 91/100\n",
      "2699/2699 [==============================] - 4s 1ms/step - loss: 0.0293 - val_loss: 0.1921\n",
      "Epoch 92/100\n",
      "2699/2699 [==============================] - 4s 1ms/step - loss: 0.0312 - val_loss: 0.2084\n",
      "Epoch 93/100\n",
      "2699/2699 [==============================] - 4s 1ms/step - loss: 0.0300 - val_loss: 0.2293\n",
      "Epoch 94/100\n",
      "2699/2699 [==============================] - 4s 1ms/step - loss: 0.0284 - val_loss: 0.1853\n",
      "Epoch 95/100\n",
      "2699/2699 [==============================] - 4s 1ms/step - loss: 0.0276 - val_loss: 0.2398\n",
      "Epoch 96/100\n",
      "2699/2699 [==============================] - 4s 1ms/step - loss: 0.0271 - val_loss: 0.2170\n",
      "Epoch 97/100\n",
      "2699/2699 [==============================] - 4s 1ms/step - loss: 0.0254 - val_loss: 0.1944\n",
      "Epoch 98/100\n",
      "2699/2699 [==============================] - 4s 1ms/step - loss: 0.0237 - val_loss: 0.2537\n",
      "Epoch 99/100\n",
      "2699/2699 [==============================] - 4s 1ms/step - loss: 0.0250 - val_loss: 0.2280\n",
      "Epoch 100/100\n",
      "2699/2699 [==============================] - 4s 1ms/step - loss: 0.0251 - val_loss: 0.2414\n",
      "Training time 373 seconds\n"
     ]
    }
   ],
   "source": [
    "model, training_time = fit_model(model, X_train, Y_train, 1024, 100, .05)\n",
    "\n",
    "#Print the training time\n",
    "print (\"Training time\", training_time, \"seconds\")"
   ]
  },
  {
   "cell_type": "markdown",
   "metadata": {
    "colab_type": "text",
    "id": "y7FxJ_DUCtor"
   },
   "source": []
  },
  {
   "cell_type": "code",
   "execution_count": 0,
   "metadata": {
    "colab": {
     "base_uri": "https://localhost:8080/",
     "height": 370
    },
    "colab_type": "code",
    "id": "MbYWoZv5Ct_K",
    "outputId": "b6cc940b-d94e-47e7-c791-7b9b0e905438"
   },
   "outputs": [
    {
     "data": {
      "image/png": "[encoded data removed]",
      "text/plain": [
       "<Figure size 720x360 with 1 Axes>"
      ]
     },
     "metadata": {
      "tags": []
     },
     "output_type": "display_data"
    }
   ],
   "source": [
    "y_predict, real_y_test, real_y_predict, fig1 = test_model(model, X_test, Y_test, unnormalized_bases)\n",
    "\n",
    "#Show the plot\n",
    "plt.show(fig1)"
   ]
  },
  {
   "cell_type": "markdown",
   "metadata": {
    "colab_type": "text",
    "id": "JsKt12isCvA6"
   },
   "source": []
  },
  {
   "cell_type": "code",
   "execution_count": 0,
   "metadata": {
    "colab": {
     "base_uri": "https://localhost:8080/",
     "height": 404
    },
    "colab_type": "code",
    "id": "ywK5pjS8Cuok",
    "outputId": "b3b4183e-da31-4c51-c0b2-0f14532d4907"
   },
   "outputs": [
    {
     "data": {
      "image/png": "[encoded data removed]",
      "text/plain": [
       "<Figure size 720x432 with 1 Axes>"
      ]
     },
     "metadata": {
      "tags": []
     },
     "output_type": "display_data"
    }
   ],
   "source": [
    "Y_daybefore, Y_test, delta_predict, delta_real, fig2 = price_change(Y_daybefore, Y_test, y_predict)\n",
    "\n",
    "#Show the plot\n",
    "plt.show(fig2)"
   ]
  },
  {
   "cell_type": "markdown",
   "metadata": {
    "colab_type": "text",
    "id": "Ys5-mSnWCxfO"
   },
   "source": []
  },
  {
   "cell_type": "code",
   "execution_count": 0,
   "metadata": {
    "colab": {
     "base_uri": "https://localhost:8080/",
     "height": 51
    },
    "colab_type": "code",
    "id": "OB_in48QCw_0",
    "outputId": "12de5f39-30c4-4683-bff6-0913e7fd3e10"
   },
   "outputs": [
    {
     "name": "stdout",
     "output_type": "stream",
     "text": [
      "(316, 1)\n",
      "(316, 1)\n"
     ]
    }
   ],
   "source": [
    "delta_predict_1_0, delta_real_1_0 = binary_price(delta_predict, delta_real)\n",
    "\n",
    "print (delta_predict_1_0.shape)\n",
    "print (delta_real_1_0.shape)"
   ]
  },
  {
   "cell_type": "markdown",
   "metadata": {
    "colab_type": "text",
    "id": "rHl__S1tC0kO"
   },
   "source": []
  },
  {
   "cell_type": "code",
   "execution_count": 0,
   "metadata": {
    "colab": {
     "base_uri": "https://localhost:8080/",
     "height": 85
    },
    "colab_type": "code",
    "id": "_fwDfH15C07r",
    "outputId": "bb23a9da-5cff-4b7d-960f-ee06a4d1d32b"
   },
   "outputs": [
    {
     "name": "stdout",
     "output_type": "stream",
     "text": [
      "True positives: 130\n",
      "False positives: 122\n",
      "True negatives: 28\n",
      "False negatives: 36\n"
     ]
    }
   ],
   "source": [
    "true_pos, false_pos, true_neg, false_neg = find_positives_negatives(delta_predict_1_0, delta_real_1_0)\n",
    "print (\"True positives:\", true_pos)\n",
    "print (\"False positives:\", false_pos)\n",
    "print (\"True negatives:\", true_neg)\n",
    "print (\"False negatives:\", false_neg)"
   ]
  },
  {
   "cell_type": "markdown",
   "metadata": {
    "colab_type": "text",
    "id": "eCYPxHKeC3iF"
   },
   "source": []
  },
  {
   "cell_type": "code",
   "execution_count": 0,
   "metadata": {
    "colab": {
     "base_uri": "https://localhost:8080/",
     "height": 85
    },
    "colab_type": "code",
    "id": "CwWxiK0iC3Ei",
    "outputId": "ea318f26-2cdc-4765-f527-098d6318846a"
   },
   "outputs": [
    {
     "name": "stdout",
     "output_type": "stream",
     "text": [
      "Precision: 0.5158730158730159\n",
      "Recall: 0.7831325301204819\n",
      "F1 score: 0.6220095693779906\n",
      "Mean Squared Error: 0.02486651323723192\n"
     ]
    }
   ],
   "source": [
    "precision, recall, F1, MSE = calculate_statistics(true_pos, false_pos, true_neg, false_neg, y_predict, Y_test)\n",
    "print (\"Precision:\", precision)\n",
    "print (\"Recall:\", recall)\n",
    "print (\"F1 score:\", F1)\n",
    "print (\"Mean Squared Error:\", MSE)"
   ]
  },
  {
   "cell_type": "code",
   "execution_count": 0,
   "metadata": {
    "colab": {},
    "colab_type": "code",
    "id": "Xtm_DwlmEpPw"
   },
   "outputs": [],
   "source": []
  }
 ],
 "metadata": {
  "accelerator": "GPU",
  "colab": {
   "collapsed_sections": [
    "l1dczOQr6Rtv",
    "EqwQ-Wpm6fPn",
    "fwK7Te9S6k6P",
    "YTpmEUpS6o5Y",
    "FCZpPbMC6xLe",
    "LdJOPn_a628k",
    "2gQBix9nv7Nw",
    "uNJ0e_-8TKe4",
    "2u6GHBkIJE2J"
   ],
   "name": "Copy of data (7/9).ipynb",
   "provenance": [],
   "version": "0.3.2"
  },
  "kernelspec": {
   "display_name": "Python 3",
   "language": "python",
   "name": "python3"
  },
  "language_info": {
   "codemirror_mode": {
    "name": "ipython",
    "version": 3
   },
   "file_extension": ".py",
   "mimetype": "text/x-python",
   "name": "python",
   "nbconvert_exporter": "python",
   "pygments_lexer": "ipython3",
   "version": "3.6.5"
  }
 },
 "nbformat": 4,
 "nbformat_minor": 1
}
