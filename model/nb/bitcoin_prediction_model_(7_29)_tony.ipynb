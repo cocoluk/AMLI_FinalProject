{
 "cells": [
  {
   "cell_type": "markdown",
   "metadata": {
    "colab_type": "text",
    "id": "aIHND-b7JaHJ"
   },
   "source": [
    "**7/9:** Able to get Google News data using API\n",
    "\n",
    "**7/10:** Read articles about models using RNN & LSTM to predict stock/cryptocurrency prices\n",
    "\n",
    "**7/11:** Applied an existing model to Bitcoin daily price data and got F1 score around 0.52; no improvement with larger historical data\n"
   ]
  },
  {
   "cell_type": "markdown",
   "metadata": {
    "colab_type": "text",
    "id": "V99W-z6yu3Vk"
   },
   "source": [
    "# Bitcoin Price Prediction\n"
   ]
  },
  {
   "cell_type": "markdown",
   "metadata": {
    "colab_type": "text",
    "id": "MWiAWRct5-y1"
   },
   "source": [
    "## Model"
   ]
  },
  {
   "cell_type": "markdown",
   "metadata": {
    "colab_type": "text",
    "id": "ulZZEVfl5BOQ"
   },
   "source": [
    "Adopted code from Jerry Wei"
   ]
  },
  {
   "cell_type": "code",
   "execution_count": 65,
   "metadata": {
    "scrolled": true
   },
   "outputs": [
    {
     "name": "stdout",
     "output_type": "stream",
     "text": [
      "Requirement already satisfied: keras in /home/anthony/anaconda3/lib/python3.7/site-packages (2.2.4)\n",
      "Requirement already satisfied: h5py in /home/anthony/anaconda3/lib/python3.7/site-packages (from keras) (2.9.0)\n",
      "Requirement already satisfied: six>=1.9.0 in /home/anthony/anaconda3/lib/python3.7/site-packages (from keras) (1.12.0)\n",
      "Requirement already satisfied: scipy>=0.14 in /home/anthony/anaconda3/lib/python3.7/site-packages (from keras) (1.3.0)\n",
      "Requirement already satisfied: keras-applications>=1.0.6 in /home/anthony/anaconda3/lib/python3.7/site-packages (from keras) (1.0.8)\n",
      "Requirement already satisfied: keras-preprocessing>=1.0.5 in /home/anthony/anaconda3/lib/python3.7/site-packages (from keras) (1.1.0)\n",
      "Requirement already satisfied: numpy>=1.9.1 in /home/anthony/anaconda3/lib/python3.7/site-packages (from keras) (1.16.4)\n",
      "Requirement already satisfied: pyyaml in /home/anthony/anaconda3/lib/python3.7/site-packages (from keras) (5.1)\n",
      "Note: you may need to restart the kernel to use updated packages.\n"
     ]
    }
   ],
   "source": [
    "pip install keras\n"
   ]
  },
  {
   "cell_type": "code",
   "execution_count": 66,
   "metadata": {},
   "outputs": [
    {
     "name": "stdout",
     "output_type": "stream",
     "text": [
      "Requirement already satisfied: tensorflow in /home/anthony/anaconda3/lib/python3.7/site-packages (1.14.0)\n",
      "Requirement already satisfied: keras-applications>=1.0.6 in /home/anthony/anaconda3/lib/python3.7/site-packages (from tensorflow) (1.0.8)\n",
      "Requirement already satisfied: astor>=0.6.0 in /home/anthony/anaconda3/lib/python3.7/site-packages (from tensorflow) (0.8.0)\n",
      "Requirement already satisfied: six>=1.10.0 in /home/anthony/anaconda3/lib/python3.7/site-packages (from tensorflow) (1.12.0)\n",
      "Requirement already satisfied: tensorboard<1.15.0,>=1.14.0 in /home/anthony/anaconda3/lib/python3.7/site-packages (from tensorflow) (1.14.0)\n",
      "Requirement already satisfied: grpcio>=1.8.6 in /home/anthony/anaconda3/lib/python3.7/site-packages (from tensorflow) (1.22.0)\n",
      "Requirement already satisfied: numpy<2.0,>=1.14.5 in /home/anthony/anaconda3/lib/python3.7/site-packages (from tensorflow) (1.16.4)\n",
      "Requirement already satisfied: protobuf>=3.6.1 in /home/anthony/anaconda3/lib/python3.7/site-packages (from tensorflow) (3.9.0)\n",
      "Requirement already satisfied: tensorflow-estimator<1.15.0rc0,>=1.14.0rc0 in /home/anthony/anaconda3/lib/python3.7/site-packages (from tensorflow) (1.14.0)\n",
      "Requirement already satisfied: termcolor>=1.1.0 in /home/anthony/anaconda3/lib/python3.7/site-packages (from tensorflow) (1.1.0)\n",
      "Requirement already satisfied: gast>=0.2.0 in /home/anthony/anaconda3/lib/python3.7/site-packages (from tensorflow) (0.2.2)\n",
      "Requirement already satisfied: wheel>=0.26 in /home/anthony/anaconda3/lib/python3.7/site-packages (from tensorflow) (0.33.1)\n",
      "Requirement already satisfied: keras-preprocessing>=1.0.5 in /home/anthony/anaconda3/lib/python3.7/site-packages (from tensorflow) (1.1.0)\n",
      "Requirement already satisfied: google-pasta>=0.1.6 in /home/anthony/anaconda3/lib/python3.7/site-packages (from tensorflow) (0.1.7)\n",
      "Requirement already satisfied: wrapt>=1.11.1 in /home/anthony/anaconda3/lib/python3.7/site-packages (from tensorflow) (1.11.1)\n",
      "Requirement already satisfied: absl-py>=0.7.0 in /home/anthony/anaconda3/lib/python3.7/site-packages (from tensorflow) (0.7.1)\n",
      "Requirement already satisfied: h5py in /home/anthony/anaconda3/lib/python3.7/site-packages (from keras-applications>=1.0.6->tensorflow) (2.9.0)\n",
      "Requirement already satisfied: setuptools>=41.0.0 in /home/anthony/anaconda3/lib/python3.7/site-packages (from tensorboard<1.15.0,>=1.14.0->tensorflow) (41.0.1)\n",
      "Requirement already satisfied: werkzeug>=0.11.15 in /home/anthony/anaconda3/lib/python3.7/site-packages (from tensorboard<1.15.0,>=1.14.0->tensorflow) (0.14.1)\n",
      "Requirement already satisfied: markdown>=2.6.8 in /home/anthony/anaconda3/lib/python3.7/site-packages (from tensorboard<1.15.0,>=1.14.0->tensorflow) (3.1.1)\n",
      "Note: you may need to restart the kernel to use updated packages.\n"
     ]
    }
   ],
   "source": [
    "pip install tensorflow"
   ]
  },
  {
   "cell_type": "code",
   "execution_count": 67,
   "metadata": {
    "colab": {
     "base_uri": "https://localhost:8080/",
     "height": 34
    },
    "colab_type": "code",
    "id": "iOJyrbl2xl2g",
    "outputId": "76d69153-1343-491d-f51b-20f49dacf399"
   },
   "outputs": [],
   "source": [
    "from keras.layers.core import Dense, Activation, Dropout\n",
    "from keras.layers.recurrent import LSTM\n",
    "from keras.layers import Bidirectional\n",
    "from keras.models import Sequential\n",
    "from sklearn.metrics import mean_squared_error\n",
    "from sklearn.preprocessing import MinMaxScaler\n",
    "import time\n",
    "import numpy as np\n",
    "import matplotlib.pyplot as plt\n",
    "import pandas as pd\n",
    "import math\n",
    "from datetime import datetime as dt"
   ]
  },
  {
   "cell_type": "markdown",
   "metadata": {
    "colab_type": "text",
    "id": "CoVDGhXe5wFy"
   },
   "source": [
    "#### Load Data"
   ]
  },
  {
   "cell_type": "code",
   "execution_count": 68,
   "metadata": {
    "colab": {},
    "colab_type": "code",
    "id": "ORB7ETgnB5DC"
   },
   "outputs": [],
   "source": [
    "def load_data(filename, sequence_length):\n",
    "    \"\"\"\n",
    "    Loads the bitcoin data\n",
    "    \n",
    "    Arguments:\n",
    "    filename -- A string that represents where the .csv file can be located\n",
    "    sequence_length -- An integer of how many days should be looked at in a row\n",
    "    \n",
    "    Returns:\n",
    "    X_train -- A tensor of shape (2400, 49, 35) that will be inputed into the model to train it\n",
    "    Y_train -- A tensor of shape (2400,) that will be inputed into the model to train it\n",
    "    X_test -- A tensor of shape (267, 49, 35) that will be used to test the model's proficiency\n",
    "    Y_test -- A tensor of shape (267,) that will be used to check the model's predictions\n",
    "    Y_daybefore -- A tensor of shape (267,) that represents the price of bitcoin the day before each Y_test value\n",
    "    unnormalized_bases -- A tensor of shape (267,) that will be used to get the true prices from the normalized ones\n",
    "    window_size -- An integer that represents how many days of X values the model can look at at once\n",
    "    \"\"\"\n",
    "    #Read the data file\n",
    "    raw_data = filename.values\n",
    "    \n",
    "    #Change all zeros to the number before the zero occurs\n",
    "    for x in range(0, raw_data.shape[0]):\n",
    "        for y in range(0, raw_data.shape[1]):\n",
    "            if(raw_data[x][y] == 0):\n",
    "                raw_data[x][y] = raw_data[x-1][y]\n",
    "    \n",
    "    #Convert the file to a list\n",
    "    data = raw_data.tolist()\n",
    "    \n",
    "    #Convert the data to a 3D array (a x b x c) \n",
    "    #Where a is the number of days, b is the window size, and c is the number of features in the data file\n",
    "    result = []\n",
    "    for index in range(len(data) - sequence_length):\n",
    "        result.append(data[index: index + sequence_length])\n",
    "    \n",
    "    #Normalizing data by going through each window\n",
    "    #Every value in the window is divided by the first value in the window, and then 1 is subtracted\n",
    "    d0 = np.array(result)\n",
    "    dr = np.zeros_like(d0)\n",
    "    dr[:,1:,:] = d0[:,1:,:] / d0[:,0:1,:] - 1\n",
    "\n",
    "    # -------------------7/25 start-----------------------\n",
    "    # added minmaxscaler\n",
    "#     scaler = MinMaxScaler(feature_range=(-1, 1))\n",
    "#     for i in range(dr.shape[1]):\n",
    "#       dr[:,i,:] = scaler.fit_transform(dr[:,i,:])\n",
    "      \n",
    "#     temp = dr[:,1:,:]\n",
    "#     a,b,c = temp.shape\n",
    "#     temp = temp.reshape(a*b, c)\n",
    "#     temp = scaler.fit_transform(temp)\n",
    "#     dr[:,1:,:] = temp.reshape(a, b, c)\n",
    "    \n",
    "#     temp_dr = dr[int(split_line):, :-1]\n",
    "#     temp = training_data[:, :-1]\n",
    "#     a,b,c = temp_dr.shape\n",
    "#     temp_dr = temp_dr.reshape(a*b, c)\n",
    "#     temp_dr = scaler.fit_transform(temp_dr)\n",
    "#     X_test = temp_dr.reshape(a, b, c)\n",
    "    # -------------------7/25 end -----------------------\n",
    "\n",
    "\n",
    "    #Splitting data set into training (First 90% of data points) and testing data (last 10% of data points)\n",
    "    split_line = round(0.9 * dr.shape[0])\n",
    "    training_data = dr[:int(split_line), :]\n",
    "    \n",
    "    #Keeping the unnormalized prices for Y_test\n",
    "    #Useful when graphing bitcoin price over time later\n",
    "    start = training_data.shape[0] # number of data = 2842, consistent with X_train.shape[0]\n",
    "    end = int(dr.shape[0] + 1)\n",
    "    unnormalized_bases = d0[start:end,0:1,-1] # 20 : bitcoin price\n",
    "    \n",
    "    #Shuffle the data\n",
    "    np.random.seed(1)\n",
    "    np.random.shuffle(training_data)\n",
    "    \n",
    "    #Training Data\n",
    "    X_train = training_data[:, :-1] # -1\n",
    "    Y_train = training_data[:, -1]\n",
    "    Y_train = Y_train[:, -1] # 20\n",
    "    \n",
    "    #Testing data\n",
    "    X_test = dr[int(split_line):, :-1] # -1\n",
    "    Y_test = dr[int(split_line):, sequence_length-1, :] # 99\n",
    "    Y_test = Y_test[:, -1] # target column\n",
    "#     print(Y_test)\n",
    "    #Get the day before Y_test's price\n",
    "    Y_daybefore = dr[int(split_line):, sequence_length-2, :] # 98\n",
    "    Y_daybefore = Y_daybefore[:, -1] # target column\n",
    "    \n",
    "    #Get window size and sequence length\n",
    "    sequence_length = sequence_length\n",
    "    window_size = sequence_length - 1 #because the last value is reserved as the y value\n",
    "    \n",
    "    return X_train, Y_train, X_test, Y_test, Y_daybefore, unnormalized_bases, window_size"
   ]
  },
  {
   "cell_type": "markdown",
   "metadata": {
    "colab_type": "text",
    "id": "l1dczOQr6Rtv"
   },
   "source": [
    "#### Building the Model"
   ]
  },
  {
   "cell_type": "code",
   "execution_count": 69,
   "metadata": {
    "colab": {},
    "colab_type": "code",
    "id": "SO98KGsY6dG5"
   },
   "outputs": [],
   "source": [
    "def initialize_model(window_size, dropout_value, activation_function, loss_function, optimizer):\n",
    "    \"\"\"\n",
    "    Initializes and creates the model to be used\n",
    "    \n",
    "    Arguments:\n",
    "    window_size -- An integer that represents how many days of X_values the model can look at at once\n",
    "    dropout_value -- A decimal representing how much dropout should be incorporated at each level, in this case 0.2\n",
    "    activation_function -- A string to define the activation_function, in this case it is linear\n",
    "    loss_function -- A string to define the loss function to be used, in the case it is mean squared error\n",
    "    optimizer -- A string to define the optimizer to be used, in the case it is adam\n",
    "    \n",
    "    Returns:\n",
    "    model -- A 3 layer RNN with 100*dropout_value dropout in each layer that uses activation_function as its activation\n",
    "             function, loss_function as its loss function, and optimizer as its optimizer\n",
    "    \"\"\"\n",
    "    #Create a Sequential model using Keras\n",
    "    model = Sequential()\n",
    "\n",
    "    #First recurrent layer with dropout\n",
    "    model.add(Bidirectional(LSTM(window_size, return_sequences=True), input_shape=(window_size, X_train.shape[-1]),))\n",
    "    model.add(Dropout(dropout_value))\n",
    "\n",
    "    #Second recurrent layer with dropout\n",
    "    model.add(Bidirectional(LSTM((window_size*2), return_sequences=True)))\n",
    "    model.add(Dropout(dropout_value))\n",
    "\n",
    "    #Third recurrent layer\n",
    "    model.add(Bidirectional(LSTM(window_size, return_sequences=False)))\n",
    "\n",
    "    #Output layer (returns the predicted value)\n",
    "    model.add(Dense(units=1))\n",
    "    \n",
    "    #Set activation function\n",
    "    model.add(Activation(activation_function))\n",
    "\n",
    "    #Set loss function and optimizer\n",
    "    model.compile(loss=loss_function, optimizer=optimizer)\n",
    "    \n",
    "    return model"
   ]
  },
  {
   "cell_type": "markdown",
   "metadata": {
    "colab_type": "text",
    "id": "EqwQ-Wpm6fPn"
   },
   "source": [
    "#### Training the Model"
   ]
  },
  {
   "cell_type": "code",
   "execution_count": 70,
   "metadata": {
    "colab": {},
    "colab_type": "code",
    "id": "Y8Fqal5H6itd"
   },
   "outputs": [],
   "source": [
    "def fit_model(model, X_train, Y_train, batch_num, num_epoch, val_split):\n",
    "    \"\"\"\n",
    "    Fits the model to the training data\n",
    "    \n",
    "    Arguments:\n",
    "    model -- The previously initalized 3 layer Recurrent Neural Network\n",
    "    X_train -- A tensor of shape (2400, 49, 35) that represents the x values of the training data\n",
    "    Y_train -- A tensor of shape (2400,) that represents the y values of the training data\n",
    "    batch_num -- An integer representing the batch size to be used, in this case 1024\n",
    "    num_epoch -- An integer defining the number of epochs to be run, in this case 100\n",
    "    val_split -- A decimal representing the proportion of training data to be used as validation data\n",
    "    \n",
    "    Returns:\n",
    "    model -- The 3 layer Recurrent Neural Network that has been fitted to the training data\n",
    "    training_time -- An integer representing the amount of time (in seconds) that the model was training\n",
    "    \"\"\"\n",
    "    #Record the time the model starts training\n",
    "    start = time.time()\n",
    "\n",
    "    #Train the model on X_train and Y_train\n",
    "    model.fit(X_train, Y_train, batch_size= batch_num, nb_epoch=num_epoch, validation_split= val_split)\n",
    "\n",
    "    #Get the time it took to train the model (in seconds)\n",
    "    training_time = int(math.floor(time.time() - start))\n",
    "    return model, training_time"
   ]
  },
  {
   "cell_type": "markdown",
   "metadata": {
    "colab_type": "text",
    "id": "fwK7Te9S6k6P"
   },
   "source": [
    "#### Testing the Model"
   ]
  },
  {
   "cell_type": "code",
   "execution_count": 71,
   "metadata": {
    "colab": {},
    "colab_type": "code",
    "id": "JxE6OtmM6nM9"
   },
   "outputs": [],
   "source": [
    "def test_model(model, X_test, Y_test, unnormalized_bases):\n",
    "    \"\"\"\n",
    "    Test the model on the testing data\n",
    "    \n",
    "    Arguments:\n",
    "    model -- The previously fitted 3 layer Recurrent Neural Network\n",
    "    X_test -- A tensor of shape (267, 49, 35) that represents the x values of the testing data\n",
    "    Y_test -- A tensor of shape (267,) that represents the y values of the testing data\n",
    "    unnormalized_bases -- A tensor of shape (267,) that can be used to get unnormalized data points\n",
    "    \n",
    "    Returns:\n",
    "    y_predict -- A tensor of shape (267,) that represnts the normalized values that the model predicts based on X_test\n",
    "    real_y_test -- A tensor of shape (267,) that represents the actual prices of bitcoin throughout the testing period\n",
    "    real_y_predict -- A tensor of shape (267,) that represents the model's predicted prices of bitcoin\n",
    "    fig -- A branch of the graph of the real predicted prices of bitcoin versus the real prices of bitcoin\n",
    "    \"\"\"\n",
    "    #Test the model on X_Test\n",
    "    y_predict = model.predict(X_test)\n",
    "\n",
    "    #Create empty 2D arrays to store unnormalized values\n",
    "    real_y_test = np.zeros_like(Y_test)\n",
    "    real_y_predict = np.zeros_like(y_predict)\n",
    "\n",
    "    #Fill the 2D arrays with the real value and the predicted value by reversing the normalization process\n",
    "    for i in range(Y_test.shape[0]):\n",
    "        y = Y_test[i]\n",
    "        predict = y_predict[i]\n",
    "        real_y_test[i] = (y+1)*unnormalized_bases[i]\n",
    "        real_y_predict[i] = (predict+1)*unnormalized_bases[i]\n",
    "\n",
    "    #Plot of the predicted prices versus the real prices\n",
    "    fig = plt.figure(figsize=(10,5))\n",
    "    ax = fig.add_subplot(111)\n",
    "    ax.set_title(\"Bitcoin Price Over Time\")\n",
    "    plt.plot(real_y_predict, color = 'green', label = 'Predicted Price')\n",
    "    plt.plot(real_y_test, color = 'red', label = 'Real Price')\n",
    "    ax.set_ylabel(\"Price (USD)\")\n",
    "    ax.set_xlabel(\"Time (Days)\")\n",
    "    ax.legend()\n",
    "    \n",
    "    return y_predict, real_y_test, real_y_predict, fig"
   ]
  },
  {
   "cell_type": "markdown",
   "metadata": {
    "colab_type": "text",
    "id": "YTpmEUpS6o5Y"
   },
   "source": [
    "#### Evaluating Change in Price"
   ]
  },
  {
   "cell_type": "code",
   "execution_count": 72,
   "metadata": {
    "colab": {},
    "colab_type": "code",
    "id": "MhGp1G9c6uPC"
   },
   "outputs": [],
   "source": [
    "def price_change(Y_daybefore, Y_test, y_predict):\n",
    "    \"\"\"\n",
    "    Calculate the percent change between each value and the day before\n",
    "    \n",
    "    Arguments:\n",
    "    Y_daybefore -- A tensor of shape (267,) that represents the prices of each day before each price in Y_test\n",
    "    Y_test -- A tensor of shape (267,) that represents the normalized y values of the testing data\n",
    "    y_predict -- A tensor of shape (267,) that represents the normalized y values of the model's predictions\n",
    "    \n",
    "    Returns:\n",
    "    Y_daybefore -- A tensor of shape (267, 1) that represents the prices of each day before each price in Y_test\n",
    "    Y_test -- A tensor of shape (267, 1) that represents the normalized y values of the testing data\n",
    "    delta_predict -- A tensor of shape (267, 1) that represents the difference between predicted and day before values\n",
    "    delta_real -- A tensor of shape (267, 1) that represents the difference between real and day before values\n",
    "    fig -- A plot representing percent change in bitcoin price per day,\n",
    "    \"\"\"\n",
    "    #Reshaping Y_daybefore and Y_test\n",
    "    Y_daybefore = np.reshape(Y_daybefore, (-1, 1))\n",
    "    Y_test = np.reshape(Y_test, (-1, 1))\n",
    "\n",
    "    #The difference between each predicted value and the value from the day before\n",
    "    delta_predict = (y_predict - Y_daybefore) / (1+Y_daybefore)\n",
    "\n",
    "    #The difference between each true value and the value from the day before\n",
    "    delta_real = (Y_test - Y_daybefore) / (1+Y_daybefore)\n",
    "\n",
    "    #Plotting the predicted percent change versus the real percent change\n",
    "    fig = plt.figure(figsize=(10, 6))\n",
    "    ax = fig.add_subplot(111)\n",
    "    ax.set_title(\"Percent Change in Bitcoin Price Per Day\")\n",
    "    plt.plot(delta_predict, color='green', label = 'Predicted Percent Change')\n",
    "    plt.plot(delta_real, color='red', label = 'Real Percent Change')\n",
    "    plt.ylabel(\"Percent Change\")\n",
    "    plt.xlabel(\"Time (Days)\")\n",
    "    ax.legend()\n",
    "    plt.show()\n",
    "    \n",
    "    return Y_daybefore, Y_test, delta_predict, delta_real, fig"
   ]
  },
  {
   "cell_type": "markdown",
   "metadata": {
    "colab_type": "text",
    "id": "FCZpPbMC6xLe"
   },
   "source": [
    "#### Process the Percent Change in Price"
   ]
  },
  {
   "cell_type": "code",
   "execution_count": 73,
   "metadata": {
    "colab": {},
    "colab_type": "code",
    "id": "N-9eQCrD6vXL"
   },
   "outputs": [],
   "source": [
    "def binary_price(delta_predict, delta_real):\n",
    "    \"\"\"\n",
    "    Converts percent change to a binary 1 or 0, where 1 is an increase and 0 is a decrease/no change\n",
    "    \n",
    "    Arguments:\n",
    "    delta_predict -- A tensor of shape (267, 1) that represents the predicted percent change in price\n",
    "    delta_real -- A tensor of shape (267, 1) that represents the real percent change in price\n",
    "    \n",
    "    Returns:\n",
    "    delta_predict_1_0 -- A tensor of shape (267, 1) that represents the binary version of delta_predict\n",
    "    delta_real_1_0 -- A tensor of shape (267, 1) that represents the binary version of delta_real\n",
    "    \"\"\"\n",
    "    #Empty arrays where a 1 represents an increase in price and a 0 represents a decrease in price\n",
    "    delta_predict_1_0 = np.empty(delta_predict.shape)\n",
    "    delta_real_1_0 = np.empty(delta_real.shape)\n",
    "\n",
    "    #If the change in price is greater than zero, store it as a 1\n",
    "    #If the change in price is less than zero, store it as a 0\n",
    "    for i in range(delta_predict.shape[0]):\n",
    "        if delta_predict[i][0] > 0:\n",
    "            delta_predict_1_0[i][0] = 1\n",
    "        else:\n",
    "            delta_predict_1_0[i][0] = 0\n",
    "    for i in range(delta_real.shape[0]):\n",
    "        if delta_real[i][0] > 0:\n",
    "            delta_real_1_0[i][0] = 1\n",
    "        else:\n",
    "            delta_real_1_0[i][0] = 0    \n",
    "\n",
    "    return delta_predict_1_0, delta_real_1_0"
   ]
  },
  {
   "cell_type": "markdown",
   "metadata": {
    "colab_type": "text",
    "id": "LdJOPn_a628k"
   },
   "source": [
    "#### Comparing Predictions and Real Data"
   ]
  },
  {
   "cell_type": "code",
   "execution_count": 74,
   "metadata": {
    "colab": {},
    "colab_type": "code",
    "id": "mp3y9mFT665O"
   },
   "outputs": [],
   "source": [
    "def find_positives_negatives(delta_predict_1_0, delta_real_1_0):\n",
    "    \"\"\"\n",
    "    Finding the number of false positives, false negatives, true positives, true negatives\n",
    "    \n",
    "    Arguments: \n",
    "    delta_predict_1_0 -- A tensor of shape (267, 1) that represents the binary version of delta_predict\n",
    "    delta_real_1_0 -- A tensor of shape (267, 1) that represents the binary version of delta_real\n",
    "    \n",
    "    Returns:\n",
    "    true_pos -- An integer that represents the number of true positives achieved by the model\n",
    "    false_pos -- An integer that represents the number of false positives achieved by the model\n",
    "    true_neg -- An integer that represents the number of true negatives achieved by the model\n",
    "    false_neg -- An integer that represents the number of false negatives achieved by the model\n",
    "    \"\"\"\n",
    "    #Finding the number of false positive/negatives and true positives/negatives\n",
    "    true_pos = 0\n",
    "    false_pos = 0\n",
    "    true_neg = 0\n",
    "    false_neg = 0\n",
    "    for i in range(delta_real_1_0.shape[0]):\n",
    "        real = delta_real_1_0[i][0]\n",
    "        predicted = delta_predict_1_0[i][0]\n",
    "        if real == 1:\n",
    "            if predicted == 1:\n",
    "                true_pos += 1\n",
    "            else:\n",
    "                false_neg += 1\n",
    "        elif real == 0:\n",
    "            if predicted == 0:\n",
    "                true_neg += 1\n",
    "            else:\n",
    "                false_pos += 1\n",
    "    return true_pos, false_pos, true_neg, false_neg"
   ]
  },
  {
   "cell_type": "markdown",
   "metadata": {
    "colab_type": "text",
    "id": "E4sOxfjJ69vq"
   },
   "source": [
    "#### Calculating Statistics"
   ]
  },
  {
   "cell_type": "code",
   "execution_count": 75,
   "metadata": {
    "colab": {},
    "colab_type": "code",
    "id": "7KSwSvtp6_k9"
   },
   "outputs": [],
   "source": [
    "def calculate_statistics(true_pos, false_pos, true_neg, false_neg, y_predict, Y_test):\n",
    "    \"\"\"\n",
    "    Calculate various statistics to assess performance\n",
    "    \n",
    "    Arguments:\n",
    "    true_pos -- An integer that represents the number of true positives achieved by the model\n",
    "    false_pos -- An integer that represents the number of false positives achieved by the model\n",
    "    true_neg -- An integer that represents the number of true negatives achieved by the model\n",
    "    false_neg -- An integer that represents the number of false negatives achieved by the model\n",
    "    Y_test -- A tensor of shape (267, 1) that represents the normalized y values of the testing data\n",
    "    y_predict -- A tensor of shape (267, 1) that represents the normalized y values of the model's predictions\n",
    "    \n",
    "    Returns:\n",
    "    precision -- How often the model gets a true positive compared to how often it returns a positive\n",
    "    recall -- How often the model gets a true positive compared to how often is hould have gotten a positive\n",
    "    F1 -- The weighted average of recall and precision\n",
    "    Mean Squared Error -- The average of the squares of the differences between predicted and real values\n",
    "    \"\"\"\n",
    "    precision = float(true_pos) / (true_pos + false_pos)\n",
    "    recall = float(true_pos) / (true_pos + false_neg)\n",
    "    F1 = float(2 * precision * recall) / (precision + recall)\n",
    "    #Get Mean Squared Error\n",
    "    MSE = mean_squared_error(y_predict.flatten(), Y_test.flatten())\n",
    "    accuracy = (true_pos + true_neg) / (true_pos + true_neg + false_pos + false_neg)\n",
    "    return precision, recall, F1, MSE, accuracy"
   ]
  },
  {
   "cell_type": "markdown",
   "metadata": {
    "colab_type": "text",
    "id": "OCzlLpC97E7C"
   },
   "source": [
    "## Putting Together"
   ]
  },
  {
   "cell_type": "code",
   "execution_count": 76,
   "metadata": {
    "colab": {},
    "colab_type": "code",
    "id": "Pit1Ju4kk5-x"
   },
   "outputs": [],
   "source": [
    "raw_data = pd.read_csv('../data/bitcoin_plus_reddit_plus_news.csv')\n",
    "# raw_data.columns"
   ]
  },
  {
   "cell_type": "code",
   "execution_count": 77,
   "metadata": {
    "colab": {},
    "colab_type": "code",
    "id": "vax3wSScGm38"
   },
   "outputs": [],
   "source": [
    "# DATA STARTING AFTER 2013/03/01\n",
    "# raw_data['Date'] = raw_data['Date'].apply(lambda x: dt.strptime(x,\"%Y-%m-%d\"))\n",
    "# raw_data.Date = raw_data.Date.dt.date\n",
    "# raw_data = raw_data[raw_data['Date'] >= dt.strptime(\"13/03/01\", \"%y/%m/%d\").date()]"
   ]
  },
  {
   "cell_type": "code",
   "execution_count": 78,
   "metadata": {
    "colab": {},
    "colab_type": "code",
    "id": "GAY81YQBB-Bm"
   },
   "outputs": [],
   "source": [
    "raw_data = raw_data.loc[:, raw_data.columns != 'Date']"
   ]
  },
  {
   "cell_type": "code",
   "execution_count": 79,
   "metadata": {
    "colab": {},
    "colab_type": "code",
    "id": "5NvOE_j6vVS9"
   },
   "outputs": [],
   "source": [
    "# raw_data.isnull().any()\n",
    "# raw_data.columns"
   ]
  },
  {
   "cell_type": "markdown",
   "metadata": {
    "colab_type": "text",
    "id": "yqaymqWB7Mhe"
   },
   "source": [
    "### Features selection"
   ]
  },
  {
   "cell_type": "markdown",
   "metadata": {},
   "source": [
    "**Financial Data Only**"
   ]
  },
  {
   "cell_type": "code",
   "execution_count": null,
   "metadata": {},
   "outputs": [],
   "source": [
    "# financial data only\n",
    "\n",
    "# raw_data = raw_data[['Block Size', 'Avg. UTXO Value',\n",
    "#         'Miner Revenue Value', 'Daily Transactions', 'Transaction Value',\n",
    "#         'Block Height', 'Total Transactions', 'Difficulty', \n",
    "#         'Chain Value Density', 'Output Value', 'Transactions per Block', \n",
    "#         'Blockchain Size', 'Fees Value', 'Fee Percentage', \n",
    "#         'Metcalfe\\'s Law - TX', 'Metcalfe\\'s Law - UTXO', 'Market Capitalization',\n",
    "#         'Money Supply', 'Transaction Fees', 'UTXO Set Size', \n",
    "#         'Hash Rate', 'Miner Revenue', 'Bitcoin Core (BTC) Price']]"
   ]
  },
  {
   "cell_type": "markdown",
   "metadata": {},
   "source": [
    "**Financial Data plus Reddit plus News**"
   ]
  },
  {
   "cell_type": "code",
   "execution_count": 84,
   "metadata": {
    "colab": {},
    "colab_type": "code",
    "id": "wmJpIfJVXg8Y"
   },
   "outputs": [],
   "source": [
    "# Using textblob sentiment analysis:\n",
    "\n",
    "raw_data = raw_data[['Block Size', 'Avg. UTXO Value',\n",
    "        'Miner Revenue Value', 'Daily Transactions', 'Transaction Value',\n",
    "        'Block Height', 'Total Transactions', 'Difficulty', \n",
    "        'Chain Value Density', 'Output Value', 'Transactions per Block', \n",
    "        'Blockchain Size', 'Fees Value', 'Fee Percentage', \n",
    "        'Metcalfe\\'s Law - TX', 'Metcalfe\\'s Law - UTXO', 'Market Capitalization',\n",
    "        'Money Supply', 'Transaction Fees', 'UTXO Set Size', \n",
    "        'Hash Rate', 'Miner Revenue', 'n_tit_subj_comm', 'n_tit_subj_score', \n",
    "        'n_tit_pol_comm', 'n_tit_pol_score', \n",
    "         'count_y', 'r_tit_subj_comm', 'r_tit_subj_score',\n",
    "         'r_tit_pol_comm', 'r_tit_pol_score', 'r_bod_subj_comm',\n",
    "         'r_bod_subj_score', 'r_bod_pol_comm', 'r_bod_pol_score', \n",
    "         'count_x', 'Bitcoin Core (BTC) Price']]\n",
    "\n",
    "# For our sentiment analysis:\n",
    "\n",
    "# raw_data = raw_data[['Block Size', 'Avg. UTXO Value',\n",
    "#         'Miner Revenue Value', 'Daily Transactions', 'Transaction Value',\n",
    "#         'Block Height', 'Total Transactions', 'Difficulty', \n",
    "#         'Chain Value Density', 'Output Value', 'Transactions per Block', \n",
    "#         'Blockchain Size', 'Fees Value', 'Fee Percentage', \n",
    "#         'Metcalfe\\'s Law - TX', 'Metcalfe\\'s Law - UTXO', 'Market Capitalization',\n",
    "#         'Money Supply', 'Transaction Fees', 'UTXO Set Size', \n",
    "#         'Hash Rate', 'Miner Revenue', \n",
    "#         'n_tit_pol_comm', 'n_tit_pol_score', \n",
    "#          'count_y',\n",
    "#          'r_tit_pol_comm', 'r_tit_pol_score',\n",
    "#           'r_bod_pol_comm', 'r_bod_pol_score', \n",
    "#          'count_x', 'Bitcoin Core (BTC) Price']]"
   ]
  },
  {
   "cell_type": "markdown",
   "metadata": {},
   "source": [
    "**News Data Only**"
   ]
  },
  {
   "cell_type": "code",
   "execution_count": 85,
   "metadata": {},
   "outputs": [],
   "source": [
    "# Using textblob sentiment analysis:\n",
    "\n",
    "# raw_data = raw_data[['n_tit_subj_comm', 'n_tit_subj_score', \n",
    "#                      'n_tit_pol_comm', 'n_tit_pol_score', \n",
    "#                      'count_y', 'Bitcoin Core (BTC) Price']]\n",
    "\n",
    "# For our sentiment analysis:\n",
    "\n",
    "# raw_data = raw_data[['n_tit_pol_comm', 'n_tit_pol_score', \n",
    "#                      'count_y', 'Bitcoin Core (BTC) Price']]"
   ]
  },
  {
   "cell_type": "markdown",
   "metadata": {},
   "source": [
    "**News Data plus Reddit**"
   ]
  },
  {
   "cell_type": "code",
   "execution_count": 86,
   "metadata": {},
   "outputs": [],
   "source": [
    "# Using textblob sentiment analysis:\n",
    "\n",
    "# raw_data = raw_data[['n_tit_subj_comm', 'n_tit_subj_score', \n",
    "#                      'n_tit_pol_comm', 'n_tit_pol_score', \n",
    "#                      'count_y', 'r_tit_subj_comm', 'r_tit_subj_score',\n",
    "#                      'r_tit_pol_comm', 'r_tit_pol_score', 'r_bod_subj_comm',\n",
    "#                      'r_bod_subj_score', 'r_bod_pol_comm', 'r_bod_pol_score', \n",
    "#                      'count_x', 'Bitcoin Core (BTC) Price']]\n",
    "\n",
    "# For our sentiment analysis:\n",
    "\n",
    "# raw_data = raw_data[['n_tit_pol_comm', 'n_tit_pol_score', \n",
    "#                      'count_y',\n",
    "#                      'r_tit_pol_comm', 'r_tit_pol_score', 'r_bod_pol_comm', 'r_bod_pol_score', \n",
    "#                      'count_x', 'Bitcoin Core (BTC) Price']]"
   ]
  },
  {
   "cell_type": "code",
   "execution_count": 87,
   "metadata": {
    "colab": {
     "base_uri": "https://localhost:8080/",
     "height": 34
    },
    "colab_type": "code",
    "id": "W4e8wDFY7Wgr",
    "outputId": "cce6fcbc-a4ee-4600-8ef3-171a394a30e8"
   },
   "outputs": [
    {
     "data": {
      "text/plain": [
       "(3090, 37)"
      ]
     },
     "execution_count": 87,
     "metadata": {},
     "output_type": "execute_result"
    }
   ],
   "source": [
    "raw_data.shape"
   ]
  },
  {
   "cell_type": "markdown",
   "metadata": {
    "colab_type": "text",
    "id": "5X2sgmFm4TiV"
   },
   "source": [
    "#### Splitting data"
   ]
  },
  {
   "cell_type": "code",
   "execution_count": 88,
   "metadata": {
    "colab": {
     "base_uri": "https://localhost:8080/",
     "height": 136
    },
    "colab_type": "code",
    "id": "ze0SNchR7GaY",
    "outputId": "0c970374-926d-44b1-f59b-0705f12d965e"
   },
   "outputs": [
    {
     "name": "stdout",
     "output_type": "stream",
     "text": [
      "(2691, 99, 37)\n",
      "(2691,)\n",
      "(299, 99, 37)\n",
      "(299,)\n",
      "(299,)\n",
      "(299, 1)\n",
      "99\n"
     ]
    }
   ],
   "source": [
    "X_train, Y_train, X_test, Y_test, Y_daybefore, unnormalized_bases, window_size = load_data(raw_data, 50)\n",
    "print (X_train.shape)\n",
    "print (Y_train.shape)\n",
    "print (X_test.shape)\n",
    "print (Y_test.shape)\n",
    "print (Y_daybefore.shape)\n",
    "print (unnormalized_bases.shape)\n",
    "print (window_size)"
   ]
  },
  {
   "cell_type": "markdown",
   "metadata": {
    "colab_type": "text",
    "id": "8GFjcR1lCUpV"
   },
   "source": [
    "#### Model"
   ]
  },
  {
   "cell_type": "code",
   "execution_count": 89,
   "metadata": {
    "colab": {
     "base_uri": "https://localhost:8080/",
     "height": 391
    },
    "colab_type": "code",
    "id": "ZQyqTqF9CRB8",
    "outputId": "db018662-f5d9-45c8-8500-5522bdf28674"
   },
   "outputs": [
    {
     "name": "stdout",
     "output_type": "stream",
     "text": [
      "_________________________________________________________________\n",
      "Layer (type)                 Output Shape              Param #   \n",
      "=================================================================\n",
      "bidirectional_7 (Bidirection (None, 99, 198)           108504    \n",
      "_________________________________________________________________\n",
      "dropout_5 (Dropout)          (None, 99, 198)           0         \n",
      "_________________________________________________________________\n",
      "bidirectional_8 (Bidirection (None, 99, 396)           628848    \n",
      "_________________________________________________________________\n",
      "dropout_6 (Dropout)          (None, 99, 396)           0         \n",
      "_________________________________________________________________\n",
      "bidirectional_9 (Bidirection (None, 198)               392832    \n",
      "_________________________________________________________________\n",
      "dense_3 (Dense)              (None, 1)                 199       \n",
      "_________________________________________________________________\n",
      "activation_3 (Activation)    (None, 1)                 0         \n",
      "=================================================================\n",
      "Total params: 1,130,383\n",
      "Trainable params: 1,130,383\n",
      "Non-trainable params: 0\n",
      "_________________________________________________________________\n",
      "None\n"
     ]
    }
   ],
   "source": [
    "model = initialize_model(window_size, 0.2, 'linear', 'mse', 'adam')\n",
    "print (model.summary())"
   ]
  },
  {
   "cell_type": "markdown",
   "metadata": {
    "colab_type": "text",
    "id": "38dP_3XPCWOq"
   },
   "source": [
    "Train model"
   ]
  },
  {
   "cell_type": "code",
   "execution_count": 90,
   "metadata": {
    "colab": {
     "base_uri": "https://localhost:8080/",
     "height": 1000
    },
    "colab_type": "code",
    "id": "i8g0DaQdCZiE",
    "outputId": "71b58444-5421-4b17-e3f5-8ad840618152"
   },
   "outputs": [
    {
     "name": "stderr",
     "output_type": "stream",
     "text": [
      "/home/anthony/anaconda3/lib/python3.7/site-packages/ipykernel_launcher.py:21: UserWarning: The `nb_epoch` argument in `fit` has been renamed `epochs`.\n"
     ]
    },
    {
     "name": "stdout",
     "output_type": "stream",
     "text": [
      "Train on 2556 samples, validate on 135 samples\n",
      "Epoch 1/100\n",
      "2556/2556 [==============================] - 26s 10ms/step - loss: 9.2924 - val_loss: 9.5976\n",
      "Epoch 2/100\n",
      "2556/2556 [==============================] - 23s 9ms/step - loss: 6.1140 - val_loss: 7.5218\n",
      "Epoch 3/100\n",
      "2556/2556 [==============================] - 22s 9ms/step - loss: 4.4268 - val_loss: 5.9212\n",
      "Epoch 4/100\n",
      "2556/2556 [==============================] - 22s 9ms/step - loss: 3.0526 - val_loss: 4.4119\n",
      "Epoch 5/100\n",
      "2556/2556 [==============================] - 22s 9ms/step - loss: 2.4049 - val_loss: 4.2038\n",
      "Epoch 6/100\n",
      "2556/2556 [==============================] - 22s 9ms/step - loss: 1.6773 - val_loss: 3.0559\n",
      "Epoch 7/100\n",
      "2556/2556 [==============================] - 22s 9ms/step - loss: 1.0727 - val_loss: 3.0261\n",
      "Epoch 8/100\n",
      "2556/2556 [==============================] - 22s 9ms/step - loss: 0.6456 - val_loss: 3.0114\n",
      "Epoch 9/100\n",
      "2556/2556 [==============================] - 23s 9ms/step - loss: 0.5068 - val_loss: 2.2896\n",
      "Epoch 10/100\n",
      "2556/2556 [==============================] - 24s 9ms/step - loss: 0.3489 - val_loss: 2.7502\n",
      "Epoch 11/100\n",
      "2556/2556 [==============================] - 27s 11ms/step - loss: 0.3015 - val_loss: 2.1207\n",
      "Epoch 12/100\n",
      "2556/2556 [==============================] - 22s 9ms/step - loss: 0.3140 - val_loss: 1.9819\n",
      "Epoch 13/100\n",
      "2556/2556 [==============================] - 22s 9ms/step - loss: 0.2470 - val_loss: 2.0528\n",
      "Epoch 14/100\n",
      "2556/2556 [==============================] - 22s 9ms/step - loss: 0.2185 - val_loss: 1.9130\n",
      "Epoch 15/100\n",
      "2556/2556 [==============================] - 22s 8ms/step - loss: 0.2047 - val_loss: 1.8545\n",
      "Epoch 16/100\n",
      "2556/2556 [==============================] - 22s 9ms/step - loss: 0.1736 - val_loss: 1.5275\n",
      "Epoch 17/100\n",
      "2556/2556 [==============================] - 22s 9ms/step - loss: 0.1656 - val_loss: 1.6261\n",
      "Epoch 18/100\n",
      "2556/2556 [==============================] - 22s 8ms/step - loss: 0.1714 - val_loss: 1.4491\n",
      "Epoch 19/100\n",
      "2556/2556 [==============================] - 22s 9ms/step - loss: 0.1533 - val_loss: 1.4508\n",
      "Epoch 20/100\n",
      "2556/2556 [==============================] - 22s 8ms/step - loss: 0.1431 - val_loss: 1.5592\n",
      "Epoch 21/100\n",
      "2556/2556 [==============================] - 22s 8ms/step - loss: 0.1461 - val_loss: 1.3707\n",
      "Epoch 22/100\n",
      "2556/2556 [==============================] - 24s 9ms/step - loss: 0.1395 - val_loss: 1.6000\n",
      "Epoch 23/100\n",
      "2556/2556 [==============================] - 27s 11ms/step - loss: 0.1372 - val_loss: 1.4106\n",
      "Epoch 24/100\n",
      "2556/2556 [==============================] - 27s 11ms/step - loss: 0.1318 - val_loss: 1.2879\n",
      "Epoch 25/100\n",
      "2556/2556 [==============================] - 28s 11ms/step - loss: 0.1145 - val_loss: 1.3730\n",
      "Epoch 26/100\n",
      "2556/2556 [==============================] - 27s 11ms/step - loss: 0.1247 - val_loss: 1.3416\n",
      "Epoch 27/100\n",
      "2556/2556 [==============================] - 26s 10ms/step - loss: 0.1305 - val_loss: 1.2124\n",
      "Epoch 28/100\n",
      "2556/2556 [==============================] - 26s 10ms/step - loss: 0.1065 - val_loss: 1.0591\n",
      "Epoch 29/100\n",
      "2556/2556 [==============================] - 23s 9ms/step - loss: 0.1072 - val_loss: 0.9709\n",
      "Epoch 30/100\n",
      "2556/2556 [==============================] - 23s 9ms/step - loss: 0.0956 - val_loss: 0.8755\n",
      "Epoch 31/100\n",
      "2556/2556 [==============================] - 28s 11ms/step - loss: 0.1080 - val_loss: 1.1944\n",
      "Epoch 32/100\n",
      "2556/2556 [==============================] - 26s 10ms/step - loss: 0.1084 - val_loss: 1.0141\n",
      "Epoch 33/100\n",
      "2556/2556 [==============================] - 23s 9ms/step - loss: 0.0962 - val_loss: 0.9383\n",
      "Epoch 34/100\n",
      "2556/2556 [==============================] - 23s 9ms/step - loss: 0.0863 - val_loss: 0.9783\n",
      "Epoch 35/100\n",
      "2556/2556 [==============================] - 23s 9ms/step - loss: 0.0881 - val_loss: 1.0293\n",
      "Epoch 36/100\n",
      "2556/2556 [==============================] - 24s 9ms/step - loss: 0.0895 - val_loss: 0.9821\n",
      "Epoch 37/100\n",
      "2556/2556 [==============================] - 23s 9ms/step - loss: 0.0892 - val_loss: 1.0703\n",
      "Epoch 38/100\n",
      "2556/2556 [==============================] - 23s 9ms/step - loss: 0.0913 - val_loss: 1.2992\n",
      "Epoch 39/100\n",
      "2556/2556 [==============================] - 26s 10ms/step - loss: 0.0846 - val_loss: 1.0730\n",
      "Epoch 40/100\n",
      "2556/2556 [==============================] - 22s 9ms/step - loss: 0.0790 - val_loss: 1.1912\n",
      "Epoch 41/100\n",
      "2556/2556 [==============================] - 25s 10ms/step - loss: 0.0831 - val_loss: 1.1273\n",
      "Epoch 42/100\n",
      "2556/2556 [==============================] - 36s 14ms/step - loss: 0.0743 - val_loss: 0.9492\n",
      "Epoch 43/100\n",
      "2556/2556 [==============================] - 30s 12ms/step - loss: 0.0788 - val_loss: 0.9651\n",
      "Epoch 44/100\n",
      "2556/2556 [==============================] - 22s 8ms/step - loss: 0.0878 - val_loss: 0.8871\n",
      "Epoch 45/100\n",
      "2556/2556 [==============================] - 22s 8ms/step - loss: 0.0915 - val_loss: 0.8583\n",
      "Epoch 46/100\n",
      "2556/2556 [==============================] - 22s 9ms/step - loss: 0.0751 - val_loss: 0.7937\n",
      "Epoch 47/100\n",
      "2556/2556 [==============================] - 22s 9ms/step - loss: 0.0796 - val_loss: 0.7394\n",
      "Epoch 48/100\n",
      "2556/2556 [==============================] - 22s 9ms/step - loss: 0.0738 - val_loss: 0.7688\n",
      "Epoch 49/100\n",
      "2556/2556 [==============================] - 22s 8ms/step - loss: 0.0704 - val_loss: 0.6919\n",
      "Epoch 50/100\n",
      "2556/2556 [==============================] - 22s 9ms/step - loss: 0.0651 - val_loss: 0.6671\n",
      "Epoch 51/100\n",
      "2556/2556 [==============================] - 27s 11ms/step - loss: 0.0545 - val_loss: 0.7619\n",
      "Epoch 52/100\n",
      "2556/2556 [==============================] - 27s 11ms/step - loss: 0.0565 - val_loss: 0.6449\n",
      "Epoch 53/100\n",
      "2556/2556 [==============================] - 23s 9ms/step - loss: 0.0519 - val_loss: 0.6331\n",
      "Epoch 54/100\n",
      "2556/2556 [==============================] - 26s 10ms/step - loss: 0.0504 - val_loss: 0.6367\n",
      "Epoch 55/100\n",
      "2556/2556 [==============================] - 23s 9ms/step - loss: 0.0431 - val_loss: 0.6414\n",
      "Epoch 56/100\n",
      "2556/2556 [==============================] - 30s 12ms/step - loss: 0.0447 - val_loss: 0.6886\n",
      "Epoch 57/100\n",
      "2556/2556 [==============================] - 24s 9ms/step - loss: 0.0446 - val_loss: 0.7159\n",
      "Epoch 58/100\n",
      "2556/2556 [==============================] - 25s 10ms/step - loss: 0.0460 - val_loss: 0.6643\n",
      "Epoch 59/100\n",
      "2556/2556 [==============================] - 24s 9ms/step - loss: 0.0431 - val_loss: 0.6259\n",
      "Epoch 60/100\n",
      "2556/2556 [==============================] - 23s 9ms/step - loss: 0.0434 - val_loss: 0.6400\n",
      "Epoch 61/100\n",
      "2556/2556 [==============================] - 24s 9ms/step - loss: 0.0440 - val_loss: 0.6035\n",
      "Epoch 62/100\n",
      "2556/2556 [==============================] - 24s 9ms/step - loss: 0.0418 - val_loss: 0.5974\n",
      "Epoch 63/100\n",
      "2556/2556 [==============================] - 24s 9ms/step - loss: 0.0392 - val_loss: 0.5521\n",
      "Epoch 64/100\n",
      "2556/2556 [==============================] - 23s 9ms/step - loss: 0.0406 - val_loss: 0.5309\n",
      "Epoch 65/100\n",
      "2556/2556 [==============================] - 25s 10ms/step - loss: 0.0390 - val_loss: 0.5110\n",
      "Epoch 66/100\n",
      "2556/2556 [==============================] - 25s 10ms/step - loss: 0.0374 - val_loss: 0.5837\n",
      "Epoch 67/100\n",
      "2556/2556 [==============================] - 24s 9ms/step - loss: 0.0397 - val_loss: 0.5753\n",
      "Epoch 68/100\n",
      "2556/2556 [==============================] - 23s 9ms/step - loss: 0.0317 - val_loss: 0.5564\n",
      "Epoch 69/100\n",
      "2556/2556 [==============================] - 24s 9ms/step - loss: 0.0363 - val_loss: 0.5108\n",
      "Epoch 70/100\n",
      "2556/2556 [==============================] - 24s 10ms/step - loss: 0.0329 - val_loss: 0.5216\n",
      "Epoch 71/100\n",
      "2556/2556 [==============================] - 26s 10ms/step - loss: 0.0345 - val_loss: 0.5724\n",
      "Epoch 72/100\n",
      "2556/2556 [==============================] - 25s 10ms/step - loss: 0.0377 - val_loss: 0.4922\n",
      "Epoch 73/100\n",
      "2556/2556 [==============================] - 22s 8ms/step - loss: 0.0324 - val_loss: 0.5138\n",
      "Epoch 74/100\n",
      "2556/2556 [==============================] - 25s 10ms/step - loss: 0.0341 - val_loss: 0.4991\n",
      "Epoch 75/100\n",
      "2556/2556 [==============================] - 26s 10ms/step - loss: 0.0299 - val_loss: 0.4673\n",
      "Epoch 76/100\n",
      "2556/2556 [==============================] - 26s 10ms/step - loss: 0.0330 - val_loss: 0.4737\n",
      "Epoch 77/100\n",
      "2556/2556 [==============================] - 31s 12ms/step - loss: 0.0305 - val_loss: 0.4923\n",
      "Epoch 78/100\n"
     ]
    },
    {
     "name": "stdout",
     "output_type": "stream",
     "text": [
      "2556/2556 [==============================] - 33s 13ms/step - loss: 0.0320 - val_loss: 0.4502\n",
      "Epoch 79/100\n",
      "2556/2556 [==============================] - 25s 10ms/step - loss: 0.0291 - val_loss: 0.5625\n",
      "Epoch 80/100\n",
      "2556/2556 [==============================] - 22s 8ms/step - loss: 0.0323 - val_loss: 0.5367\n",
      "Epoch 81/100\n",
      "2556/2556 [==============================] - 22s 9ms/step - loss: 0.0370 - val_loss: 0.6963\n",
      "Epoch 82/100\n",
      "2556/2556 [==============================] - 21s 8ms/step - loss: 0.0320 - val_loss: 0.6129\n",
      "Epoch 83/100\n",
      "2556/2556 [==============================] - 22s 9ms/step - loss: 0.0316 - val_loss: 0.6138\n",
      "Epoch 84/100\n",
      "2556/2556 [==============================] - 22s 8ms/step - loss: 0.0300 - val_loss: 0.6127\n",
      "Epoch 85/100\n",
      "2556/2556 [==============================] - 22s 8ms/step - loss: 0.0327 - val_loss: 0.6615\n",
      "Epoch 86/100\n",
      "2556/2556 [==============================] - 22s 9ms/step - loss: 0.0313 - val_loss: 0.7319\n",
      "Epoch 87/100\n",
      "2556/2556 [==============================] - 22s 8ms/step - loss: 0.0362 - val_loss: 0.6047\n",
      "Epoch 88/100\n",
      "2556/2556 [==============================] - 22s 8ms/step - loss: 0.0386 - val_loss: 0.6894\n",
      "Epoch 89/100\n",
      "2556/2556 [==============================] - 23s 9ms/step - loss: 0.0350 - val_loss: 0.6356\n",
      "Epoch 90/100\n",
      "2556/2556 [==============================] - 26s 10ms/step - loss: 0.0324 - val_loss: 0.5855\n",
      "Epoch 91/100\n",
      "2556/2556 [==============================] - 27s 11ms/step - loss: 0.0354 - val_loss: 0.8274\n",
      "Epoch 92/100\n",
      "2556/2556 [==============================] - 24s 9ms/step - loss: 0.0507 - val_loss: 0.8423\n",
      "Epoch 93/100\n",
      "2556/2556 [==============================] - 23s 9ms/step - loss: 0.0595 - val_loss: 0.9218\n",
      "Epoch 94/100\n",
      "2556/2556 [==============================] - 26s 10ms/step - loss: 0.0729 - val_loss: 1.1092\n",
      "Epoch 95/100\n",
      "2556/2556 [==============================] - 22s 8ms/step - loss: 0.0556 - val_loss: 0.9204\n",
      "Epoch 96/100\n",
      "2556/2556 [==============================] - 23s 9ms/step - loss: 0.0595 - val_loss: 0.6950\n",
      "Epoch 97/100\n",
      "2556/2556 [==============================] - 24s 10ms/step - loss: 0.0582 - val_loss: 0.5328\n",
      "Epoch 98/100\n",
      "2556/2556 [==============================] - 26s 10ms/step - loss: 0.0558 - val_loss: 0.4700\n",
      "Epoch 99/100\n",
      "2556/2556 [==============================] - 24s 9ms/step - loss: 0.0369 - val_loss: 0.7154\n",
      "Epoch 100/100\n",
      "2556/2556 [==============================] - 23s 9ms/step - loss: 0.0435 - val_loss: 0.5355\n",
      "Training time 2406 seconds\n"
     ]
    }
   ],
   "source": [
    "model, training_time = fit_model(model, X_train, Y_train, 1024, 100, .05)\n",
    "\n",
    "#Print the training time\n",
    "print (\"Training time\", training_time, \"seconds\")"
   ]
  },
  {
   "cell_type": "markdown",
   "metadata": {
    "colab_type": "text",
    "id": "y7FxJ_DUCtor"
   },
   "source": []
  },
  {
   "cell_type": "code",
   "execution_count": 91,
   "metadata": {
    "colab": {
     "base_uri": "https://localhost:8080/",
     "height": 350
    },
    "colab_type": "code",
    "id": "MbYWoZv5Ct_K",
    "outputId": "a4584a0e-a075-49b5-ccbe-f26e06f9ee5d"
   },
   "outputs": [
    {
     "data": {
      "image/png": "[encoded data removed]",
      "text/plain": [
       "<Figure size 720x360 with 1 Axes>"
      ]
     },
     "metadata": {
      "needs_background": "light"
     },
     "output_type": "display_data"
    }
   ],
   "source": [
    "y_predict, real_y_test, real_y_predict, fig1 = test_model(model, X_test, Y_test, unnormalized_bases)\n",
    "\n",
    "#Show the plot\n",
    "plt.show(fig1)"
   ]
  },
  {
   "cell_type": "markdown",
   "metadata": {
    "colab_type": "text",
    "id": "JsKt12isCvA6"
   },
   "source": []
  },
  {
   "cell_type": "code",
   "execution_count": 92,
   "metadata": {
    "colab": {
     "base_uri": "https://localhost:8080/",
     "height": 404
    },
    "colab_type": "code",
    "id": "ywK5pjS8Cuok",
    "outputId": "f048d018-4c0b-4892-c665-461029854ffb"
   },
   "outputs": [
    {
     "data": {
      "image/png": "[encoded data removed]",
      "text/plain": [
       "<Figure size 720x432 with 1 Axes>"
      ]
     },
     "metadata": {
      "needs_background": "light"
     },
     "output_type": "display_data"
    }
   ],
   "source": [
    "Y_daybefore, Y_test, delta_predict, delta_real, fig2 = price_change(Y_daybefore, Y_test, y_predict)\n",
    "\n",
    "#Show the plot\n",
    "plt.show(fig2)"
   ]
  },
  {
   "cell_type": "markdown",
   "metadata": {
    "colab_type": "text",
    "id": "Ys5-mSnWCxfO"
   },
   "source": []
  },
  {
   "cell_type": "code",
   "execution_count": 93,
   "metadata": {
    "colab": {
     "base_uri": "https://localhost:8080/",
     "height": 51
    },
    "colab_type": "code",
    "id": "OB_in48QCw_0",
    "outputId": "5cd61c7e-49f3-4ca4-bb3c-6c6bfe02cb86"
   },
   "outputs": [
    {
     "name": "stdout",
     "output_type": "stream",
     "text": [
      "(299, 1)\n",
      "(299, 1)\n"
     ]
    }
   ],
   "source": [
    "delta_predict_1_0, delta_real_1_0 = binary_price(delta_predict, delta_real)\n",
    "\n",
    "print (delta_predict_1_0.shape)\n",
    "print (delta_real_1_0.shape)"
   ]
  },
  {
   "cell_type": "markdown",
   "metadata": {
    "colab_type": "text",
    "id": "rHl__S1tC0kO"
   },
   "source": []
  },
  {
   "cell_type": "code",
   "execution_count": 94,
   "metadata": {
    "colab": {
     "base_uri": "https://localhost:8080/",
     "height": 85
    },
    "colab_type": "code",
    "id": "_fwDfH15C07r",
    "outputId": "c0249e29-451b-4d98-ebe6-86d5958722fe"
   },
   "outputs": [
    {
     "name": "stdout",
     "output_type": "stream",
     "text": [
      "True positives: 126\n",
      "False positives: 123\n",
      "True negatives: 17\n",
      "False negatives: 33\n"
     ]
    }
   ],
   "source": [
    "true_pos, false_pos, true_neg, false_neg = find_positives_negatives(delta_predict_1_0, delta_real_1_0)\n",
    "print (\"True positives:\", true_pos)\n",
    "print (\"False positives:\", false_pos)\n",
    "print (\"True negatives:\", true_neg)\n",
    "print (\"False negatives:\", false_neg)"
   ]
  },
  {
   "cell_type": "markdown",
   "metadata": {
    "colab_type": "text",
    "id": "eCYPxHKeC3iF"
   },
   "source": []
  },
  {
   "cell_type": "code",
   "execution_count": 95,
   "metadata": {
    "colab": {
     "base_uri": "https://localhost:8080/",
     "height": 102
    },
    "colab_type": "code",
    "id": "CwWxiK0iC3Ei",
    "outputId": "4ced279e-217f-40db-87f1-cae9729d4d28"
   },
   "outputs": [
    {
     "name": "stdout",
     "output_type": "stream",
     "text": [
      "Precision: 0.5060240963855421\n",
      "Recall: 0.7924528301886793\n",
      "F1 score: 0.6176470588235294\n",
      "Mean Squared Error: 0.03094804101032206\n",
      "Accuracy: 0.4782608695652174\n"
     ]
    }
   ],
   "source": [
    "precision, recall, F1, MSE, accuracy = calculate_statistics(true_pos, false_pos, true_neg, false_neg, y_predict, Y_test)\n",
    "print (\"Precision:\", precision)\n",
    "print (\"Recall:\", recall)\n",
    "print (\"F1 score:\", F1)\n",
    "print (\"Mean Squared Error:\", MSE)\n",
    "print (\"Accuracy:\", accuracy)"
   ]
  },
  {
   "cell_type": "code",
   "execution_count": 96,
   "metadata": {
    "colab": {},
    "colab_type": "code",
    "id": "afunPvhJ3EN6"
   },
   "outputs": [],
   "source": [
    "import pickle\n",
    "\n",
    "pkl_filename = \"pickle_model.pkl\"\n",
    "with open(pkl_filename, 'wb') as file:\n",
    "    pickle.dump(model, file)"
   ]
  }
 ],
 "metadata": {
  "accelerator": "GPU",
  "colab": {
   "collapsed_sections": [
    "l1dczOQr6Rtv",
    "EqwQ-Wpm6fPn",
    "fwK7Te9S6k6P",
    "YTpmEUpS6o5Y",
    "FCZpPbMC6xLe",
    "LdJOPn_a628k",
    "E4sOxfjJ69vq"
   ],
   "name": "bitcoin_prediction_model (7/25).ipynb",
   "provenance": [],
   "toc_visible": true,
   "version": "0.3.2"
  },
  "kernelspec": {
   "display_name": "Python 3",
   "language": "python",
   "name": "python3"
  },
  "language_info": {
   "codemirror_mode": {
    "name": "ipython",
    "version": 3
   },
   "file_extension": ".py",
   "mimetype": "text/x-python",
   "name": "python",
   "nbconvert_exporter": "python",
   "pygments_lexer": "ipython3",
   "version": "3.7.3"
  }
 },
 "nbformat": 4,
 "nbformat_minor": 1
}
