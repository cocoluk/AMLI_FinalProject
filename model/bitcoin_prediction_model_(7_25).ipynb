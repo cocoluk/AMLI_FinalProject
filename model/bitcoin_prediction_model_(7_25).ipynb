{
  "nbformat": 4,
  "nbformat_minor": 0,
  "metadata": {
    "colab": {
      "name": "bitcoin_prediction_model (7/25).ipynb",
      "version": "0.3.2",
      "provenance": [],
      "collapsed_sections": [
        "l1dczOQr6Rtv",
        "EqwQ-Wpm6fPn",
        "fwK7Te9S6k6P",
        "YTpmEUpS6o5Y",
        "FCZpPbMC6xLe",
        "LdJOPn_a628k",
        "E4sOxfjJ69vq"
      ],
      "toc_visible": true
    },
    "kernelspec": {
      "name": "python3",
      "display_name": "Python 3"
    },
    "accelerator": "GPU"
  },
  "cells": [
    {
      "cell_type": "markdown",
      "metadata": {
        "id": "aIHND-b7JaHJ",
        "colab_type": "text"
      },
      "source": [
        "**7/9:** Able to get Google News data using API\n",
        "\n",
        "**7/10:** Read articles about models using RNN & LSTM to predict stock/cryptocurrency prices\n",
        "\n",
        "**7/11:** Applied an existing model to Bitcoin daily price data and got F1 score around 0.52; no improvement with larger historical data\n"
      ]
    },
    {
      "cell_type": "markdown",
      "metadata": {
        "id": "V99W-z6yu3Vk",
        "colab_type": "text"
      },
      "source": [
        "## Bitcoin Price Prediction\n"
      ]
    },
    {
      "cell_type": "markdown",
      "metadata": {
        "id": "MWiAWRct5-y1",
        "colab_type": "text"
      },
      "source": [
        "### Model"
      ]
    },
    {
      "cell_type": "markdown",
      "metadata": {
        "id": "ulZZEVfl5BOQ",
        "colab_type": "text"
      },
      "source": [
        "Adopted code from Jerry Wei"
      ]
    },
    {
      "cell_type": "code",
      "metadata": {
        "id": "iOJyrbl2xl2g",
        "colab_type": "code",
        "colab": {
          "base_uri": "https://localhost:8080/",
          "height": 34
        },
        "outputId": "76d69153-1343-491d-f51b-20f49dacf399"
      },
      "source": [
        "from keras.layers.core import Dense, Activation, Dropout\n",
        "from keras.layers.recurrent import LSTM\n",
        "from keras.layers import Bidirectional\n",
        "from keras.models import Sequential\n",
        "from sklearn.metrics import mean_squared_error\n",
        "from sklearn.preprocessing import MinMaxScaler\n",
        "import time\n",
        "import numpy as np\n",
        "import matplotlib.pyplot as plt\n",
        "import pandas as pd\n",
        "import math\n",
        "from datetime import datetime as dt"
      ],
      "execution_count": 2,
      "outputs": [
        {
          "output_type": "stream",
          "text": [
            "Using TensorFlow backend.\n"
          ],
          "name": "stderr"
        }
      ]
    },
    {
      "cell_type": "markdown",
      "metadata": {
        "id": "CoVDGhXe5wFy",
        "colab_type": "text"
      },
      "source": [
        "#### Load Data"
      ]
    },
    {
      "cell_type": "code",
      "metadata": {
        "id": "ORB7ETgnB5DC",
        "colab_type": "code",
        "colab": {}
      },
      "source": [
        "def load_data(filename, sequence_length):\n",
        "    \"\"\"\n",
        "    Loads the bitcoin data\n",
        "    \n",
        "    Arguments:\n",
        "    filename -- A string that represents where the .csv file can be located\n",
        "    sequence_length -- An integer of how many days should be looked at in a row\n",
        "    \n",
        "    Returns:\n",
        "    X_train -- A tensor of shape (2400, 49, 35) that will be inputed into the model to train it\n",
        "    Y_train -- A tensor of shape (2400,) that will be inputed into the model to train it\n",
        "    X_test -- A tensor of shape (267, 49, 35) that will be used to test the model's proficiency\n",
        "    Y_test -- A tensor of shape (267,) that will be used to check the model's predictions\n",
        "    Y_daybefore -- A tensor of shape (267,) that represents the price of bitcoin the day before each Y_test value\n",
        "    unnormalized_bases -- A tensor of shape (267,) that will be used to get the true prices from the normalized ones\n",
        "    window_size -- An integer that represents how many days of X values the model can look at at once\n",
        "    \"\"\"\n",
        "    #Read the data file\n",
        "    raw_data = filename.values\n",
        "    \n",
        "    #Change all zeros to the number before the zero occurs\n",
        "    for x in range(0, raw_data.shape[0]):\n",
        "        for y in range(0, raw_data.shape[1]):\n",
        "            if(raw_data[x][y] == 0):\n",
        "                raw_data[x][y] = raw_data[x-1][y]\n",
        "    \n",
        "    #Convert the file to a list\n",
        "    data = raw_data.tolist()\n",
        "    \n",
        "    #Convert the data to a 3D array (a x b x c) \n",
        "    #Where a is the number of days, b is the window size, and c is the number of features in the data file\n",
        "    result = []\n",
        "    for index in range(len(data) - sequence_length):\n",
        "        result.append(data[index: index + sequence_length])\n",
        "    \n",
        "    #Normalizing data by going through each window\n",
        "    #Every value in the window is divided by the first value in the window, and then 1 is subtracted\n",
        "    d0 = np.array(result)\n",
        "    dr = np.zeros_like(d0)\n",
        "    dr[:,1:,:] = d0[:,1:,:] / d0[:,0:1,:] - 1\n",
        "\n",
        "    # -------------------7/25 start-----------------------\n",
        "    # added minmaxscaler\n",
        "#     scaler = MinMaxScaler(feature_range=(-1, 1))\n",
        "#     for i in range(dr.shape[1]):\n",
        "#       dr[:,i,:] = scaler.fit_transform(dr[:,i,:])\n",
        "      \n",
        "#     temp = dr[:,1:,:]\n",
        "#     a,b,c = temp.shape\n",
        "#     temp = temp.reshape(a*b, c)\n",
        "#     temp = scaler.fit_transform(temp)\n",
        "#     dr[:,1:,:] = temp.reshape(a, b, c)\n",
        "    \n",
        "#     temp_dr = dr[int(split_line):, :-1]\n",
        "#     temp = training_data[:, :-1]\n",
        "#     a,b,c = temp_dr.shape\n",
        "#     temp_dr = temp_dr.reshape(a*b, c)\n",
        "#     temp_dr = scaler.fit_transform(temp_dr)\n",
        "#     X_test = temp_dr.reshape(a, b, c)\n",
        "    # -------------------7/25 end -----------------------\n",
        "\n",
        "\n",
        "    #Splitting data set into training (First 90% of data points) and testing data (last 10% of data points)\n",
        "    split_line = round(0.9 * dr.shape[0])\n",
        "    training_data = dr[:int(split_line), :]\n",
        "    \n",
        "    #Keeping the unnormalized prices for Y_test\n",
        "    #Useful when graphing bitcoin price over time later\n",
        "    start = training_data.shape[0] # number of data = 2842, consistent with X_train.shape[0]\n",
        "    end = int(dr.shape[0] + 1)\n",
        "    unnormalized_bases = d0[start:end,0:1,-1] # 20 : bitcoin price\n",
        "    \n",
        "    #Shuffle the data\n",
        "    np.random.seed(1)\n",
        "    np.random.shuffle(training_data)\n",
        "    \n",
        "    #Training Data\n",
        "    X_train = training_data[:, :-1] # -1\n",
        "    Y_train = training_data[:, -1]\n",
        "    Y_train = Y_train[:, -1] # 20\n",
        "    \n",
        "    #Testing data\n",
        "    X_test = dr[int(split_line):, :-1] # -1\n",
        "    Y_test = dr[int(split_line):, sequence_length-1, :] # 99\n",
        "    Y_test = Y_test[:, -1] # target column\n",
        "#     print(Y_test)\n",
        "    #Get the day before Y_test's price\n",
        "    Y_daybefore = dr[int(split_line):, sequence_length-2, :] # 98\n",
        "    Y_daybefore = Y_daybefore[:, -1] # target column\n",
        "    \n",
        "    #Get window size and sequence length\n",
        "    sequence_length = sequence_length\n",
        "    window_size = sequence_length - 1 #because the last value is reserved as the y value\n",
        "    \n",
        "    return X_train, Y_train, X_test, Y_test, Y_daybefore, unnormalized_bases, window_size"
      ],
      "execution_count": 0,
      "outputs": []
    },
    {
      "cell_type": "markdown",
      "metadata": {
        "id": "l1dczOQr6Rtv",
        "colab_type": "text"
      },
      "source": [
        "#### Building the Model"
      ]
    },
    {
      "cell_type": "code",
      "metadata": {
        "id": "SO98KGsY6dG5",
        "colab_type": "code",
        "colab": {}
      },
      "source": [
        "def initialize_model(window_size, dropout_value, activation_function, loss_function, optimizer):\n",
        "    \"\"\"\n",
        "    Initializes and creates the model to be used\n",
        "    \n",
        "    Arguments:\n",
        "    window_size -- An integer that represents how many days of X_values the model can look at at once\n",
        "    dropout_value -- A decimal representing how much dropout should be incorporated at each level, in this case 0.2\n",
        "    activation_function -- A string to define the activation_function, in this case it is linear\n",
        "    loss_function -- A string to define the loss function to be used, in the case it is mean squared error\n",
        "    optimizer -- A string to define the optimizer to be used, in the case it is adam\n",
        "    \n",
        "    Returns:\n",
        "    model -- A 3 layer RNN with 100*dropout_value dropout in each layer that uses activation_function as its activation\n",
        "             function, loss_function as its loss function, and optimizer as its optimizer\n",
        "    \"\"\"\n",
        "    #Create a Sequential model using Keras\n",
        "    model = Sequential()\n",
        "\n",
        "    #First recurrent layer with dropout\n",
        "    model.add(Bidirectional(LSTM(window_size, return_sequences=True), input_shape=(window_size, X_train.shape[-1]),))\n",
        "    model.add(Dropout(dropout_value))\n",
        "\n",
        "    #Second recurrent layer with dropout\n",
        "    model.add(Bidirectional(LSTM((window_size*2), return_sequences=True)))\n",
        "    model.add(Dropout(dropout_value))\n",
        "\n",
        "    #Third recurrent layer\n",
        "    model.add(Bidirectional(LSTM(window_size, return_sequences=False)))\n",
        "\n",
        "    #Output layer (returns the predicted value)\n",
        "    model.add(Dense(units=1))\n",
        "    \n",
        "    #Set activation function\n",
        "    model.add(Activation(activation_function))\n",
        "\n",
        "    #Set loss function and optimizer\n",
        "    model.compile(loss=loss_function, optimizer=optimizer)\n",
        "    \n",
        "    return model"
      ],
      "execution_count": 0,
      "outputs": []
    },
    {
      "cell_type": "markdown",
      "metadata": {
        "id": "EqwQ-Wpm6fPn",
        "colab_type": "text"
      },
      "source": [
        "#### Training the Model"
      ]
    },
    {
      "cell_type": "code",
      "metadata": {
        "id": "Y8Fqal5H6itd",
        "colab_type": "code",
        "colab": {}
      },
      "source": [
        "def fit_model(model, X_train, Y_train, batch_num, num_epoch, val_split):\n",
        "    \"\"\"\n",
        "    Fits the model to the training data\n",
        "    \n",
        "    Arguments:\n",
        "    model -- The previously initalized 3 layer Recurrent Neural Network\n",
        "    X_train -- A tensor of shape (2400, 49, 35) that represents the x values of the training data\n",
        "    Y_train -- A tensor of shape (2400,) that represents the y values of the training data\n",
        "    batch_num -- An integer representing the batch size to be used, in this case 1024\n",
        "    num_epoch -- An integer defining the number of epochs to be run, in this case 100\n",
        "    val_split -- A decimal representing the proportion of training data to be used as validation data\n",
        "    \n",
        "    Returns:\n",
        "    model -- The 3 layer Recurrent Neural Network that has been fitted to the training data\n",
        "    training_time -- An integer representing the amount of time (in seconds) that the model was training\n",
        "    \"\"\"\n",
        "    #Record the time the model starts training\n",
        "    start = time.time()\n",
        "\n",
        "    #Train the model on X_train and Y_train\n",
        "    model.fit(X_train, Y_train, batch_size= batch_num, nb_epoch=num_epoch, validation_split= val_split)\n",
        "\n",
        "    #Get the time it took to train the model (in seconds)\n",
        "    training_time = int(math.floor(time.time() - start))\n",
        "    return model, training_time"
      ],
      "execution_count": 0,
      "outputs": []
    },
    {
      "cell_type": "markdown",
      "metadata": {
        "id": "fwK7Te9S6k6P",
        "colab_type": "text"
      },
      "source": [
        "#### Testing the Model"
      ]
    },
    {
      "cell_type": "code",
      "metadata": {
        "id": "JxE6OtmM6nM9",
        "colab_type": "code",
        "colab": {}
      },
      "source": [
        "def test_model(model, X_test, Y_test, unnormalized_bases):\n",
        "    \"\"\"\n",
        "    Test the model on the testing data\n",
        "    \n",
        "    Arguments:\n",
        "    model -- The previously fitted 3 layer Recurrent Neural Network\n",
        "    X_test -- A tensor of shape (267, 49, 35) that represents the x values of the testing data\n",
        "    Y_test -- A tensor of shape (267,) that represents the y values of the testing data\n",
        "    unnormalized_bases -- A tensor of shape (267,) that can be used to get unnormalized data points\n",
        "    \n",
        "    Returns:\n",
        "    y_predict -- A tensor of shape (267,) that represnts the normalized values that the model predicts based on X_test\n",
        "    real_y_test -- A tensor of shape (267,) that represents the actual prices of bitcoin throughout the testing period\n",
        "    real_y_predict -- A tensor of shape (267,) that represents the model's predicted prices of bitcoin\n",
        "    fig -- A branch of the graph of the real predicted prices of bitcoin versus the real prices of bitcoin\n",
        "    \"\"\"\n",
        "    #Test the model on X_Test\n",
        "    y_predict = model.predict(X_test)\n",
        "\n",
        "    #Create empty 2D arrays to store unnormalized values\n",
        "    real_y_test = np.zeros_like(Y_test)\n",
        "    real_y_predict = np.zeros_like(y_predict)\n",
        "\n",
        "    #Fill the 2D arrays with the real value and the predicted value by reversing the normalization process\n",
        "    for i in range(Y_test.shape[0]):\n",
        "        y = Y_test[i]\n",
        "        predict = y_predict[i]\n",
        "        real_y_test[i] = (y+1)*unnormalized_bases[i]\n",
        "        real_y_predict[i] = (predict+1)*unnormalized_bases[i]\n",
        "\n",
        "    #Plot of the predicted prices versus the real prices\n",
        "    fig = plt.figure(figsize=(10,5))\n",
        "    ax = fig.add_subplot(111)\n",
        "    ax.set_title(\"Bitcoin Price Over Time\")\n",
        "    plt.plot(real_y_predict, color = 'green', label = 'Predicted Price')\n",
        "    plt.plot(real_y_test, color = 'red', label = 'Real Price')\n",
        "    ax.set_ylabel(\"Price (USD)\")\n",
        "    ax.set_xlabel(\"Time (Days)\")\n",
        "    ax.legend()\n",
        "    \n",
        "    return y_predict, real_y_test, real_y_predict, fig"
      ],
      "execution_count": 0,
      "outputs": []
    },
    {
      "cell_type": "markdown",
      "metadata": {
        "id": "YTpmEUpS6o5Y",
        "colab_type": "text"
      },
      "source": [
        "#### Evaluating Change in Price"
      ]
    },
    {
      "cell_type": "code",
      "metadata": {
        "id": "MhGp1G9c6uPC",
        "colab_type": "code",
        "colab": {}
      },
      "source": [
        "def price_change(Y_daybefore, Y_test, y_predict):\n",
        "    \"\"\"\n",
        "    Calculate the percent change between each value and the day before\n",
        "    \n",
        "    Arguments:\n",
        "    Y_daybefore -- A tensor of shape (267,) that represents the prices of each day before each price in Y_test\n",
        "    Y_test -- A tensor of shape (267,) that represents the normalized y values of the testing data\n",
        "    y_predict -- A tensor of shape (267,) that represents the normalized y values of the model's predictions\n",
        "    \n",
        "    Returns:\n",
        "    Y_daybefore -- A tensor of shape (267, 1) that represents the prices of each day before each price in Y_test\n",
        "    Y_test -- A tensor of shape (267, 1) that represents the normalized y values of the testing data\n",
        "    delta_predict -- A tensor of shape (267, 1) that represents the difference between predicted and day before values\n",
        "    delta_real -- A tensor of shape (267, 1) that represents the difference between real and day before values\n",
        "    fig -- A plot representing percent change in bitcoin price per day,\n",
        "    \"\"\"\n",
        "    #Reshaping Y_daybefore and Y_test\n",
        "    Y_daybefore = np.reshape(Y_daybefore, (-1, 1))\n",
        "    Y_test = np.reshape(Y_test, (-1, 1))\n",
        "\n",
        "    #The difference between each predicted value and the value from the day before\n",
        "    delta_predict = (y_predict - Y_daybefore) / (1+Y_daybefore)\n",
        "\n",
        "    #The difference between each true value and the value from the day before\n",
        "    delta_real = (Y_test - Y_daybefore) / (1+Y_daybefore)\n",
        "\n",
        "    #Plotting the predicted percent change versus the real percent change\n",
        "    fig = plt.figure(figsize=(10, 6))\n",
        "    ax = fig.add_subplot(111)\n",
        "    ax.set_title(\"Percent Change in Bitcoin Price Per Day\")\n",
        "    plt.plot(delta_predict, color='green', label = 'Predicted Percent Change')\n",
        "    plt.plot(delta_real, color='red', label = 'Real Percent Change')\n",
        "    plt.ylabel(\"Percent Change\")\n",
        "    plt.xlabel(\"Time (Days)\")\n",
        "    ax.legend()\n",
        "    plt.show()\n",
        "    \n",
        "    return Y_daybefore, Y_test, delta_predict, delta_real, fig"
      ],
      "execution_count": 0,
      "outputs": []
    },
    {
      "cell_type": "markdown",
      "metadata": {
        "id": "FCZpPbMC6xLe",
        "colab_type": "text"
      },
      "source": [
        "#### Process the Percent Change in Price"
      ]
    },
    {
      "cell_type": "code",
      "metadata": {
        "id": "N-9eQCrD6vXL",
        "colab_type": "code",
        "colab": {}
      },
      "source": [
        "def binary_price(delta_predict, delta_real):\n",
        "    \"\"\"\n",
        "    Converts percent change to a binary 1 or 0, where 1 is an increase and 0 is a decrease/no change\n",
        "    \n",
        "    Arguments:\n",
        "    delta_predict -- A tensor of shape (267, 1) that represents the predicted percent change in price\n",
        "    delta_real -- A tensor of shape (267, 1) that represents the real percent change in price\n",
        "    \n",
        "    Returns:\n",
        "    delta_predict_1_0 -- A tensor of shape (267, 1) that represents the binary version of delta_predict\n",
        "    delta_real_1_0 -- A tensor of shape (267, 1) that represents the binary version of delta_real\n",
        "    \"\"\"\n",
        "    #Empty arrays where a 1 represents an increase in price and a 0 represents a decrease in price\n",
        "    delta_predict_1_0 = np.empty(delta_predict.shape)\n",
        "    delta_real_1_0 = np.empty(delta_real.shape)\n",
        "\n",
        "    #If the change in price is greater than zero, store it as a 1\n",
        "    #If the change in price is less than zero, store it as a 0\n",
        "    for i in range(delta_predict.shape[0]):\n",
        "        if delta_predict[i][0] > 0:\n",
        "            delta_predict_1_0[i][0] = 1\n",
        "        else:\n",
        "            delta_predict_1_0[i][0] = 0\n",
        "    for i in range(delta_real.shape[0]):\n",
        "        if delta_real[i][0] > 0:\n",
        "            delta_real_1_0[i][0] = 1\n",
        "        else:\n",
        "            delta_real_1_0[i][0] = 0    \n",
        "\n",
        "    return delta_predict_1_0, delta_real_1_0"
      ],
      "execution_count": 0,
      "outputs": []
    },
    {
      "cell_type": "markdown",
      "metadata": {
        "id": "LdJOPn_a628k",
        "colab_type": "text"
      },
      "source": [
        "#### Comparing Predictions and Real Data"
      ]
    },
    {
      "cell_type": "code",
      "metadata": {
        "id": "mp3y9mFT665O",
        "colab_type": "code",
        "colab": {}
      },
      "source": [
        "def find_positives_negatives(delta_predict_1_0, delta_real_1_0):\n",
        "    \"\"\"\n",
        "    Finding the number of false positives, false negatives, true positives, true negatives\n",
        "    \n",
        "    Arguments: \n",
        "    delta_predict_1_0 -- A tensor of shape (267, 1) that represents the binary version of delta_predict\n",
        "    delta_real_1_0 -- A tensor of shape (267, 1) that represents the binary version of delta_real\n",
        "    \n",
        "    Returns:\n",
        "    true_pos -- An integer that represents the number of true positives achieved by the model\n",
        "    false_pos -- An integer that represents the number of false positives achieved by the model\n",
        "    true_neg -- An integer that represents the number of true negatives achieved by the model\n",
        "    false_neg -- An integer that represents the number of false negatives achieved by the model\n",
        "    \"\"\"\n",
        "    #Finding the number of false positive/negatives and true positives/negatives\n",
        "    true_pos = 0\n",
        "    false_pos = 0\n",
        "    true_neg = 0\n",
        "    false_neg = 0\n",
        "    for i in range(delta_real_1_0.shape[0]):\n",
        "        real = delta_real_1_0[i][0]\n",
        "        predicted = delta_predict_1_0[i][0]\n",
        "        if real == 1:\n",
        "            if predicted == 1:\n",
        "                true_pos += 1\n",
        "            else:\n",
        "                false_neg += 1\n",
        "        elif real == 0:\n",
        "            if predicted == 0:\n",
        "                true_neg += 1\n",
        "            else:\n",
        "                false_pos += 1\n",
        "    return true_pos, false_pos, true_neg, false_neg"
      ],
      "execution_count": 0,
      "outputs": []
    },
    {
      "cell_type": "markdown",
      "metadata": {
        "id": "E4sOxfjJ69vq",
        "colab_type": "text"
      },
      "source": [
        "#### Calculating Statistics"
      ]
    },
    {
      "cell_type": "code",
      "metadata": {
        "id": "7KSwSvtp6_k9",
        "colab_type": "code",
        "colab": {}
      },
      "source": [
        "def calculate_statistics(true_pos, false_pos, true_neg, false_neg, y_predict, Y_test):\n",
        "    \"\"\"\n",
        "    Calculate various statistics to assess performance\n",
        "    \n",
        "    Arguments:\n",
        "    true_pos -- An integer that represents the number of true positives achieved by the model\n",
        "    false_pos -- An integer that represents the number of false positives achieved by the model\n",
        "    true_neg -- An integer that represents the number of true negatives achieved by the model\n",
        "    false_neg -- An integer that represents the number of false negatives achieved by the model\n",
        "    Y_test -- A tensor of shape (267, 1) that represents the normalized y values of the testing data\n",
        "    y_predict -- A tensor of shape (267, 1) that represents the normalized y values of the model's predictions\n",
        "    \n",
        "    Returns:\n",
        "    precision -- How often the model gets a true positive compared to how often it returns a positive\n",
        "    recall -- How often the model gets a true positive compared to how often is hould have gotten a positive\n",
        "    F1 -- The weighted average of recall and precision\n",
        "    Mean Squared Error -- The average of the squares of the differences between predicted and real values\n",
        "    \"\"\"\n",
        "    precision = float(true_pos) / (true_pos + false_pos)\n",
        "    recall = float(true_pos) / (true_pos + false_neg)\n",
        "    F1 = float(2 * precision * recall) / (precision + recall)\n",
        "    #Get Mean Squared Error\n",
        "    MSE = mean_squared_error(y_predict.flatten(), Y_test.flatten())\n",
        "    accuracy = (true_pos + true_neg) / (true_pos + true_neg + false_pos + false_neg)\n",
        "    return precision, recall, F1, MSE, accuracy"
      ],
      "execution_count": 0,
      "outputs": []
    },
    {
      "cell_type": "markdown",
      "metadata": {
        "id": "OCzlLpC97E7C",
        "colab_type": "text"
      },
      "source": [
        "### Putting Together"
      ]
    },
    {
      "cell_type": "code",
      "metadata": {
        "id": "Pit1Ju4kk5-x",
        "colab_type": "code",
        "colab": {}
      },
      "source": [
        "raw_data = pd.read_excel(\"./bitcoin_merged.xlsx\")\n",
        "# raw_data.columns"
      ],
      "execution_count": 0,
      "outputs": []
    },
    {
      "cell_type": "code",
      "metadata": {
        "id": "vax3wSScGm38",
        "colab_type": "code",
        "colab": {}
      },
      "source": [
        "# DATA STARTING AFTER 2013/03/01\n",
        "# raw_data['Date'] = raw_data['Date'].apply(lambda x: dt.strptime(x,\"%Y-%m-%d\"))\n",
        "# raw_data.Date = raw_data.Date.dt.date\n",
        "# raw_data = raw_data[raw_data['Date'] >= dt.strptime(\"13/03/01\", \"%y/%m/%d\").date()]"
      ],
      "execution_count": 0,
      "outputs": []
    },
    {
      "cell_type": "code",
      "metadata": {
        "id": "GAY81YQBB-Bm",
        "colab_type": "code",
        "colab": {}
      },
      "source": [
        "raw_data = raw_data.loc[:, raw_data.columns != 'Date']"
      ],
      "execution_count": 0,
      "outputs": []
    },
    {
      "cell_type": "code",
      "metadata": {
        "id": "5NvOE_j6vVS9",
        "colab_type": "code",
        "colab": {}
      },
      "source": [
        "# raw_data.isnull().any()\n",
        "# raw_data.columns"
      ],
      "execution_count": 0,
      "outputs": []
    },
    {
      "cell_type": "markdown",
      "metadata": {
        "id": "yqaymqWB7Mhe",
        "colab_type": "text"
      },
      "source": [
        "#### Features selection"
      ]
    },
    {
      "cell_type": "markdown",
      "metadata": {
        "id": "SPnLf-g96SnL",
        "colab_type": "text"
      },
      "source": [
        "*First try: >= 0.5* (7/23/19 correlation)"
      ]
    },
    {
      "cell_type": "code",
      "metadata": {
        "id": "aGmRyFAK4SB6",
        "colab_type": "code",
        "colab": {}
      },
      "source": [
        "# raw_data = raw_data[['Transactions per Block', 'Total Transactions',\n",
        "#        'Avg. UTXO Value', 'Hash Rate', 'Metcalfe\\'s Law - UTXO',\n",
        "#        'Chain Value Density', 'Transaction Fees', 'Difficulty', \n",
        "#        'Metcalfe\\'s Law - TX', 'Fees Value', 'Fee Percentage', \n",
        "#        'Transaction Value', 'Market Capitalization', 'Miner Revenue',\n",
        "#        'Daily Transactions', 'Block Size', 'UTXO Set Size', \n",
        "#        'Miner Revenue Value', 'Block Height','Blockchain Size', \n",
        "#        'Money Supply', 'Output Value', 'Bitcoin Core (BTC) Price']]"
      ],
      "execution_count": 0,
      "outputs": []
    },
    {
      "cell_type": "markdown",
      "metadata": {
        "id": "3Pc8NQYG6zRJ",
        "colab_type": "text"
      },
      "source": [
        "*Second try:* >= 0.2 (7/23/19 correlation)"
      ]
    },
    {
      "cell_type": "code",
      "metadata": {
        "id": "sAIncH-w6bE5",
        "colab_type": "code",
        "colab": {}
      },
      "source": [
        "# raw_data = raw_data[['Transactions per Block', 'Total Transactions',\n",
        "#        'Avg. UTXO Value', 'Hash Rate', 'Metcalfe\\'s Law - UTXO', 'Inflation Rate',\n",
        "#        'Chain Value Density', 'Transaction Fees', 'Transaction Size', 'Difficulty', \n",
        "#        'Metcalfe\\'s Law - TX', 'Fees Value', 'Fee Percentage', \n",
        "#        'Transaction Value', 'Market Capitalization', 'Miner Revenue',\n",
        "#        'Daily Transactions', 'Transaction Amount', 'Block Size', 'UTXO Set Size', \n",
        "#        'Avg. UTXO Amount', 'Miner Revenue Value', 'Block Height','Blockchain Size', \n",
        "#        'Money Supply', 'Output Value', 'Bitcoin Core (BTC) Price']]"
      ],
      "execution_count": 0,
      "outputs": []
    },
    {
      "cell_type": "markdown",
      "metadata": {
        "id": "QDTYu1Hh23tk",
        "colab_type": "text"
      },
      "source": [
        "*Third try:* >= 0.5 **(7/24/19 correlation)**"
      ]
    },
    {
      "cell_type": "code",
      "metadata": {
        "id": "4FKX506D23Od",
        "colab_type": "code",
        "colab": {}
      },
      "source": [
        "# raw_data = raw_data[['Fees Value', 'Total Transactions', 'UTXO Set Size',\n",
        "#        'Money Supply', 'Miner Revenue Value', 'Chain Value Density', \n",
        "#        'Transaction Fees', 'Miner Revenue', 'Block Size', 'Fee Percentage', \n",
        "#        'Avg. UTXO Value', 'Transactions per Block', 'Metcalfe\\'s Law - TX',\n",
        "#        'Metcalfe\\'s Law - UTXO', 'Blockchain Size', 'Transaction Value',\n",
        "#        'Block Height', 'Hash Rate', 'Output Value', 'Difficulty',\n",
        "#        'Daily Transactions', 'Market Capitalization', 'Bitcoin Core (BTC) Price']]"
      ],
      "execution_count": 0,
      "outputs": []
    },
    {
      "cell_type": "markdown",
      "metadata": {
        "id": "h7Hs-P5k68ls",
        "colab_type": "text"
      },
      "source": [
        "*4th try:* >= 0.2 **(7/24/19 correlation)**"
      ]
    },
    {
      "cell_type": "code",
      "metadata": {
        "id": "eeqe2qVk6-VI",
        "colab_type": "code",
        "colab": {}
      },
      "source": [
        "# raw_data = raw_data[['Fees Value', 'Total Transactions', 'UTXO Set Size',\n",
        "#        'Transaction Amount', 'Money Supply', 'Miner Revenue Value', 'Chain Value Density', \n",
        "#        'Transaction Fees', 'Transaction Size', 'Miner Revenue', 'Quarterly Hash Growth', \n",
        "#                      'Block Size', 'Fee Percentage', \n",
        "#        'Avg. UTXO Value', 'Transactions per Block', 'Metcalfe\\'s Law - TX',\n",
        "#        'Metcalfe\\'s Law - UTXO', 'Blockchain Size', 'Transaction Value',\n",
        "#        'Block Height', 'Hash Rate', 'Output Value', 'Avg. UTXO Amount', 'Inflation Rate', 'Difficulty',\n",
        "#        'Daily Transactions', 'Market Capitalization', 'Bitcoin Core (BTC) Price']]"
      ],
      "execution_count": 0,
      "outputs": []
    },
    {
      "cell_type": "markdown",
      "metadata": {
        "id": "E0oOVYCEXaXn",
        "colab_type": "text"
      },
      "source": [
        "*5th try:* >= 0.50 **(7/25/19 correlation)** 22 features + 1 target"
      ]
    },
    {
      "cell_type": "code",
      "metadata": {
        "id": "wmJpIfJVXg8Y",
        "colab_type": "code",
        "colab": {}
      },
      "source": [
        "raw_data = raw_data[['Block Size', 'Avg. UTXO Value',\n",
        "       'Miner Revenue Value', 'Daily Transactions', 'Transaction Value',\n",
        "       'Block Height', 'Total Transactions', 'Difficulty', \n",
        "       'Chain Value Density', 'Output Value', 'Transactions per Block', \n",
        "       'Blockchain Size', 'Fees Value', 'Fee Percentage', \n",
        "       'Metcalfe\\'s Law - TX', 'Metcalfe\\'s Law - UTXO', 'Market Capitalization',\n",
        "       'Money Supply', 'Transaction Fees', 'UTXO Set Size', \n",
        "       'Hash Rate', 'Miner Revenue', 'Bitcoin Core (BTC) Price']]"
      ],
      "execution_count": 0,
      "outputs": []
    },
    {
      "cell_type": "code",
      "metadata": {
        "id": "W4e8wDFY7Wgr",
        "colab_type": "code",
        "outputId": "cce6fcbc-a4ee-4600-8ef3-171a394a30e8",
        "colab": {
          "base_uri": "https://localhost:8080/",
          "height": 34
        }
      },
      "source": [
        "raw_data.shape"
      ],
      "execution_count": 41,
      "outputs": [
        {
          "output_type": "execute_result",
          "data": {
            "text/plain": [
              "(3263, 23)"
            ]
          },
          "metadata": {
            "tags": []
          },
          "execution_count": 41
        }
      ]
    },
    {
      "cell_type": "markdown",
      "metadata": {
        "id": "5X2sgmFm4TiV",
        "colab_type": "text"
      },
      "source": [
        "#### Splitting data"
      ]
    },
    {
      "cell_type": "code",
      "metadata": {
        "id": "ze0SNchR7GaY",
        "colab_type": "code",
        "outputId": "0c970374-926d-44b1-f59b-0705f12d965e",
        "colab": {
          "base_uri": "https://localhost:8080/",
          "height": 136
        }
      },
      "source": [
        "X_train, Y_train, X_test, Y_test, Y_daybefore, unnormalized_bases, window_size = load_data(raw_data, 50)\n",
        "print (X_train.shape)\n",
        "print (Y_train.shape)\n",
        "print (X_test.shape)\n",
        "print (Y_test.shape)\n",
        "print (Y_daybefore.shape)\n",
        "print (unnormalized_bases.shape)\n",
        "print (window_size)"
      ],
      "execution_count": 81,
      "outputs": [
        {
          "output_type": "stream",
          "text": [
            "(2892, 49, 23)\n",
            "(2892,)\n",
            "(321, 49, 23)\n",
            "(321,)\n",
            "(321,)\n",
            "(321, 1)\n",
            "49\n"
          ],
          "name": "stdout"
        }
      ]
    },
    {
      "cell_type": "markdown",
      "metadata": {
        "id": "8GFjcR1lCUpV",
        "colab_type": "text"
      },
      "source": [
        "#### Model"
      ]
    },
    {
      "cell_type": "code",
      "metadata": {
        "id": "ZQyqTqF9CRB8",
        "colab_type": "code",
        "outputId": "db018662-f5d9-45c8-8500-5522bdf28674",
        "colab": {
          "base_uri": "https://localhost:8080/",
          "height": 391
        }
      },
      "source": [
        "model = initialize_model(window_size, 0.2, 'linear', 'mse', 'adam')\n",
        "print (model.summary())"
      ],
      "execution_count": 82,
      "outputs": [
        {
          "output_type": "stream",
          "text": [
            "_________________________________________________________________\n",
            "Layer (type)                 Output Shape              Param #   \n",
            "=================================================================\n",
            "bidirectional_7 (Bidirection (None, 49, 98)            28616     \n",
            "_________________________________________________________________\n",
            "dropout_5 (Dropout)          (None, 49, 98)            0         \n",
            "_________________________________________________________________\n",
            "bidirectional_8 (Bidirection (None, 49, 196)           154448    \n",
            "_________________________________________________________________\n",
            "dropout_6 (Dropout)          (None, 49, 196)           0         \n",
            "_________________________________________________________________\n",
            "bidirectional_9 (Bidirection (None, 98)                96432     \n",
            "_________________________________________________________________\n",
            "dense_3 (Dense)              (None, 1)                 99        \n",
            "_________________________________________________________________\n",
            "activation_3 (Activation)    (None, 1)                 0         \n",
            "=================================================================\n",
            "Total params: 279,595\n",
            "Trainable params: 279,595\n",
            "Non-trainable params: 0\n",
            "_________________________________________________________________\n",
            "None\n"
          ],
          "name": "stdout"
        }
      ]
    },
    {
      "cell_type": "markdown",
      "metadata": {
        "id": "38dP_3XPCWOq",
        "colab_type": "text"
      },
      "source": [
        "Train model"
      ]
    },
    {
      "cell_type": "code",
      "metadata": {
        "id": "i8g0DaQdCZiE",
        "colab_type": "code",
        "outputId": "71b58444-5421-4b17-e3f5-8ad840618152",
        "colab": {
          "base_uri": "https://localhost:8080/",
          "height": 1000
        }
      },
      "source": [
        "model, training_time = fit_model(model, X_train, Y_train, 1024, 50, .05)\n",
        "\n",
        "#Print the training time\n",
        "print (\"Training time\", training_time, \"seconds\")"
      ],
      "execution_count": 89,
      "outputs": [
        {
          "output_type": "stream",
          "text": [
            "/usr/local/lib/python3.6/dist-packages/ipykernel_launcher.py:21: UserWarning: The `nb_epoch` argument in `fit` has been renamed `epochs`.\n"
          ],
          "name": "stderr"
        },
        {
          "output_type": "stream",
          "text": [
            "Train on 2747 samples, validate on 145 samples\n",
            "Epoch 1/50\n",
            "2747/2747 [==============================] - 3s 1ms/step - loss: 0.0264 - val_loss: 0.2405\n",
            "Epoch 2/50\n",
            "2747/2747 [==============================] - 3s 915us/step - loss: 0.0276 - val_loss: 0.2009\n",
            "Epoch 3/50\n",
            "2747/2747 [==============================] - 3s 915us/step - loss: 0.0290 - val_loss: 0.2227\n",
            "Epoch 4/50\n",
            "2747/2747 [==============================] - 3s 911us/step - loss: 0.0282 - val_loss: 0.2698\n",
            "Epoch 5/50\n",
            "2747/2747 [==============================] - 3s 926us/step - loss: 0.0245 - val_loss: 0.2721\n",
            "Epoch 6/50\n",
            "2747/2747 [==============================] - 3s 921us/step - loss: 0.0242 - val_loss: 0.2552\n",
            "Epoch 7/50\n",
            "2747/2747 [==============================] - 3s 922us/step - loss: 0.0215 - val_loss: 0.2340\n",
            "Epoch 8/50\n",
            "2747/2747 [==============================] - 2s 909us/step - loss: 0.0204 - val_loss: 0.2484\n",
            "Epoch 9/50\n",
            "2747/2747 [==============================] - 3s 916us/step - loss: 0.0227 - val_loss: 0.2105\n",
            "Epoch 10/50\n",
            "2747/2747 [==============================] - 3s 919us/step - loss: 0.0201 - val_loss: 0.1726\n",
            "Epoch 11/50\n",
            "2747/2747 [==============================] - 3s 924us/step - loss: 0.0185 - val_loss: 0.1922\n",
            "Epoch 12/50\n",
            "2747/2747 [==============================] - 3s 913us/step - loss: 0.0187 - val_loss: 0.2044\n",
            "Epoch 13/50\n",
            "2747/2747 [==============================] - 3s 922us/step - loss: 0.0197 - val_loss: 0.2493\n",
            "Epoch 14/50\n",
            "2747/2747 [==============================] - 3s 927us/step - loss: 0.0204 - val_loss: 0.2244\n",
            "Epoch 15/50\n",
            "2747/2747 [==============================] - 3s 920us/step - loss: 0.0233 - val_loss: 0.2813\n",
            "Epoch 16/50\n",
            "2747/2747 [==============================] - 3s 918us/step - loss: 0.0201 - val_loss: 0.2599\n",
            "Epoch 17/50\n",
            "2747/2747 [==============================] - 3s 913us/step - loss: 0.0201 - val_loss: 0.1479\n",
            "Epoch 18/50\n",
            "2747/2747 [==============================] - 3s 913us/step - loss: 0.0207 - val_loss: 0.1722\n",
            "Epoch 19/50\n",
            "2747/2747 [==============================] - 3s 926us/step - loss: 0.0172 - val_loss: 0.2234\n",
            "Epoch 20/50\n",
            "2747/2747 [==============================] - 3s 916us/step - loss: 0.0173 - val_loss: 0.1831\n",
            "Epoch 21/50\n",
            "2747/2747 [==============================] - 3s 920us/step - loss: 0.0175 - val_loss: 0.2059\n",
            "Epoch 22/50\n",
            "2747/2747 [==============================] - 3s 919us/step - loss: 0.0159 - val_loss: 0.2086\n",
            "Epoch 23/50\n",
            "2747/2747 [==============================] - 3s 920us/step - loss: 0.0147 - val_loss: 0.1866\n",
            "Epoch 24/50\n",
            "2747/2747 [==============================] - 3s 924us/step - loss: 0.0157 - val_loss: 0.1954\n",
            "Epoch 25/50\n",
            "2747/2747 [==============================] - 3s 912us/step - loss: 0.0144 - val_loss: 0.2667\n",
            "Epoch 26/50\n",
            "2747/2747 [==============================] - 3s 919us/step - loss: 0.0158 - val_loss: 0.2044\n",
            "Epoch 27/50\n",
            "2747/2747 [==============================] - 3s 918us/step - loss: 0.0138 - val_loss: 0.1899\n",
            "Epoch 28/50\n",
            "2747/2747 [==============================] - 3s 928us/step - loss: 0.0142 - val_loss: 0.2088\n",
            "Epoch 29/50\n",
            "2747/2747 [==============================] - 3s 918us/step - loss: 0.0138 - val_loss: 0.1864\n",
            "Epoch 30/50\n",
            "2747/2747 [==============================] - 2s 908us/step - loss: 0.0125 - val_loss: 0.1691\n",
            "Epoch 31/50\n",
            "2747/2747 [==============================] - 3s 917us/step - loss: 0.0128 - val_loss: 0.1813\n",
            "Epoch 32/50\n",
            "2747/2747 [==============================] - 3s 935us/step - loss: 0.0124 - val_loss: 0.2039\n",
            "Epoch 33/50\n",
            "2747/2747 [==============================] - 3s 914us/step - loss: 0.0142 - val_loss: 0.1907\n",
            "Epoch 34/50\n",
            "2747/2747 [==============================] - 2s 909us/step - loss: 0.0118 - val_loss: 0.1852\n",
            "Epoch 35/50\n",
            "2747/2747 [==============================] - 2s 909us/step - loss: 0.0106 - val_loss: 0.1605\n",
            "Epoch 36/50\n",
            "2747/2747 [==============================] - 3s 916us/step - loss: 0.0114 - val_loss: 0.1541\n",
            "Epoch 37/50\n",
            "2747/2747 [==============================] - 3s 923us/step - loss: 0.0118 - val_loss: 0.1592\n",
            "Epoch 38/50\n",
            "2747/2747 [==============================] - 3s 911us/step - loss: 0.0132 - val_loss: 0.2202\n",
            "Epoch 39/50\n",
            "2747/2747 [==============================] - 2s 909us/step - loss: 0.0110 - val_loss: 0.1812\n",
            "Epoch 40/50\n",
            "2747/2747 [==============================] - 2s 905us/step - loss: 0.0117 - val_loss: 0.1886\n",
            "Epoch 41/50\n",
            "2747/2747 [==============================] - 3s 916us/step - loss: 0.0116 - val_loss: 0.2014\n",
            "Epoch 42/50\n",
            "2747/2747 [==============================] - 3s 917us/step - loss: 0.0118 - val_loss: 0.2239\n",
            "Epoch 43/50\n",
            "2747/2747 [==============================] - 2s 910us/step - loss: 0.0119 - val_loss: 0.1807\n",
            "Epoch 44/50\n",
            "2747/2747 [==============================] - 3s 911us/step - loss: 0.0117 - val_loss: 0.2019\n",
            "Epoch 45/50\n",
            "2747/2747 [==============================] - 3s 923us/step - loss: 0.0114 - val_loss: 0.2333\n",
            "Epoch 46/50\n",
            "2747/2747 [==============================] - 2s 909us/step - loss: 0.0111 - val_loss: 0.2211\n",
            "Epoch 47/50\n",
            "2747/2747 [==============================] - 3s 923us/step - loss: 0.0113 - val_loss: 0.2005\n",
            "Epoch 48/50\n",
            "2747/2747 [==============================] - 3s 919us/step - loss: 0.0109 - val_loss: 0.1659\n",
            "Epoch 49/50\n",
            "2747/2747 [==============================] - 2s 905us/step - loss: 0.0103 - val_loss: 0.1595\n",
            "Epoch 50/50\n",
            "2747/2747 [==============================] - 3s 929us/step - loss: 0.0100 - val_loss: 0.1556\n",
            "Training time 126 seconds\n"
          ],
          "name": "stdout"
        }
      ]
    },
    {
      "cell_type": "markdown",
      "metadata": {
        "id": "y7FxJ_DUCtor",
        "colab_type": "text"
      },
      "source": [
        ""
      ]
    },
    {
      "cell_type": "code",
      "metadata": {
        "id": "MbYWoZv5Ct_K",
        "colab_type": "code",
        "outputId": "a4584a0e-a075-49b5-ccbe-f26e06f9ee5d",
        "colab": {
          "base_uri": "https://localhost:8080/",
          "height": 350
        }
      },
      "source": [
        "y_predict, real_y_test, real_y_predict, fig1 = test_model(model, X_test, Y_test, unnormalized_bases)\n",
        "\n",
        "#Show the plot\n",
        "plt.show(fig1)"
      ],
      "execution_count": 90,
      "outputs": [
        {
          "output_type": "display_data",
          "data": {
            "image/png": "[encoded data removed]",
            "text/plain": [
              "<Figure size 720x360 with 1 Axes>"
            ]
          },
          "metadata": {
            "tags": []
          }
        }
      ]
    },
    {
      "cell_type": "markdown",
      "metadata": {
        "id": "JsKt12isCvA6",
        "colab_type": "text"
      },
      "source": [
        ""
      ]
    },
    {
      "cell_type": "code",
      "metadata": {
        "id": "ywK5pjS8Cuok",
        "colab_type": "code",
        "outputId": "f048d018-4c0b-4892-c665-461029854ffb",
        "colab": {
          "base_uri": "https://localhost:8080/",
          "height": 404
        }
      },
      "source": [
        "Y_daybefore, Y_test, delta_predict, delta_real, fig2 = price_change(Y_daybefore, Y_test, y_predict)\n",
        "\n",
        "#Show the plot\n",
        "plt.show(fig2)"
      ],
      "execution_count": 91,
      "outputs": [
        {
          "output_type": "display_data",
          "data": {
            "image/png": "[encoded data removed]",
            "text/plain": [
              "<Figure size 720x432 with 1 Axes>"
            ]
          },
          "metadata": {
            "tags": []
          }
        }
      ]
    },
    {
      "cell_type": "markdown",
      "metadata": {
        "id": "Ys5-mSnWCxfO",
        "colab_type": "text"
      },
      "source": [
        ""
      ]
    },
    {
      "cell_type": "code",
      "metadata": {
        "id": "OB_in48QCw_0",
        "colab_type": "code",
        "outputId": "5cd61c7e-49f3-4ca4-bb3c-6c6bfe02cb86",
        "colab": {
          "base_uri": "https://localhost:8080/",
          "height": 51
        }
      },
      "source": [
        "delta_predict_1_0, delta_real_1_0 = binary_price(delta_predict, delta_real)\n",
        "\n",
        "print (delta_predict_1_0.shape)\n",
        "print (delta_real_1_0.shape)"
      ],
      "execution_count": 92,
      "outputs": [
        {
          "output_type": "stream",
          "text": [
            "(321, 1)\n",
            "(321, 1)\n"
          ],
          "name": "stdout"
        }
      ]
    },
    {
      "cell_type": "markdown",
      "metadata": {
        "id": "rHl__S1tC0kO",
        "colab_type": "text"
      },
      "source": [
        ""
      ]
    },
    {
      "cell_type": "code",
      "metadata": {
        "id": "_fwDfH15C07r",
        "colab_type": "code",
        "outputId": "c0249e29-451b-4d98-ebe6-86d5958722fe",
        "colab": {
          "base_uri": "https://localhost:8080/",
          "height": 85
        }
      },
      "source": [
        "true_pos, false_pos, true_neg, false_neg = find_positives_negatives(delta_predict_1_0, delta_real_1_0)\n",
        "print (\"True positives:\", true_pos)\n",
        "print (\"False positives:\", false_pos)\n",
        "print (\"True negatives:\", true_neg)\n",
        "print (\"False negatives:\", false_neg)"
      ],
      "execution_count": 93,
      "outputs": [
        {
          "output_type": "stream",
          "text": [
            "True positives: 111\n",
            "False positives: 90\n",
            "True negatives: 62\n",
            "False negatives: 58\n"
          ],
          "name": "stdout"
        }
      ]
    },
    {
      "cell_type": "markdown",
      "metadata": {
        "id": "eCYPxHKeC3iF",
        "colab_type": "text"
      },
      "source": [
        ""
      ]
    },
    {
      "cell_type": "code",
      "metadata": {
        "id": "CwWxiK0iC3Ei",
        "colab_type": "code",
        "outputId": "4ced279e-217f-40db-87f1-cae9729d4d28",
        "colab": {
          "base_uri": "https://localhost:8080/",
          "height": 102
        }
      },
      "source": [
        "precision, recall, F1, MSE, accuracy = calculate_statistics(true_pos, false_pos, true_neg, false_neg, y_predict, Y_test)\n",
        "print (\"Precision:\", precision)\n",
        "print (\"Recall:\", recall)\n",
        "print (\"F1 score:\", F1)\n",
        "print (\"Mean Squared Error:\", MSE)\n",
        "print (\"Accuracy:\", accuracy)"
      ],
      "execution_count": 97,
      "outputs": [
        {
          "output_type": "stream",
          "text": [
            "Precision: 0.5522388059701493\n",
            "Recall: 0.6568047337278107\n",
            "F1 score: 0.6000000000000001\n",
            "Mean Squared Error: 0.005146111001013244\n",
            "Accuracy: 0.5389408099688473\n"
          ],
          "name": "stdout"
        }
      ]
    },
    {
      "cell_type": "code",
      "metadata": {
        "id": "afunPvhJ3EN6",
        "colab_type": "code",
        "colab": {}
      },
      "source": [
        "import pickle\n",
        "\n",
        "pkl_filename = \"pickle_model.pkl\"\n",
        "with open(pkl_filename, 'wb') as file:\n",
        "    pickle.dump(model, file)"
      ],
      "execution_count": 0,
      "outputs": []
    },
    {
      "cell_type": "code",
      "metadata": {
        "id": "DIH5K_16IRT6",
        "colab_type": "code",
        "colab": {}
      },
      "source": [
        ""
      ],
      "execution_count": 0,
      "outputs": []
    }
  ]
}