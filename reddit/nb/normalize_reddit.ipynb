{
 "cells": [
  {
   "cell_type": "code",
   "execution_count": 30,
   "metadata": {},
   "outputs": [],
   "source": [
    "import pandas as pd\n",
    "import numpy as np\n",
    "from sklearn.preprocessing import MinMaxScaler"
   ]
  },
  {
   "cell_type": "code",
   "execution_count": 31,
   "metadata": {},
   "outputs": [
    {
     "name": "stdout",
     "output_type": "stream",
     "text": [
      "<class 'pandas.core.frame.DataFrame'>\n"
     ]
    }
   ],
   "source": [
    "# could alternatively read in 'reddit_dailyscores_ours.csv' to progress with our sentiment analyzer\n",
    "df = pd.read_csv('../data/reddit_dailyscores.csv')\n",
    "scaler = MinMaxScaler()\n",
    "\n",
    "# scale all cols besides date to range from zero to one\n",
    "for item in df:\n",
    "    if item != 'Date':\n",
    "        df[item] = scaler.fit_transform(df[[item]])"
   ]
  },
  {
   "cell_type": "code",
   "execution_count": 32,
   "metadata": {},
   "outputs": [
    {
     "data": {
      "text/html": [
       "<div>\n",
       "<style scoped>\n",
       "    .dataframe tbody tr th:only-of-type {\n",
       "        vertical-align: middle;\n",
       "    }\n",
       "\n",
       "    .dataframe tbody tr th {\n",
       "        vertical-align: top;\n",
       "    }\n",
       "\n",
       "    .dataframe thead th {\n",
       "        text-align: right;\n",
       "    }\n",
       "</style>\n",
       "<table border=\"1\" class=\"dataframe\">\n",
       "  <thead>\n",
       "    <tr style=\"text-align: right;\">\n",
       "      <th></th>\n",
       "      <th>Date</th>\n",
       "      <th>r_tit_pol_comm</th>\n",
       "      <th>r_tit_pol_score</th>\n",
       "      <th>r_bod_pol_comm</th>\n",
       "      <th>r_bod_pol_score</th>\n",
       "      <th>count</th>\n",
       "    </tr>\n",
       "  </thead>\n",
       "  <tbody>\n",
       "    <tr>\n",
       "      <th>0</th>\n",
       "      <td>2010-12-01</td>\n",
       "      <td>0.0</td>\n",
       "      <td>0.065217</td>\n",
       "      <td>0.0</td>\n",
       "      <td>0.0</td>\n",
       "      <td>0.0</td>\n",
       "    </tr>\n",
       "    <tr>\n",
       "      <th>1</th>\n",
       "      <td>2010-12-11</td>\n",
       "      <td>0.0</td>\n",
       "      <td>0.038043</td>\n",
       "      <td>0.0</td>\n",
       "      <td>0.0</td>\n",
       "      <td>0.0</td>\n",
       "    </tr>\n",
       "    <tr>\n",
       "      <th>2</th>\n",
       "      <td>2011-02-10</td>\n",
       "      <td>0.0</td>\n",
       "      <td>0.000000</td>\n",
       "      <td>0.0</td>\n",
       "      <td>0.0</td>\n",
       "      <td>0.0</td>\n",
       "    </tr>\n",
       "    <tr>\n",
       "      <th>3</th>\n",
       "      <td>2011-02-20</td>\n",
       "      <td>0.0</td>\n",
       "      <td>0.005435</td>\n",
       "      <td>0.0</td>\n",
       "      <td>0.0</td>\n",
       "      <td>0.0</td>\n",
       "    </tr>\n",
       "    <tr>\n",
       "      <th>4</th>\n",
       "      <td>2011-03-21</td>\n",
       "      <td>0.0</td>\n",
       "      <td>0.016304</td>\n",
       "      <td>0.0</td>\n",
       "      <td>0.0</td>\n",
       "      <td>0.0</td>\n",
       "    </tr>\n",
       "  </tbody>\n",
       "</table>\n",
       "</div>"
      ],
      "text/plain": [
       "         Date  r_tit_pol_comm  r_tit_pol_score  r_bod_pol_comm  \\\n",
       "0  2010-12-01             0.0         0.065217             0.0   \n",
       "1  2010-12-11             0.0         0.038043             0.0   \n",
       "2  2011-02-10             0.0         0.000000             0.0   \n",
       "3  2011-02-20             0.0         0.005435             0.0   \n",
       "4  2011-03-21             0.0         0.016304             0.0   \n",
       "\n",
       "   r_bod_pol_score  count  \n",
       "0              0.0    0.0  \n",
       "1              0.0    0.0  \n",
       "2              0.0    0.0  \n",
       "3              0.0    0.0  \n",
       "4              0.0    0.0  "
      ]
     },
     "execution_count": 32,
     "metadata": {},
     "output_type": "execute_result"
    }
   ],
   "source": [
    "df.head()"
   ]
  },
  {
   "cell_type": "code",
   "execution_count": 33,
   "metadata": {},
   "outputs": [],
   "source": [
    "# spread out the values a little more\n",
    "for item in df:\n",
    "    if item!='Date':    \n",
    "        df[item] = np.power(df[item],1./4)"
   ]
  },
  {
   "cell_type": "code",
   "execution_count": 34,
   "metadata": {},
   "outputs": [
    {
     "data": {
      "text/html": [
       "<div>\n",
       "<style scoped>\n",
       "    .dataframe tbody tr th:only-of-type {\n",
       "        vertical-align: middle;\n",
       "    }\n",
       "\n",
       "    .dataframe tbody tr th {\n",
       "        vertical-align: top;\n",
       "    }\n",
       "\n",
       "    .dataframe thead th {\n",
       "        text-align: right;\n",
       "    }\n",
       "</style>\n",
       "<table border=\"1\" class=\"dataframe\">\n",
       "  <thead>\n",
       "    <tr style=\"text-align: right;\">\n",
       "      <th></th>\n",
       "      <th>r_tit_pol_comm</th>\n",
       "      <th>r_tit_pol_score</th>\n",
       "      <th>r_bod_pol_comm</th>\n",
       "      <th>r_bod_pol_score</th>\n",
       "      <th>count</th>\n",
       "    </tr>\n",
       "  </thead>\n",
       "  <tbody>\n",
       "    <tr>\n",
       "      <th>count</th>\n",
       "      <td>2388.000000</td>\n",
       "      <td>2388.000000</td>\n",
       "      <td>2388.000000</td>\n",
       "      <td>2388.000000</td>\n",
       "      <td>2388.000000</td>\n",
       "    </tr>\n",
       "    <tr>\n",
       "      <th>mean</th>\n",
       "      <td>0.130888</td>\n",
       "      <td>0.287493</td>\n",
       "      <td>0.078621</td>\n",
       "      <td>0.114147</td>\n",
       "      <td>0.282734</td>\n",
       "    </tr>\n",
       "    <tr>\n",
       "      <th>std</th>\n",
       "      <td>0.065166</td>\n",
       "      <td>0.120297</td>\n",
       "      <td>0.071974</td>\n",
       "      <td>0.088076</td>\n",
       "      <td>0.198382</td>\n",
       "    </tr>\n",
       "    <tr>\n",
       "      <th>min</th>\n",
       "      <td>0.000000</td>\n",
       "      <td>0.000000</td>\n",
       "      <td>0.000000</td>\n",
       "      <td>0.000000</td>\n",
       "      <td>0.000000</td>\n",
       "    </tr>\n",
       "    <tr>\n",
       "      <th>25%</th>\n",
       "      <td>0.098532</td>\n",
       "      <td>0.227698</td>\n",
       "      <td>0.048477</td>\n",
       "      <td>0.074999</td>\n",
       "      <td>0.151414</td>\n",
       "    </tr>\n",
       "    <tr>\n",
       "      <th>50%</th>\n",
       "      <td>0.125631</td>\n",
       "      <td>0.277878</td>\n",
       "      <td>0.068413</td>\n",
       "      <td>0.104907</td>\n",
       "      <td>0.193014</td>\n",
       "    </tr>\n",
       "    <tr>\n",
       "      <th>75%</th>\n",
       "      <td>0.156148</td>\n",
       "      <td>0.332273</td>\n",
       "      <td>0.095339</td>\n",
       "      <td>0.136610</td>\n",
       "      <td>0.472524</td>\n",
       "    </tr>\n",
       "    <tr>\n",
       "      <th>max</th>\n",
       "      <td>1.000000</td>\n",
       "      <td>1.000000</td>\n",
       "      <td>1.000000</td>\n",
       "      <td>1.000000</td>\n",
       "      <td>1.000000</td>\n",
       "    </tr>\n",
       "  </tbody>\n",
       "</table>\n",
       "</div>"
      ],
      "text/plain": [
       "       r_tit_pol_comm  r_tit_pol_score  r_bod_pol_comm  r_bod_pol_score  \\\n",
       "count     2388.000000      2388.000000     2388.000000      2388.000000   \n",
       "mean         0.130888         0.287493        0.078621         0.114147   \n",
       "std          0.065166         0.120297        0.071974         0.088076   \n",
       "min          0.000000         0.000000        0.000000         0.000000   \n",
       "25%          0.098532         0.227698        0.048477         0.074999   \n",
       "50%          0.125631         0.277878        0.068413         0.104907   \n",
       "75%          0.156148         0.332273        0.095339         0.136610   \n",
       "max          1.000000         1.000000        1.000000         1.000000   \n",
       "\n",
       "             count  \n",
       "count  2388.000000  \n",
       "mean      0.282734  \n",
       "std       0.198382  \n",
       "min       0.000000  \n",
       "25%       0.151414  \n",
       "50%       0.193014  \n",
       "75%       0.472524  \n",
       "max       1.000000  "
      ]
     },
     "execution_count": 34,
     "metadata": {},
     "output_type": "execute_result"
    }
   ],
   "source": [
    "df.describe()"
   ]
  },
  {
   "cell_type": "code",
   "execution_count": 35,
   "metadata": {},
   "outputs": [],
   "source": [
    "# for textblob analyzer\n",
    "df.to_csv('../data/reddit_daily_normalized.csv', index=False)"
   ]
  },
  {
   "cell_type": "code",
   "execution_count": null,
   "metadata": {},
   "outputs": [],
   "source": [
    "# for our analyzer\n",
    "df.to_csv('../data/reddit_daily_normalized_ours.csv', index=False)"
   ]
  }
 ],
 "metadata": {
  "kernelspec": {
   "display_name": "Python 3",
   "language": "python",
   "name": "python3"
  },
  "language_info": {
   "codemirror_mode": {
    "name": "ipython",
    "version": 3
   },
   "file_extension": ".py",
   "mimetype": "text/x-python",
   "name": "python",
   "nbconvert_exporter": "python",
   "pygments_lexer": "ipython3",
   "version": "3.7.3"
  }
 },
 "nbformat": 4,
 "nbformat_minor": 2
}
