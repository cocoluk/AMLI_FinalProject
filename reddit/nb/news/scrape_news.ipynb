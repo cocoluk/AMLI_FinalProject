{
 "cells": [
  {
   "cell_type": "code",
   "execution_count": 9,
   "metadata": {},
   "outputs": [],
   "source": [
    "import datetime as dt\n",
    "import requests\n",
    "import pandas as pd\n",
    "import csv"
   ]
  },
  {
   "cell_type": "code",
   "execution_count": 10,
   "metadata": {},
   "outputs": [],
   "source": [
    "def extract(json, out_dict):\n",
    "    \"\"\" inputs:\n",
    "            json: a json file retrieved from the pushshift.io api\n",
    "            out_dict: a dictionary containing at least the six keys called below\n",
    "        output:\n",
    "            none, the input dictionary is modified in place, receiving the \n",
    "                desired information from the json file\n",
    "    \"\"\"\n",
    "    for item in json['data']:\n",
    "        out_dict['title'].append(item['title'])\n",
    "        out_dict['score'].append(item['score'])\n",
    "        out_dict['id'].append(item['id'])\n",
    "        out_dict['comments'].append(item['num_comments'])\n",
    "        out_dict['created'].append(item['created_utc'])\n",
    "        try:\n",
    "            out_dict['body'].append(item['selftext'])\n",
    "        except KeyError:\n",
    "            out_dict['body'].append('')"
   ]
  },
  {
   "cell_type": "code",
   "execution_count": 11,
   "metadata": {},
   "outputs": [],
   "source": [
    "def scrape_news(out_dict, end, iterations, interval, interval_divisor):\n",
    "    \"\"\" inputs:\n",
    "            out_dict: a dictionary containing at least the six keys called in 'extract(json, outdict)'\n",
    "                **will be modified to contain all the information scraped\n",
    "            end: a datetime object delineating the latest day in time to be scraped\n",
    "            iterations: the number of steps back in time to take\n",
    "            interval: a timedelta object representing the step size covered by each iteration\n",
    "            interval_divisor: integer describing the number of chunks into which to split any time \n",
    "                interval during which more than 500 mentions of bitcoin occur\n",
    "        output:\n",
    "            error_log: a list of urls who's json files weren't retrieved\n",
    "    \"\"\"\n",
    "    error_log = []\n",
    "    for i in range(iterations):\n",
    "        begin = end - interval\n",
    "\n",
    "        url = 'https://api.pushshift.io/reddit/search/submission/?q=bitcoin&subreddit=news&score=>2&size=500'\n",
    "        url += '&before={}'.format(int(end.timestamp()))\n",
    "        url += '&after={}'.format(int(begin.timestamp()))\n",
    "\n",
    "        try:\n",
    "            json = requests.get(url).json()\n",
    "            \n",
    "            if len(json['data']) == 500:\n",
    "                print(end)\n",
    "                error_log.extend(scrape_news(out_dict, \n",
    "                                    end, \n",
    "                                    interval_divisor, \n",
    "                                    (interval/interval_divisor), \n",
    "                                    interval_divisor))\n",
    "            else:\n",
    "                extract(json, out_dict)\n",
    "                \n",
    "        except ValueError:\n",
    "            error_log.append(url)\n",
    "                \n",
    "        end = begin\n",
    "        \n",
    "    return error_log"
   ]
  },
  {
   "cell_type": "code",
   "execution_count": 12,
   "metadata": {
    "scrolled": true
   },
   "outputs": [],
   "source": [
    "data_dict = {\"title\":[],\n",
    "                \"score\":[],\n",
    "                \"id\":[],\n",
    "                \"comments\": [],\n",
    "                \"created\": [],\n",
    "                \"body\":[]}\n",
    "\n",
    "end = dt.datetime.today()\n",
    "\n",
    "# can be tuned to speed up the process depending on how often the query is mentioned in the news subreddit\n",
    "interval = dt.timedelta(weeks=52)\n",
    "\n",
    "interval_divisor = 2\n",
    "\n",
    "iterations = 10\n",
    "\n",
    "error_log = scrape_news(data_dict, end, iterations, interval, interval_divisor)"
   ]
  },
  {
   "cell_type": "code",
   "execution_count": 17,
   "metadata": {},
   "outputs": [
    {
     "name": "stdout",
     "output_type": "stream",
     "text": [
      "title 763\n",
      "score 763\n",
      "id 763\n",
      "comments 763\n",
      "created 763\n",
      "body 763\n"
     ]
    }
   ],
   "source": [
    "# checking that we have the same number of items for each field\n",
    "for item in data_dict:\n",
    "    print(item, len(data_dict[item]))"
   ]
  },
  {
   "cell_type": "code",
   "execution_count": 18,
   "metadata": {},
   "outputs": [
    {
     "name": "stdout",
     "output_type": "stream",
     "text": [
      "0\n"
     ]
    }
   ],
   "source": [
    "print(len(error_log))\n",
    "\n",
    "# adding the info from the urls in the error log to the dictionary\n",
    "for item in error_log:\n",
    "    json = requests.get(item).json()\n",
    "    extract(json, data_dict)"
   ]
  },
  {
   "cell_type": "code",
   "execution_count": 15,
   "metadata": {},
   "outputs": [
    {
     "name": "stdout",
     "output_type": "stream",
     "text": [
      "763\n"
     ]
    }
   ],
   "source": [
    "count = 0\n",
    "for i in range(len(data_dict['title'])):\n",
    "    if data_dict['score'][i] > 2:\n",
    "        count += 1\n",
    "print(count)"
   ]
  },
  {
   "cell_type": "code",
   "execution_count": 16,
   "metadata": {},
   "outputs": [],
   "source": [
    "# writing out the dictionary to a csv\n",
    "data = pd.DataFrame(data_dict)\n",
    "\n",
    "data.to_csv('../../data/reddit_news.csv', index=False)"
   ]
  }
 ],
 "metadata": {
  "kernelspec": {
   "display_name": "Python 3",
   "language": "python",
   "name": "python3"
  },
  "language_info": {
   "codemirror_mode": {
    "name": "ipython",
    "version": 3
   },
   "file_extension": ".py",
   "mimetype": "text/x-python",
   "name": "python",
   "nbconvert_exporter": "python",
   "pygments_lexer": "ipython3",
   "version": "3.7.3"
  }
 },
 "nbformat": 4,
 "nbformat_minor": 2
}
