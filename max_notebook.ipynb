{
 "cells": [
  {
   "cell_type": "code",
   "execution_count": 1,
   "metadata": {},
   "outputs": [],
   "source": [
    "# Max's JupyterLab notebook file"
   ]
  },
  {
   "cell_type": "code",
   "execution_count": 27,
   "metadata": {},
   "outputs": [
    {
     "name": "stdout",
     "output_type": "stream",
     "text": [
      "IMPORTING_MODULES...\n",
      "DONE.\n"
     ]
    }
   ],
   "source": [
    "# import modules\n",
    "\n",
    "print(\"IMPORTING_MODULES...\")\n",
    "\n",
    "import matplotlib as plot\n",
    "import tensorflow as tf\n",
    "import datetime\n",
    "import seaborn as sns\n",
    "import urllib.request\n",
    "import altair as alt\n",
    "import pandas as pd\n",
    "import pandas as pd\n",
    "import numpy as np\n",
    "import collections\n",
    "import numpy as np\n",
    "import cv2 as cv\n",
    "import time\n",
    "import tarfile\n",
    "import shutil\n",
    "import pickle\n",
    "import random\n",
    "import math\n",
    "import os\n",
    "import os.path\n",
    "from os import path\n",
    "from tqdm import tqdm_gui\n",
    "from tqdm import tqdm\n",
    "import datetime\n",
    "import matplotlib.pyplot as plt\n",
    "from matplotlib import style\n",
    "import pandas as pd\n",
    "import pandas_datareader.data as web\n",
    "\n",
    "print(\"DONE.\")"
   ]
  },
  {
   "cell_type": "code",
   "execution_count": 20,
   "metadata": {},
   "outputs": [],
   "source": [
    "def create_work_space(folder_name):\n",
    "    working_path_create = folder_name + \"/\"\n",
    "    if os.path.exists(working_path_create):\n",
    "        answer = input(\"WARNING!: THIS PATH EXISTS. WOULD YOU LIKE TO CLEAN THIS DIRECTORY? (Y OR ENTER/N): \").upper()\n",
    "        if answer == \"N\":\n",
    "            print(\"CREATION OF THE DIRECTORY '%s' FAILED.\" % working_path_create,\"USER SPECIFIED PATH IS USED.\")\n",
    "        else:\n",
    "            print(\"CLEANING WORKING PATH...\")\n",
    "            shutil.rmtree(working_path_create)\n",
    "            print(\"WORKING PATH CLEANED.\")  \n",
    "            try:  \n",
    "                os.mkdir(working_path_create)\n",
    "            except OSError:  \n",
    "                print (\"CREATION OF THE DIRECTORY %s FAILED.\" % working_path_create)\n",
    "            else:  \n",
    "                print (\"SUCCESSFULLY CREATED THE DIRECTORY: %s \" % working_path_create)\n",
    "    else:\n",
    "            try:  \n",
    "                os.mkdir(working_path_create)\n",
    "            except OSError:  \n",
    "                print (\"CREATION OF THE DIRECTORY %s FAILED.\")\n",
    "            else:  \n",
    "                print (\"SUCCESSFULLY CREATED THE DIRECTORY: %s \" % working_path_create)\n",
    "    return working_path_create"
   ]
  },
  {
   "cell_type": "code",
   "execution_count": 3,
   "metadata": {},
   "outputs": [],
   "source": [
    "def current_time():\n",
    "    return datetime.datetime.today()"
   ]
  },
  {
   "cell_type": "code",
   "execution_count": 31,
   "metadata": {},
   "outputs": [],
   "source": [
    "def csv_create_path():\n",
    "    print(\"WORKING...\")\n",
    "    pointer_csv_path = \"csv_link_pointer.csv\"\n",
    "    if path.exists(pointer_csv_path):\n",
    "        csv_link = []\n",
    "        txt_link = []\n",
    "        pointer_csv = pd.read_csv(pointer_csv_path)\n",
    "        column = (pointer_csv.columns).tolist() \n",
    "        column.remove(\"exchanges\")\n",
    "        row = pointer_csv[\"exchanges\"].tolist()  \n",
    "        iteration = 0\n",
    "        iteration_row = 0\n",
    "        iteration_column = 0\n",
    "        while iteration_column <= len(column):  \n",
    "            if iteration_column == 0: iteration_column = 1\n",
    "            iteration_row = 0\n",
    "            column_name = ((pointer_csv.columns).tolist())[iteration_column]\n",
    "            iteration_column += 1\n",
    "            while iteration_row < len(row):\n",
    "                csv_link.append(pointer_csv[column_name][iteration_row])\n",
    "                iteration_row += 1\n",
    "        iteration = 0\n",
    "        while iteration < len(csv_link):\n",
    "            csv_name = (csv_link[iteration].rsplit('/', 1)[-1])\n",
    "            csv_name = (csv_name.rsplit('.', 1)[0])\n",
    "            csv_name = (csv_name.rsplit('_', 1)[0] + \"_DAY\").upper()\n",
    "            raw_csv = pd.read_csv(csv_link[iteration])\n",
    "            txt_link.append(workspace_directory_name+csv_name + \".txt\")\n",
    "            raw_csv.to_csv((workspace_directory_name+csv_name + \".txt\"), sep = ',', encoding = 'utf-8')\n",
    "            iteration += 1\n",
    "        iteration = 0\n",
    "        while iteration < len(txt_link):\n",
    "            with open(txt_link[iteration], 'r') as fin:\n",
    "                data = fin.read().splitlines(True)\n",
    "            with open(txt_link[iteration], 'w') as fout:\n",
    "                fout.writelines(data[1:])\n",
    "            iteration += 1\n",
    "        iteration = 0\n",
    "        print(\"DONE.\")\n",
    "        return txt_link"
   ]
  },
  {
   "cell_type": "code",
   "execution_count": 42,
   "metadata": {},
   "outputs": [],
   "source": [
    "def create_btc_csv(paths):\n",
    "    iteration = 0\n",
    "    btc_links = []\n",
    "    while iteration < len(paths):\n",
    "        if \"BTC\" in paths[iteration]:\n",
    "            btc_links.append(paths[iteration])\n",
    "        iteration += 1\n",
    "    iteration = 0\n",
    "    while iteration < len(paths):\n",
    "        temp = pd.read_csv(btc_links[iteration])\n",
    "        size = len(temp)\n",
    "        if iteration == 0:\n",
    "            largest = temp\n",
    "        if size <\n",
    "    \n",
    "    \n",
    "    \n",
    "    \n",
    "    \n",
    "    \n",
    "    \n",
    "    \n",
    "    #return btc_csv"
   ]
  },
  {
   "cell_type": "code",
   "execution_count": 32,
   "metadata": {},
   "outputs": [
    {
     "name": "stdout",
     "output_type": "stream",
     "text": [
      "WARNING!: THIS PATH EXISTS. WOULD YOU LIKE TO CLEAN THIS DIRECTORY? (Y OR ENTER/N): y\n",
      "CLEANING WORKING PATH...\n",
      "WORKING PATH CLEANED.\n",
      "SUCCESSFULLY CREATED THE DIRECTORY: test/ \n"
     ]
    }
   ],
   "source": [
    "folder_name = \"test\"\n",
    "workspace_directory_name = create_work_space(folder_name)"
   ]
  },
  {
   "cell_type": "code",
   "execution_count": 40,
   "metadata": {},
   "outputs": [
    {
     "name": "stdout",
     "output_type": "stream",
     "text": [
      "WORKING...\n",
      "DONE.\n"
     ]
    },
    {
     "data": {
      "text/plain": [
       "['test/GEMINI_BTCUSD_DAY.txt',\n",
       " 'test/COINBASE_BTCUSD_DAY.txt',\n",
       " 'test/KRAKEN_BTCUSD_DAY.txt',\n",
       " 'test/BITFINEX_BTCUSD_DAY.txt',\n",
       " 'test/GEMINI_ETHUSD_DAY.txt',\n",
       " 'test/COINBASE_ETHUSD_DAY.txt',\n",
       " 'test/KRAKEN_ETHUSD_DAY.txt',\n",
       " 'test/BITFINEX_ETHUSD_DAY.txt',\n",
       " 'test/GEMINI_LTCUSD_DAY.txt',\n",
       " 'test/COINBASE_LTCUSD_DAY.txt',\n",
       " 'test/KRAKEN_LTCUSD_DAY.txt',\n",
       " 'test/BITFINEX_LTCUSD_DAY.txt']"
      ]
     },
     "execution_count": 40,
     "metadata": {},
     "output_type": "execute_result"
    }
   ],
   "source": [
    "paths = csv_create_path()\n",
    "paths"
   ]
  },
  {
   "cell_type": "code",
   "execution_count": 44,
   "metadata": {},
   "outputs": [
    {
     "name": "stdout",
     "output_type": "stream",
     "text": [
      "['test/GEMINI_BTCUSD_DAY.txt', 'test/COINBASE_BTCUSD_DAY.txt', 'test/KRAKEN_BTCUSD_DAY.txt', 'test/BITFINEX_BTCUSD_DAY.txt']\n"
     ]
    }
   ],
   "source": [
    "create_btc_csv(paths)"
   ]
  },
  {
   "cell_type": "code",
   "execution_count": null,
   "metadata": {},
   "outputs": [],
   "source": []
  }
 ],
 "metadata": {
  "kernelspec": {
   "display_name": "Python 3",
   "language": "python",
   "name": "python3"
  },
  "language_info": {
   "codemirror_mode": {
    "name": "ipython",
    "version": 3
   },
   "file_extension": ".py",
   "mimetype": "text/x-python",
   "name": "python",
   "nbconvert_exporter": "python",
   "pygments_lexer": "ipython3",
   "version": "3.7.1"
  }
 },
 "nbformat": 4,
 "nbformat_minor": 2
}
