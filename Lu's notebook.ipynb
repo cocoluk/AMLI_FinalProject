{
  "nbformat": 4,
  "nbformat_minor": 0,
  "metadata": {
    "colab": {
      "name": "Google News data.ipynb",
      "version": "0.3.2",
      "provenance": [],
      "collapsed_sections": []
    },
    "kernelspec": {
      "name": "python3",
      "display_name": "Python 3"
    }
  },
  "cells": [
    {
      "cell_type": "markdown",
      "metadata": {
        "id": "wTmPVRsj5nwB",
        "colab_type": "text"
      },
      "source": [
        "## Google News data"
      ]
    },
    {
      "cell_type": "markdown",
      "metadata": {
        "id": "RUOSn7j85sCD",
        "colab_type": "text"
      },
      "source": [
        "Use the Google News API \n",
        "\n",
        "`72bc383e0bd44a5cb0997c468f7e0a2e`"
      ]
    },
    {
      "cell_type": "code",
      "metadata": {
        "id": "uc-xPDUagNP1",
        "colab_type": "code",
        "colab": {}
      },
      "source": [
        "import requests\n",
        "import json\n",
        "import codecs\n",
        "import csv\n",
        "import pandas as pd"
      ],
      "execution_count": 0,
      "outputs": []
    },
    {
      "cell_type": "code",
      "metadata": {
        "id": "EEMnfNmfgQW0",
        "colab_type": "code",
        "colab": {}
      },
      "source": [
        "file = codecs.open('movie.json', 'w', encoding='utf-8')\n",
        "#API\n",
        "API_KEY = '72bc383e0bd44a5cb0997c468f7e0a2e'\n",
        "url = 'https://newsapi.org/v2/everything?q=bitcoin&apiKey='+API_KEY\n",
        "#\n",
        "start=5\n",
        "count=25\n",
        "r = requests.get(url, params={'start': start, 'count': count})\n",
        "r.encoding='UTF_8'\n",
        "content=r.json()\n",
        "file.write(json.dumps(content, ensure_ascii=False))\n"
      ],
      "execution_count": 0,
      "outputs": []
    },
    {
      "cell_type": "code",
      "metadata": {
        "id": "fW5vDrlhlDYG",
        "colab_type": "code",
        "colab": {
          "base_uri": "https://localhost:8080/",
          "height": 34
        },
        "outputId": "af8bf961-ef4f-42ca-e136-62b97c4c78cf"
      },
      "source": [
        "csvfile = open('results_1.csv', 'w')\n",
        "header = ['Name','Title','description','url','publishedAt']\n",
        "# filewriter = csv.writer(csvfile, delimiter=',', quotechar='|', quoting=csv.QUOTE_MINIMAL)\n",
        "filewriter = csv.writer(csvfile)\n",
        "filewriter.writerow(header)"
      ],
      "execution_count": 85,
      "outputs": [
        {
          "output_type": "execute_result",
          "data": {
            "text/plain": [
              "40"
            ]
          },
          "metadata": {
            "tags": []
          },
          "execution_count": 85
        }
      ]
    },
    {
      "cell_type": "code",
      "metadata": {
        "id": "2rswOyzM4yH1",
        "colab_type": "code",
        "colab": {}
      },
      "source": [
        "# with open('movie.json') as json_data:\n",
        "#     data = json.load(json_data,) \n",
        "# \n",
        "# for item in data[\"articles\"]:\n",
        "#   print(item[\"source\"][\"name\"])\n",
        "#   print(item[\"title\"])\n",
        "#   print(item[\"description\"])\n",
        "#   print(item[\"url\"])\n",
        "#   print(item[\"publishedAt\"])\n",
        "#   print(\"\\n\")"
      ],
      "execution_count": 0,
      "outputs": []
    },
    {
      "cell_type": "code",
      "metadata": {
        "id": "6tpxu4xdgVTq",
        "colab_type": "code",
        "colab": {}
      },
      "source": [
        "with open('movie.json') as json_data:\n",
        "    data = json.load(json_data,) \n",
        "\n",
        "for item in data[\"articles\"]:\n",
        "  temp = []\n",
        "  temp.append(item[\"source\"][\"name\"])\n",
        "  temp.append(item[\"title\"])\n",
        "  temp.append(item[\"description\"])\n",
        "  temp.append(item[\"url\"])\n",
        "  temp.append(item[\"publishedAt\"])\n",
        "  filewriter.writerow(temp)\n"
      ],
      "execution_count": 0,
      "outputs": []
    },
    {
      "cell_type": "code",
      "metadata": {
        "id": "YtigWFynltaI",
        "colab_type": "code",
        "colab": {}
      },
      "source": [
        ""
      ],
      "execution_count": 0,
      "outputs": []
    }
  ]
}