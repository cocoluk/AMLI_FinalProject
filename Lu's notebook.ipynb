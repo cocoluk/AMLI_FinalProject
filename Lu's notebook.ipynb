{
  "nbformat": 4,
  "nbformat_minor": 0,
  "metadata": {
    "colab": {
      "name": "data (7/9).ipynb",
      "version": "0.3.2",
      "provenance": [],
      "collapsed_sections": [
        "wTmPVRsj5nwB",
        "pi7K2mDR54Sl",
        "l1dczOQr6Rtv",
        "EqwQ-Wpm6fPn",
        "fwK7Te9S6k6P",
        "YTpmEUpS6o5Y",
        "FCZpPbMC6xLe",
        "LdJOPn_a628k"
      ],
      "toc_visible": true
    },
    "kernelspec": {
      "name": "python3",
      "display_name": "Python 3"
    }
  },
  "cells": [
    {
      "cell_type": "markdown",
      "metadata": {
        "id": "aIHND-b7JaHJ",
        "colab_type": "text"
      },
      "source": [
        "**7/9:** Able to get Google News data using API\n",
        "\n",
        "**7/10:** Read articles about models using RNN & LSTM to predict stock/cryptocurrency prices\n",
        "\n",
        "**7/11:** Applied an existing model to Bitcoin daily price data and got F1 score around 0.52; no improvement with larger historical data\n"
      ]
    },
    {
      "cell_type": "markdown",
      "metadata": {
        "id": "wTmPVRsj5nwB",
        "colab_type": "text"
      },
      "source": [
        "## Google News data"
      ]
    },
    {
      "cell_type": "markdown",
      "metadata": {
        "id": "RUOSn7j85sCD",
        "colab_type": "text"
      },
      "source": [
        "Use the Google News API \n",
        "\n",
        "`72bc383e0bd44a5cb0997c468f7e0a2e`"
      ]
    },
    {
      "cell_type": "code",
      "metadata": {
        "id": "uc-xPDUagNP1",
        "colab_type": "code",
        "colab": {}
      },
      "source": [
        "import requests\n",
        "import json\n",
        "import codecs\n",
        "import csv\n",
        "import pandas as pd"
      ],
      "execution_count": 0,
      "outputs": []
    },
    {
      "cell_type": "code",
      "metadata": {
        "id": "EEMnfNmfgQW0",
        "colab_type": "code",
        "colab": {}
      },
      "source": [
        "file = codecs.open('movie.json', 'w', encoding='utf-8')\n",
        "#API\n",
        "API_KEY = '72bc383e0bd44a5cb0997c468f7e0a2e'\n",
        "url = 'https://newsapi.org/v2/everything?q=bitcoin&apiKey='+API_KEY\n",
        "#\n",
        "start=5\n",
        "count=25\n",
        "r = requests.get(url, params={'start': start, 'count': count})\n",
        "r.encoding='UTF_8'\n",
        "content=r.json()\n",
        "file.write(json.dumps(content, ensure_ascii=False))\n"
      ],
      "execution_count": 0,
      "outputs": []
    },
    {
      "cell_type": "code",
      "metadata": {
        "id": "fW5vDrlhlDYG",
        "colab_type": "code",
        "outputId": "f0b11d5c-3c58-455f-a526-b7a7250da577",
        "colab": {
          "base_uri": "https://localhost:8080/",
          "height": 34
        }
      },
      "source": [
        "csvfile = open('results_1.csv', 'w')\n",
        "header = ['Name','Title','description','url','publishedAt']\n",
        "# filewriter = csv.writer(csvfile, delimiter=',', quotechar='|', quoting=csv.QUOTE_MINIMAL)\n",
        "filewriter = csv.writer(csvfile)\n",
        "filewriter.writerow(header)"
      ],
      "execution_count": 210,
      "outputs": [
        {
          "output_type": "execute_result",
          "data": {
            "text/plain": [
              "40"
            ]
          },
          "metadata": {
            "tags": []
          },
          "execution_count": 210
        }
      ]
    },
    {
      "cell_type": "code",
      "metadata": {
        "id": "2rswOyzM4yH1",
        "colab_type": "code",
        "colab": {}
      },
      "source": [
        "# with open('movie.json') as json_data:\n",
        "#     data = json.load(json_data,) \n",
        "# \n",
        "# for item in data[\"articles\"]:\n",
        "#   print(item[\"source\"][\"name\"])\n",
        "#   print(item[\"title\"])\n",
        "#   print(item[\"description\"])\n",
        "#   print(item[\"url\"])\n",
        "#   print(item[\"publishedAt\"])\n",
        "#   print(\"\\n\")"
      ],
      "execution_count": 0,
      "outputs": []
    },
    {
      "cell_type": "code",
      "metadata": {
        "id": "6tpxu4xdgVTq",
        "colab_type": "code",
        "colab": {}
      },
      "source": [
        "with open('movie.json') as json_data:\n",
        "    data = json.load(json_data,) \n",
        "\n",
        "for item in data[\"articles\"]:\n",
        "  temp = []\n",
        "  temp.append(item[\"source\"][\"name\"])\n",
        "  temp.append(item[\"title\"])\n",
        "  temp.append(item[\"description\"])\n",
        "  temp.append(item[\"url\"])\n",
        "  temp.append(item[\"publishedAt\"])\n",
        "  filewriter.writerow(temp)\n"
      ],
      "execution_count": 0,
      "outputs": []
    },
    {
      "cell_type": "code",
      "metadata": {
        "id": "orzg7a2TKTSc",
        "colab_type": "code",
        "colab": {
          "base_uri": "https://localhost:8080/",
          "height": 51
        },
        "outputId": "17620dae-fe34-4c38-bc5f-0f013c40574e"
      },
      "source": [
        "from textblob import TextBlob\n",
        "text = TextBlob(\"Today I went to class and I was not happy\")\n",
        "print(text.sentiment.polarity)\n",
        "print(text.sentiment.subjectivity)"
      ],
      "execution_count": 217,
      "outputs": [
        {
          "output_type": "stream",
          "text": [
            "-0.4\n",
            "1.0\n"
          ],
          "name": "stdout"
        }
      ]
    },
    {
      "cell_type": "markdown",
      "metadata": {
        "id": "V99W-z6yu3Vk",
        "colab_type": "text"
      },
      "source": [
        "## Bitcoin Price Prediction\n"
      ]
    },
    {
      "cell_type": "markdown",
      "metadata": {
        "id": "pi7K2mDR54Sl",
        "colab_type": "text"
      },
      "source": [
        "### Get Bitcoin Historical Data"
      ]
    },
    {
      "cell_type": "code",
      "metadata": {
        "id": "TriZBBEru83w",
        "colab_type": "code",
        "colab": {}
      },
      "source": [
        "import re\n",
        "import requests\n",
        "from bs4 import BeautifulSoup"
      ],
      "execution_count": 0,
      "outputs": []
    },
    {
      "cell_type": "markdown",
      "metadata": {
        "id": "e0SRmAdUvl19",
        "colab_type": "text"
      },
      "source": [
        "Get Bitcoin historical data from CoinMarketCap. \n",
        "\n",
        "We can modify the start and end date in the link in needed in the future."
      ]
    },
    {
      "cell_type": "code",
      "metadata": {
        "id": "ONG5C8ievC0y",
        "colab_type": "code",
        "colab": {}
      },
      "source": [
        "r = requests.get('https://coinmarketcap.com/currencies/bitcoin/historical-data/?start=20150101&end=20190711')"
      ],
      "execution_count": 0,
      "outputs": []
    },
    {
      "cell_type": "code",
      "metadata": {
        "id": "Uwxznpdnvk8e",
        "colab_type": "code",
        "colab": {}
      },
      "source": [
        "soup = BeautifulSoup(r.text, 'lxml')"
      ],
      "execution_count": 0,
      "outputs": []
    },
    {
      "cell_type": "code",
      "metadata": {
        "id": "sOyExQPRwAk6",
        "colab_type": "code",
        "colab": {}
      },
      "source": [
        "divs = soup.find_all(class_ = 'table')"
      ],
      "execution_count": 0,
      "outputs": []
    },
    {
      "cell_type": "code",
      "metadata": {
        "id": "CRJ6zUq-2jkn",
        "colab_type": "code",
        "colab": {
          "base_uri": "https://localhost:8080/",
          "height": 34
        },
        "outputId": "cf699171-f089-43d5-9274-12177d22489a"
      },
      "source": [
        "import csv\n",
        "csvfile = open('results.csv', 'w')\n",
        "header = ['Open','High','Low','Close', 'Volume', 'Market Cap'] # not written to csv\n",
        "filewriter = csv.writer(csvfile)\n",
        "filewriter.writerow(header)"
      ],
      "execution_count": 190,
      "outputs": [
        {
          "output_type": "execute_result",
          "data": {
            "text/plain": [
              "39"
            ]
          },
          "metadata": {
            "tags": []
          },
          "execution_count": 190
        }
      ]
    },
    {
      "cell_type": "code",
      "metadata": {
        "id": "sedSh-dc0Ny8",
        "colab_type": "code",
        "colab": {}
      },
      "source": [
        "entries = soup.find_all('td')\n",
        "temp = []\n",
        "# hhh = []\n",
        "for i in range(len(entries)):\n",
        "  \n",
        "  if i % 7 == 0:\n",
        "    if i != 0:\n",
        "      filewriter.writerow(temp)\n",
        "      temp = []\n",
        "#     temp.append(i//7)\n",
        "  else:\n",
        "    temp.append(entries[i].text)\n",
        "#   hhh.append(entries[i].text)\n",
        "\n",
        "# print(hhh)"
      ],
      "execution_count": 0,
      "outputs": []
    },
    {
      "cell_type": "markdown",
      "metadata": {
        "id": "MWiAWRct5-y1",
        "colab_type": "text"
      },
      "source": [
        "### Model"
      ]
    },
    {
      "cell_type": "markdown",
      "metadata": {
        "id": "ulZZEVfl5BOQ",
        "colab_type": "text"
      },
      "source": [
        "Adopted code from Jerry Wei"
      ]
    },
    {
      "cell_type": "code",
      "metadata": {
        "id": "iOJyrbl2xl2g",
        "colab_type": "code",
        "colab": {
          "base_uri": "https://localhost:8080/",
          "height": 34
        },
        "outputId": "bc5f24cd-fccd-4f9e-d3c3-b6ef5b6b94d9"
      },
      "source": [
        "from keras.layers.core import Dense, Activation, Dropout\n",
        "from keras.layers.recurrent import LSTM\n",
        "from keras.layers import Bidirectional\n",
        "from keras.models import Sequential\n",
        "from sklearn.metrics import mean_squared_error\n",
        "import time\n",
        "import numpy as np\n",
        "import matplotlib.pyplot as plt\n",
        "import pandas as pd\n",
        "import math"
      ],
      "execution_count": 66,
      "outputs": [
        {
          "output_type": "stream",
          "text": [
            "Using TensorFlow backend.\n"
          ],
          "name": "stderr"
        }
      ]
    },
    {
      "cell_type": "markdown",
      "metadata": {
        "id": "CoVDGhXe5wFy",
        "colab_type": "text"
      },
      "source": [
        "#### Load Data"
      ]
    },
    {
      "cell_type": "code",
      "metadata": {
        "id": "8nWpVxGNwklR",
        "colab_type": "code",
        "colab": {}
      },
      "source": [
        "def load_data(filename, sequence_length):\n",
        "    \"\"\"\n",
        "    Loads the bitcoin data\n",
        "    \n",
        "    Arguments:\n",
        "    filename -- A string that represents where the .csv file can be located\n",
        "    sequence_length -- An integer of how many days should be looked at in a row\n",
        "    \n",
        "    Returns:\n",
        "    X_train -- A tensor of shape (2400, 49, 35) that will be inputed into the model to train it\n",
        "    Y_train -- A tensor of shape (2400,) that will be inputed into the model to train it\n",
        "    X_test -- A tensor of shape (267, 49, 35) that will be used to test the model's proficiency\n",
        "    Y_test -- A tensor of shape (267,) that will be used to check the model's predictions\n",
        "    Y_daybefore -- A tensor of shape (267,) that represents the price of bitcoin the day before each Y_test value\n",
        "    unnormalized_bases -- A tensor of shape (267,) that will be used to get the true prices from the normalized ones\n",
        "    window_size -- An integer that represents how many days of X values the model can look at at once\n",
        "    \"\"\"\n",
        "    #Read the data file\n",
        "#     raw_data = pd.read_csv(filename, dtype = float).values\n",
        "      \n",
        "    raw_data = filename.values\n",
        "    #Change all zeros to the number before the zero occurs\n",
        "    for x in range(0, raw_data.shape[0]):\n",
        "        for y in range(0, raw_data.shape[1]):\n",
        "            if(raw_data[x][y] == 0):\n",
        "                raw_data[x][y] = raw_data[x-1][y]\n",
        "    \n",
        "    #Convert the file to a list\n",
        "    data = raw_data.tolist()\n",
        "    \n",
        "    #Convert the data to a 3D array (a x b x c) \n",
        "    #Where a is the number of days, b is the window size, and c is the number of features in the data file\n",
        "    result = []\n",
        "    for index in range(len(data) - sequence_length):\n",
        "        result.append(data[index: index + sequence_length])\n",
        "    \n",
        "    #Normalizing data by going through each window\n",
        "    #Every value in the window is divided by the first value in the window, and then 1 is subtracted\n",
        "    d0 = np.array(result)\n",
        "    dr = np.zeros_like(d0)\n",
        "    dr[:,1:,:] = d0[:,1:,:] / d0[:,0:1,:] - 1\n",
        "#     print(\"???\")\n",
        "#     print(dr.shape)\n",
        "    #Keeping the unnormalized prices for Y_test\n",
        "    #Useful when graphing bitcoin price over time later\n",
        "    start = 1360 # NEED TO CHANGE, DEPEND ON NUMBER OF DATA\n",
        "    end = int(dr.shape[0] + 1)\n",
        "#     unnormalized_bases = d0[start:end,0:1,20]\n",
        "    unnormalized_bases = d0[start:end,0:1,4]\n",
        "    \n",
        "    #Splitting data set into training (First 90% of data points) and testing data (last 10% of data points)\n",
        "    split_line = round(0.9 * dr.shape[0])\n",
        "    training_data = dr[:int(split_line), :]\n",
        "    \n",
        "    #Shuffle the data\n",
        "    np.random.shuffle(training_data)\n",
        "    \n",
        "    #Training Data\n",
        "    X_train = training_data[:, :-1]\n",
        "    Y_train = training_data[:, -1]\n",
        "#     Y_train = Y_train[:, 20]\n",
        "    Y_train = Y_train[:, 3]\n",
        "    \n",
        "    #Testing data\n",
        "    X_test = dr[int(split_line):, :-1]\n",
        "    Y_test = dr[int(split_line):, 49, :]\n",
        "#     Y_test = Y_test[:, 20]\n",
        "    Y_test = Y_test[:, 3]\n",
        "\n",
        "    #Get the day before Y_test's price\n",
        "    Y_daybefore = dr[int(split_line):, 48, :]\n",
        "#     Y_daybefore = Y_daybefore[:, 20]\n",
        "    Y_daybefore = Y_daybefore[:, 3]\n",
        "\n",
        "    #Get window size and sequence length\n",
        "    sequence_length = sequence_length\n",
        "    window_size = sequence_length - 1 #because the last value is reserved as the y value\n",
        "    \n",
        "    return X_train, Y_train, X_test, Y_test, Y_daybefore, unnormalized_bases, window_size"
      ],
      "execution_count": 0,
      "outputs": []
    },
    {
      "cell_type": "code",
      "metadata": {
        "id": "ORB7ETgnB5DC",
        "colab_type": "code",
        "colab": {}
      },
      "source": [
        "def load_data2(filename, sequence_length):\n",
        "    \"\"\"\n",
        "    Loads the bitcoin data\n",
        "    \n",
        "    Arguments:\n",
        "    filename -- A string that represents where the .csv file can be located\n",
        "    sequence_length -- An integer of how many days should be looked at in a row\n",
        "    \n",
        "    Returns:\n",
        "    X_train -- A tensor of shape (2400, 49, 35) that will be inputed into the model to train it\n",
        "    Y_train -- A tensor of shape (2400,) that will be inputed into the model to train it\n",
        "    X_test -- A tensor of shape (267, 49, 35) that will be used to test the model's proficiency\n",
        "    Y_test -- A tensor of shape (267,) that will be used to check the model's predictions\n",
        "    Y_daybefore -- A tensor of shape (267,) that represents the price of bitcoin the day before each Y_test value\n",
        "    unnormalized_bases -- A tensor of shape (267,) that will be used to get the true prices from the normalized ones\n",
        "    window_size -- An integer that represents how many days of X values the model can look at at once\n",
        "    \"\"\"\n",
        "    #Read the data file\n",
        "    raw_data = pd.read_csv(filename, dtype = float).values\n",
        "    \n",
        "    #Change all zeros to the number before the zero occurs\n",
        "    for x in range(0, raw_data.shape[0]):\n",
        "        for y in range(0, raw_data.shape[1]):\n",
        "            if(raw_data[x][y] == 0):\n",
        "                raw_data[x][y] = raw_data[x-1][y]\n",
        "    \n",
        "    #Convert the file to a list\n",
        "    data = raw_data.tolist()\n",
        "    \n",
        "    #Convert the data to a 3D array (a x b x c) \n",
        "    #Where a is the number of days, b is the window size, and c is the number of features in the data file\n",
        "    result = []\n",
        "    for index in range(len(data) - sequence_length):\n",
        "        result.append(data[index: index + sequence_length])\n",
        "    \n",
        "    #Normalizing data by going through each window\n",
        "    #Every value in the window is divided by the first value in the window, and then 1 is subtracted\n",
        "    d0 = np.array(result)\n",
        "    dr = np.zeros_like(d0)\n",
        "    dr[:,1:,:] = d0[:,1:,:] / d0[:,0:1,:] - 1\n",
        "    \n",
        "    #Keeping the unnormalized prices for Y_test\n",
        "    #Useful when graphing bitcoin price over time later\n",
        "    start = 2400\n",
        "    end = int(dr.shape[0] + 1)\n",
        "    unnormalized_bases = d0[start:end,0:1,20]\n",
        "    \n",
        "    #Splitting data set into training (First 90% of data points) and testing data (last 10% of data points)\n",
        "    split_line = round(0.9 * dr.shape[0])\n",
        "    training_data = dr[:int(split_line), :]\n",
        "    \n",
        "    #Shuffle the data\n",
        "    np.random.shuffle(training_data)\n",
        "    \n",
        "    #Training Data\n",
        "    X_train = training_data[:, :-1]\n",
        "    Y_train = training_data[:, -1]\n",
        "    Y_train = Y_train[:, 20]\n",
        "    \n",
        "    #Testing data\n",
        "    X_test = dr[int(split_line):, :-1]\n",
        "    Y_test = dr[int(split_line):, 49, :]\n",
        "    Y_test = Y_test[:, 20]\n",
        "\n",
        "    #Get the day before Y_test's price\n",
        "    Y_daybefore = dr[int(split_line):, 48, :]\n",
        "    Y_daybefore = Y_daybefore[:, 20]\n",
        "    \n",
        "    #Get window size and sequence length\n",
        "    sequence_length = sequence_length\n",
        "    window_size = sequence_length - 1 #because the last value is reserved as the y value\n",
        "    \n",
        "    return X_train, Y_train, X_test, Y_test, Y_daybefore, unnormalized_bases, window_size"
      ],
      "execution_count": 0,
      "outputs": []
    },
    {
      "cell_type": "markdown",
      "metadata": {
        "id": "l1dczOQr6Rtv",
        "colab_type": "text"
      },
      "source": [
        "#### Building the Model"
      ]
    },
    {
      "cell_type": "code",
      "metadata": {
        "id": "SO98KGsY6dG5",
        "colab_type": "code",
        "colab": {}
      },
      "source": [
        "def initialize_model(window_size, dropout_value, activation_function, loss_function, optimizer):\n",
        "    \"\"\"\n",
        "    Initializes and creates the model to be used\n",
        "    \n",
        "    Arguments:\n",
        "    window_size -- An integer that represents how many days of X_values the model can look at at once\n",
        "    dropout_value -- A decimal representing how much dropout should be incorporated at each level, in this case 0.2\n",
        "    activation_function -- A string to define the activation_function, in this case it is linear\n",
        "    loss_function -- A string to define the loss function to be used, in the case it is mean squared error\n",
        "    optimizer -- A string to define the optimizer to be used, in the case it is adam\n",
        "    \n",
        "    Returns:\n",
        "    model -- A 3 layer RNN with 100*dropout_value dropout in each layer that uses activation_function as its activation\n",
        "             function, loss_function as its loss function, and optimizer as its optimizer\n",
        "    \"\"\"\n",
        "    #Create a Sequential model using Keras\n",
        "    model = Sequential()\n",
        "\n",
        "    #First recurrent layer with dropout\n",
        "    model.add(Bidirectional(LSTM(window_size, return_sequences=True), input_shape=(window_size, X_train.shape[-1]),))\n",
        "    model.add(Dropout(dropout_value))\n",
        "\n",
        "    #Second recurrent layer with dropout\n",
        "    model.add(Bidirectional(LSTM((window_size*2), return_sequences=True)))\n",
        "    model.add(Dropout(dropout_value))\n",
        "\n",
        "    #Third recurrent layer\n",
        "    model.add(Bidirectional(LSTM(window_size, return_sequences=False)))\n",
        "\n",
        "    #Output layer (returns the predicted value)\n",
        "    model.add(Dense(units=1))\n",
        "    \n",
        "    #Set activation function\n",
        "    model.add(Activation(activation_function))\n",
        "\n",
        "    #Set loss function and optimizer\n",
        "    model.compile(loss=loss_function, optimizer=optimizer)\n",
        "    \n",
        "    return model"
      ],
      "execution_count": 0,
      "outputs": []
    },
    {
      "cell_type": "markdown",
      "metadata": {
        "id": "EqwQ-Wpm6fPn",
        "colab_type": "text"
      },
      "source": [
        "#### Training the Model"
      ]
    },
    {
      "cell_type": "code",
      "metadata": {
        "id": "Y8Fqal5H6itd",
        "colab_type": "code",
        "colab": {}
      },
      "source": [
        "def fit_model(model, X_train, Y_train, batch_num, num_epoch, val_split):\n",
        "    \"\"\"\n",
        "    Fits the model to the training data\n",
        "    \n",
        "    Arguments:\n",
        "    model -- The previously initalized 3 layer Recurrent Neural Network\n",
        "    X_train -- A tensor of shape (2400, 49, 35) that represents the x values of the training data\n",
        "    Y_train -- A tensor of shape (2400,) that represents the y values of the training data\n",
        "    batch_num -- An integer representing the batch size to be used, in this case 1024\n",
        "    num_epoch -- An integer defining the number of epochs to be run, in this case 100\n",
        "    val_split -- A decimal representing the proportion of training data to be used as validation data\n",
        "    \n",
        "    Returns:\n",
        "    model -- The 3 layer Recurrent Neural Network that has been fitted to the training data\n",
        "    training_time -- An integer representing the amount of time (in seconds) that the model was training\n",
        "    \"\"\"\n",
        "    #Record the time the model starts training\n",
        "    start = time.time()\n",
        "\n",
        "    #Train the model on X_train and Y_train\n",
        "    model.fit(X_train, Y_train, batch_size= batch_num, nb_epoch=num_epoch, validation_split= val_split)\n",
        "\n",
        "    #Get the time it took to train the model (in seconds)\n",
        "    training_time = int(math.floor(time.time() - start))\n",
        "    return model, training_time"
      ],
      "execution_count": 0,
      "outputs": []
    },
    {
      "cell_type": "markdown",
      "metadata": {
        "id": "fwK7Te9S6k6P",
        "colab_type": "text"
      },
      "source": [
        "#### Testing the Model"
      ]
    },
    {
      "cell_type": "code",
      "metadata": {
        "id": "JxE6OtmM6nM9",
        "colab_type": "code",
        "colab": {}
      },
      "source": [
        "def test_model(model, X_test, Y_test, unnormalized_bases):\n",
        "    \"\"\"\n",
        "    Test the model on the testing data\n",
        "    \n",
        "    Arguments:\n",
        "    model -- The previously fitted 3 layer Recurrent Neural Network\n",
        "    X_test -- A tensor of shape (267, 49, 35) that represents the x values of the testing data\n",
        "    Y_test -- A tensor of shape (267,) that represents the y values of the testing data\n",
        "    unnormalized_bases -- A tensor of shape (267,) that can be used to get unnormalized data points\n",
        "    \n",
        "    Returns:\n",
        "    y_predict -- A tensor of shape (267,) that represnts the normalized values that the model predicts based on X_test\n",
        "    real_y_test -- A tensor of shape (267,) that represents the actual prices of bitcoin throughout the testing period\n",
        "    real_y_predict -- A tensor of shape (267,) that represents the model's predicted prices of bitcoin\n",
        "    fig -- A branch of the graph of the real predicted prices of bitcoin versus the real prices of bitcoin\n",
        "    \"\"\"\n",
        "    #Test the model on X_Test\n",
        "    y_predict = model.predict(X_test)\n",
        "\n",
        "    #Create empty 2D arrays to store unnormalized values\n",
        "    real_y_test = np.zeros_like(Y_test)\n",
        "    real_y_predict = np.zeros_like(y_predict)\n",
        "\n",
        "    #Fill the 2D arrays with the real value and the predicted value by reversing the normalization process\n",
        "    for i in range(Y_test.shape[0]):\n",
        "        y = Y_test[i]\n",
        "        predict = y_predict[i]\n",
        "        real_y_test[i] = (y+1)*unnormalized_bases[i]\n",
        "        real_y_predict[i] = (predict+1)*unnormalized_bases[i]\n",
        "\n",
        "    #Plot of the predicted prices versus the real prices\n",
        "    fig = plt.figure(figsize=(10,5))\n",
        "    ax = fig.add_subplot(111)\n",
        "    ax.set_title(\"Bitcoin Price Over Time\")\n",
        "    plt.plot(real_y_predict, color = 'green', label = 'Predicted Price')\n",
        "    plt.plot(real_y_test, color = 'red', label = 'Real Price')\n",
        "    ax.set_ylabel(\"Price (USD)\")\n",
        "    ax.set_xlabel(\"Time (Days)\")\n",
        "    ax.legend()\n",
        "    \n",
        "    return y_predict, real_y_test, real_y_predict, fig"
      ],
      "execution_count": 0,
      "outputs": []
    },
    {
      "cell_type": "markdown",
      "metadata": {
        "id": "YTpmEUpS6o5Y",
        "colab_type": "text"
      },
      "source": [
        "#### Evaluating Change in Price"
      ]
    },
    {
      "cell_type": "code",
      "metadata": {
        "id": "MhGp1G9c6uPC",
        "colab_type": "code",
        "colab": {}
      },
      "source": [
        "def price_change(Y_daybefore, Y_test, y_predict):\n",
        "    \"\"\"\n",
        "    Calculate the percent change between each value and the day before\n",
        "    \n",
        "    Arguments:\n",
        "    Y_daybefore -- A tensor of shape (267,) that represents the prices of each day before each price in Y_test\n",
        "    Y_test -- A tensor of shape (267,) that represents the normalized y values of the testing data\n",
        "    y_predict -- A tensor of shape (267,) that represents the normalized y values of the model's predictions\n",
        "    \n",
        "    Returns:\n",
        "    Y_daybefore -- A tensor of shape (267, 1) that represents the prices of each day before each price in Y_test\n",
        "    Y_test -- A tensor of shape (267, 1) that represents the normalized y values of the testing data\n",
        "    delta_predict -- A tensor of shape (267, 1) that represents the difference between predicted and day before values\n",
        "    delta_real -- A tensor of shape (267, 1) that represents the difference between real and day before values\n",
        "    fig -- A plot representing percent change in bitcoin price per day,\n",
        "    \"\"\"\n",
        "    #Reshaping Y_daybefore and Y_test\n",
        "    Y_daybefore = np.reshape(Y_daybefore, (-1, 1))\n",
        "    Y_test = np.reshape(Y_test, (-1, 1))\n",
        "\n",
        "    #The difference between each predicted value and the value from the day before\n",
        "    delta_predict = (y_predict - Y_daybefore) / (1+Y_daybefore)\n",
        "\n",
        "    #The difference between each true value and the value from the day before\n",
        "    delta_real = (Y_test - Y_daybefore) / (1+Y_daybefore)\n",
        "\n",
        "    #Plotting the predicted percent change versus the real percent change\n",
        "    fig = plt.figure(figsize=(10, 6))\n",
        "    ax = fig.add_subplot(111)\n",
        "    ax.set_title(\"Percent Change in Bitcoin Price Per Day\")\n",
        "    plt.plot(delta_predict, color='green', label = 'Predicted Percent Change')\n",
        "    plt.plot(delta_real, color='red', label = 'Real Percent Change')\n",
        "    plt.ylabel(\"Percent Change\")\n",
        "    plt.xlabel(\"Time (Days)\")\n",
        "    ax.legend()\n",
        "    plt.show()\n",
        "    \n",
        "    return Y_daybefore, Y_test, delta_predict, delta_real, fig"
      ],
      "execution_count": 0,
      "outputs": []
    },
    {
      "cell_type": "markdown",
      "metadata": {
        "id": "FCZpPbMC6xLe",
        "colab_type": "text"
      },
      "source": [
        "#### Process the Percent Change in Price"
      ]
    },
    {
      "cell_type": "code",
      "metadata": {
        "id": "N-9eQCrD6vXL",
        "colab_type": "code",
        "colab": {}
      },
      "source": [
        "def binary_price(delta_predict, delta_real):\n",
        "    \"\"\"\n",
        "    Converts percent change to a binary 1 or 0, where 1 is an increase and 0 is a decrease/no change\n",
        "    \n",
        "    Arguments:\n",
        "    delta_predict -- A tensor of shape (267, 1) that represents the predicted percent change in price\n",
        "    delta_real -- A tensor of shape (267, 1) that represents the real percent change in price\n",
        "    \n",
        "    Returns:\n",
        "    delta_predict_1_0 -- A tensor of shape (267, 1) that represents the binary version of delta_predict\n",
        "    delta_real_1_0 -- A tensor of shape (267, 1) that represents the binary version of delta_real\n",
        "    \"\"\"\n",
        "    #Empty arrays where a 1 represents an increase in price and a 0 represents a decrease in price\n",
        "    delta_predict_1_0 = np.empty(delta_predict.shape)\n",
        "    delta_real_1_0 = np.empty(delta_real.shape)\n",
        "\n",
        "    #If the change in price is greater than zero, store it as a 1\n",
        "    #If the change in price is less than zero, store it as a 0\n",
        "    for i in range(delta_predict.shape[0]):\n",
        "        if delta_predict[i][0] > 0:\n",
        "            delta_predict_1_0[i][0] = 1\n",
        "        else:\n",
        "            delta_predict_1_0[i][0] = 0\n",
        "    for i in range(delta_real.shape[0]):\n",
        "        if delta_real[i][0] > 0:\n",
        "            delta_real_1_0[i][0] = 1\n",
        "        else:\n",
        "            delta_real_1_0[i][0] = 0    \n",
        "\n",
        "    return delta_predict_1_0, delta_real_1_0"
      ],
      "execution_count": 0,
      "outputs": []
    },
    {
      "cell_type": "markdown",
      "metadata": {
        "id": "LdJOPn_a628k",
        "colab_type": "text"
      },
      "source": [
        "#### Comparing Predictions and Real Data"
      ]
    },
    {
      "cell_type": "code",
      "metadata": {
        "id": "mp3y9mFT665O",
        "colab_type": "code",
        "colab": {}
      },
      "source": [
        "def find_positives_negatives(delta_predict_1_0, delta_real_1_0):\n",
        "    \"\"\"\n",
        "    Finding the number of false positives, false negatives, true positives, true negatives\n",
        "    \n",
        "    Arguments: \n",
        "    delta_predict_1_0 -- A tensor of shape (267, 1) that represents the binary version of delta_predict\n",
        "    delta_real_1_0 -- A tensor of shape (267, 1) that represents the binary version of delta_real\n",
        "    \n",
        "    Returns:\n",
        "    true_pos -- An integer that represents the number of true positives achieved by the model\n",
        "    false_pos -- An integer that represents the number of false positives achieved by the model\n",
        "    true_neg -- An integer that represents the number of true negatives achieved by the model\n",
        "    false_neg -- An integer that represents the number of false negatives achieved by the model\n",
        "    \"\"\"\n",
        "    #Finding the number of false positive/negatives and true positives/negatives\n",
        "    true_pos = 0\n",
        "    false_pos = 0\n",
        "    true_neg = 0\n",
        "    false_neg = 0\n",
        "    for i in range(delta_real_1_0.shape[0]):\n",
        "        real = delta_real_1_0[i][0]\n",
        "        predicted = delta_predict_1_0[i][0]\n",
        "        if real == 1:\n",
        "            if predicted == 1:\n",
        "                true_pos += 1\n",
        "            else:\n",
        "                false_neg += 1\n",
        "        elif real == 0:\n",
        "            if predicted == 0:\n",
        "                true_neg += 1\n",
        "            else:\n",
        "                false_pos += 1\n",
        "    return true_pos, false_pos, true_neg, false_neg"
      ],
      "execution_count": 0,
      "outputs": []
    },
    {
      "cell_type": "markdown",
      "metadata": {
        "id": "E4sOxfjJ69vq",
        "colab_type": "text"
      },
      "source": [
        "#### Calculating Statistics"
      ]
    },
    {
      "cell_type": "code",
      "metadata": {
        "id": "7KSwSvtp6_k9",
        "colab_type": "code",
        "colab": {}
      },
      "source": [
        "def calculate_statistics(true_pos, false_pos, true_neg, false_neg, y_predict, Y_test):\n",
        "    \"\"\"\n",
        "    Calculate various statistics to assess performance\n",
        "    \n",
        "    Arguments:\n",
        "    true_pos -- An integer that represents the number of true positives achieved by the model\n",
        "    false_pos -- An integer that represents the number of false positives achieved by the model\n",
        "    true_neg -- An integer that represents the number of true negatives achieved by the model\n",
        "    false_neg -- An integer that represents the number of false negatives achieved by the model\n",
        "    Y_test -- A tensor of shape (267, 1) that represents the normalized y values of the testing data\n",
        "    y_predict -- A tensor of shape (267, 1) that represents the normalized y values of the model's predictions\n",
        "    \n",
        "    Returns:\n",
        "    precision -- How often the model gets a true positive compared to how often it returns a positive\n",
        "    recall -- How often the model gets a true positive compared to how often is hould have gotten a positive\n",
        "    F1 -- The weighted average of recall and precision\n",
        "    Mean Squared Error -- The average of the squares of the differences between predicted and real values\n",
        "    \"\"\"\n",
        "    precision = float(true_pos) / (true_pos + false_pos)\n",
        "    recall = float(true_pos) / (true_pos + false_neg)\n",
        "    F1 = float(2 * precision * recall) / (precision + recall)\n",
        "    #Get Mean Squared Error\n",
        "    MSE = mean_squared_error(y_predict.flatten(), Y_test.flatten())\n",
        "\n",
        "    return precision, recall, F1, MSE"
      ],
      "execution_count": 0,
      "outputs": []
    },
    {
      "cell_type": "markdown",
      "metadata": {
        "id": "OCzlLpC97E7C",
        "colab_type": "text"
      },
      "source": [
        "#### Putting Together"
      ]
    },
    {
      "cell_type": "code",
      "metadata": {
        "id": "JJCpS8pg7Qfy",
        "colab_type": "code",
        "colab": {}
      },
      "source": [
        "raw_data = pd.read_csv(\"./results.csv\")\n",
        "\n",
        "raw_data['Volume'] = raw_data['Volume'].str.replace(\",\",\"\").astype(float)\n",
        "raw_data['Market Cap'] = raw_data['Market Cap'].str.replace(\",\",\"\").astype(float)"
      ],
      "execution_count": 0,
      "outputs": []
    },
    {
      "cell_type": "code",
      "metadata": {
        "id": "ze0SNchR7GaY",
        "colab_type": "code",
        "colab": {
          "base_uri": "https://localhost:8080/",
          "height": 136
        },
        "outputId": "cbfcf906-0b39-4630-96ca-cb1564efa76b"
      },
      "source": [
        "X_train, Y_train, X_test, Y_test, Y_daybefore, unnormalized_bases, window_size = load_data(raw_data, 50)\n",
        "print (X_train.shape)\n",
        "print (Y_train.shape)\n",
        "print (X_test.shape)\n",
        "print (Y_test.shape)\n",
        "print (Y_daybefore.shape)\n",
        "print (unnormalized_bases.shape)\n",
        "print (window_size)"
      ],
      "execution_count": 199,
      "outputs": [
        {
          "output_type": "stream",
          "text": [
            "(1360, 49, 6)\n",
            "(1360,)\n",
            "(151, 49, 6)\n",
            "(151,)\n",
            "(151,)\n",
            "(151, 1)\n",
            "49\n"
          ],
          "name": "stdout"
        }
      ]
    },
    {
      "cell_type": "code",
      "metadata": {
        "id": "ofoLZVc88ZO_",
        "colab_type": "code",
        "colab": {
          "base_uri": "https://localhost:8080/",
          "height": 136
        },
        "outputId": "939848c7-1687-4f8f-96a2-577c9d75a173"
      },
      "source": [
        "X_train, Y_train, X_test, Y_test, Y_daybefore, unnormalized_bases, window_size = load_data2(\"./Bitcoin Data.csv\", 50)\n",
        "print (X_train.shape)\n",
        "print (Y_train.shape)\n",
        "print (X_test.shape)\n",
        "print (Y_test.shape)\n",
        "print (Y_daybefore.shape)\n",
        "print (unnormalized_bases.shape)\n",
        "print (window_size)"
      ],
      "execution_count": 200,
      "outputs": [
        {
          "output_type": "stream",
          "text": [
            "(2400, 49, 35)\n",
            "(2400,)\n",
            "(267, 49, 35)\n",
            "(267,)\n",
            "(267,)\n",
            "(267, 1)\n",
            "49\n"
          ],
          "name": "stdout"
        }
      ]
    },
    {
      "cell_type": "markdown",
      "metadata": {
        "id": "8GFjcR1lCUpV",
        "colab_type": "text"
      },
      "source": [
        "Initialize model"
      ]
    },
    {
      "cell_type": "code",
      "metadata": {
        "id": "ZQyqTqF9CRB8",
        "colab_type": "code",
        "colab": {
          "base_uri": "https://localhost:8080/",
          "height": 391
        },
        "outputId": "e548cd67-75ad-4e09-a494-5e927ff54ec2"
      },
      "source": [
        "model = initialize_model(window_size, 0.2, 'linear', 'mse', 'adam')\n",
        "print (model.summary())"
      ],
      "execution_count": 201,
      "outputs": [
        {
          "output_type": "stream",
          "text": [
            "_________________________________________________________________\n",
            "Layer (type)                 Output Shape              Param #   \n",
            "=================================================================\n",
            "bidirectional_7 (Bidirection (None, 49, 98)            33320     \n",
            "_________________________________________________________________\n",
            "dropout_5 (Dropout)          (None, 49, 98)            0         \n",
            "_________________________________________________________________\n",
            "bidirectional_8 (Bidirection (None, 49, 196)           154448    \n",
            "_________________________________________________________________\n",
            "dropout_6 (Dropout)          (None, 49, 196)           0         \n",
            "_________________________________________________________________\n",
            "bidirectional_9 (Bidirection (None, 98)                96432     \n",
            "_________________________________________________________________\n",
            "dense_3 (Dense)              (None, 1)                 99        \n",
            "_________________________________________________________________\n",
            "activation_3 (Activation)    (None, 1)                 0         \n",
            "=================================================================\n",
            "Total params: 284,299\n",
            "Trainable params: 284,299\n",
            "Non-trainable params: 0\n",
            "_________________________________________________________________\n",
            "None\n"
          ],
          "name": "stdout"
        }
      ]
    },
    {
      "cell_type": "markdown",
      "metadata": {
        "id": "38dP_3XPCWOq",
        "colab_type": "text"
      },
      "source": [
        "Train model"
      ]
    },
    {
      "cell_type": "code",
      "metadata": {
        "id": "i8g0DaQdCZiE",
        "colab_type": "code",
        "colab": {
          "base_uri": "https://localhost:8080/",
          "height": 1000
        },
        "outputId": "0ea8b33c-170a-4fc9-852a-63088524a856"
      },
      "source": [
        "model, training_time = fit_model(model, X_train, Y_train, 1024, 100, .05)\n",
        "\n",
        "#Print the training time\n",
        "print (\"Training time\", training_time, \"seconds\")"
      ],
      "execution_count": 202,
      "outputs": [
        {
          "output_type": "stream",
          "text": [
            "/usr/local/lib/python3.6/dist-packages/ipykernel_launcher.py:21: UserWarning: The `nb_epoch` argument in `fit` has been renamed `epochs`.\n"
          ],
          "name": "stderr"
        },
        {
          "output_type": "stream",
          "text": [
            "Train on 2280 samples, validate on 120 samples\n",
            "Epoch 1/100\n",
            "2280/2280 [==============================] - 17s 7ms/step - loss: 2.7777 - val_loss: 0.2265\n",
            "Epoch 2/100\n",
            "2280/2280 [==============================] - 11s 5ms/step - loss: 2.0308 - val_loss: 0.5228\n",
            "Epoch 3/100\n",
            "2280/2280 [==============================] - 11s 5ms/step - loss: 1.7362 - val_loss: 0.4147\n",
            "Epoch 4/100\n",
            "2280/2280 [==============================] - 11s 5ms/step - loss: 1.3798 - val_loss: 0.2735\n",
            "Epoch 5/100\n",
            "2280/2280 [==============================] - 11s 5ms/step - loss: 1.2066 - val_loss: 0.3313\n",
            "Epoch 6/100\n",
            "2280/2280 [==============================] - 10s 5ms/step - loss: 1.0155 - val_loss: 0.3401\n",
            "Epoch 7/100\n",
            "2280/2280 [==============================] - 10s 5ms/step - loss: 0.8329 - val_loss: 0.1501\n",
            "Epoch 8/100\n",
            "2280/2280 [==============================] - 10s 5ms/step - loss: 0.6493 - val_loss: 0.0951\n",
            "Epoch 9/100\n",
            "2280/2280 [==============================] - 10s 5ms/step - loss: 0.5071 - val_loss: 0.0838\n",
            "Epoch 10/100\n",
            "2280/2280 [==============================] - 11s 5ms/step - loss: 0.4178 - val_loss: 0.0753\n",
            "Epoch 11/100\n",
            "2280/2280 [==============================] - 11s 5ms/step - loss: 0.3388 - val_loss: 0.0777\n",
            "Epoch 12/100\n",
            "2280/2280 [==============================] - 11s 5ms/step - loss: 0.3084 - val_loss: 0.0795\n",
            "Epoch 13/100\n",
            "2280/2280 [==============================] - 10s 5ms/step - loss: 0.2645 - val_loss: 0.0723\n",
            "Epoch 14/100\n",
            "2280/2280 [==============================] - 10s 5ms/step - loss: 0.2429 - val_loss: 0.0758\n",
            "Epoch 15/100\n",
            "2280/2280 [==============================] - 11s 5ms/step - loss: 0.2310 - val_loss: 0.0549\n",
            "Epoch 16/100\n",
            "2280/2280 [==============================] - 10s 5ms/step - loss: 0.2078 - val_loss: 0.0557\n",
            "Epoch 17/100\n",
            "2280/2280 [==============================] - 11s 5ms/step - loss: 0.1978 - val_loss: 0.0890\n",
            "Epoch 18/100\n",
            "2280/2280 [==============================] - 10s 5ms/step - loss: 0.1865 - val_loss: 0.0563\n",
            "Epoch 19/100\n",
            "2280/2280 [==============================] - 10s 5ms/step - loss: 0.1784 - val_loss: 0.0534\n",
            "Epoch 20/100\n",
            "2280/2280 [==============================] - 10s 5ms/step - loss: 0.1610 - val_loss: 0.0572\n",
            "Epoch 21/100\n",
            "2280/2280 [==============================] - 11s 5ms/step - loss: 0.1503 - val_loss: 0.0565\n",
            "Epoch 22/100\n",
            "2280/2280 [==============================] - 10s 5ms/step - loss: 0.1355 - val_loss: 0.0494\n",
            "Epoch 23/100\n",
            "2280/2280 [==============================] - 10s 5ms/step - loss: 0.1350 - val_loss: 0.0472\n",
            "Epoch 24/100\n",
            "2280/2280 [==============================] - 10s 5ms/step - loss: 0.1190 - val_loss: 0.0469\n",
            "Epoch 25/100\n",
            "2280/2280 [==============================] - 10s 5ms/step - loss: 0.1217 - val_loss: 0.0502\n",
            "Epoch 26/100\n",
            "2280/2280 [==============================] - 10s 5ms/step - loss: 0.1088 - val_loss: 0.0443\n",
            "Epoch 27/100\n",
            "2280/2280 [==============================] - 10s 5ms/step - loss: 0.1080 - val_loss: 0.0413\n",
            "Epoch 28/100\n",
            "2280/2280 [==============================] - 10s 5ms/step - loss: 0.1017 - val_loss: 0.0456\n",
            "Epoch 29/100\n",
            "2280/2280 [==============================] - 10s 5ms/step - loss: 0.1002 - val_loss: 0.0421\n",
            "Epoch 30/100\n",
            "2280/2280 [==============================] - 10s 5ms/step - loss: 0.0896 - val_loss: 0.0443\n",
            "Epoch 31/100\n",
            "2280/2280 [==============================] - 10s 5ms/step - loss: 0.0950 - val_loss: 0.0429\n",
            "Epoch 32/100\n",
            "2280/2280 [==============================] - 10s 5ms/step - loss: 0.0846 - val_loss: 0.0398\n",
            "Epoch 33/100\n",
            "2280/2280 [==============================] - 10s 5ms/step - loss: 0.0873 - val_loss: 0.0364\n",
            "Epoch 34/100\n",
            "2280/2280 [==============================] - 10s 5ms/step - loss: 0.0865 - val_loss: 0.0333\n",
            "Epoch 35/100\n",
            "2280/2280 [==============================] - 11s 5ms/step - loss: 0.0749 - val_loss: 0.0342\n",
            "Epoch 36/100\n",
            "2280/2280 [==============================] - 10s 5ms/step - loss: 0.0779 - val_loss: 0.0404\n",
            "Epoch 37/100\n",
            "2280/2280 [==============================] - 10s 4ms/step - loss: 0.0860 - val_loss: 0.0332\n",
            "Epoch 38/100\n",
            "2280/2280 [==============================] - 10s 5ms/step - loss: 0.0735 - val_loss: 0.0333\n",
            "Epoch 39/100\n",
            "2280/2280 [==============================] - 10s 5ms/step - loss: 0.0715 - val_loss: 0.0387\n",
            "Epoch 40/100\n",
            "2280/2280 [==============================] - 10s 5ms/step - loss: 0.0714 - val_loss: 0.0395\n",
            "Epoch 41/100\n",
            "2280/2280 [==============================] - 10s 4ms/step - loss: 0.0718 - val_loss: 0.0408\n",
            "Epoch 42/100\n",
            "2280/2280 [==============================] - 10s 5ms/step - loss: 0.0657 - val_loss: 0.0448\n",
            "Epoch 43/100\n",
            "2280/2280 [==============================] - 10s 4ms/step - loss: 0.0665 - val_loss: 0.0413\n",
            "Epoch 44/100\n",
            "2280/2280 [==============================] - 10s 5ms/step - loss: 0.0635 - val_loss: 0.0402\n",
            "Epoch 45/100\n",
            "2280/2280 [==============================] - 10s 5ms/step - loss: 0.0631 - val_loss: 0.0405\n",
            "Epoch 46/100\n",
            "2280/2280 [==============================] - 10s 5ms/step - loss: 0.0638 - val_loss: 0.0337\n",
            "Epoch 47/100\n",
            "2280/2280 [==============================] - 10s 5ms/step - loss: 0.0606 - val_loss: 0.0323\n",
            "Epoch 48/100\n",
            "2280/2280 [==============================] - 10s 5ms/step - loss: 0.0563 - val_loss: 0.0352\n",
            "Epoch 49/100\n",
            "2280/2280 [==============================] - 10s 5ms/step - loss: 0.0588 - val_loss: 0.0359\n",
            "Epoch 50/100\n",
            "2280/2280 [==============================] - 10s 5ms/step - loss: 0.0586 - val_loss: 0.0335\n",
            "Epoch 51/100\n",
            "2280/2280 [==============================] - 10s 5ms/step - loss: 0.0544 - val_loss: 0.0307\n",
            "Epoch 52/100\n",
            "2280/2280 [==============================] - 10s 5ms/step - loss: 0.0544 - val_loss: 0.0323\n",
            "Epoch 53/100\n",
            "2280/2280 [==============================] - 10s 5ms/step - loss: 0.0527 - val_loss: 0.0386\n",
            "Epoch 54/100\n",
            "2280/2280 [==============================] - 10s 5ms/step - loss: 0.0510 - val_loss: 0.0376\n",
            "Epoch 55/100\n",
            "2280/2280 [==============================] - 10s 4ms/step - loss: 0.0496 - val_loss: 0.0331\n",
            "Epoch 56/100\n",
            "2280/2280 [==============================] - 10s 4ms/step - loss: 0.0501 - val_loss: 0.0327\n",
            "Epoch 57/100\n",
            "2280/2280 [==============================] - 10s 5ms/step - loss: 0.0485 - val_loss: 0.0317\n",
            "Epoch 58/100\n",
            "2280/2280 [==============================] - 10s 4ms/step - loss: 0.0502 - val_loss: 0.0297\n",
            "Epoch 59/100\n",
            "2280/2280 [==============================] - 10s 4ms/step - loss: 0.0457 - val_loss: 0.0286\n",
            "Epoch 60/100\n",
            "2280/2280 [==============================] - 10s 5ms/step - loss: 0.0508 - val_loss: 0.0298\n",
            "Epoch 61/100\n",
            "2280/2280 [==============================] - 10s 5ms/step - loss: 0.0439 - val_loss: 0.0327\n",
            "Epoch 62/100\n",
            "2280/2280 [==============================] - 10s 5ms/step - loss: 0.0461 - val_loss: 0.0294\n",
            "Epoch 63/100\n",
            "2280/2280 [==============================] - 10s 5ms/step - loss: 0.0483 - val_loss: 0.0311\n",
            "Epoch 64/100\n",
            "2280/2280 [==============================] - 10s 5ms/step - loss: 0.0500 - val_loss: 0.0329\n",
            "Epoch 65/100\n",
            "2280/2280 [==============================] - 10s 5ms/step - loss: 0.0408 - val_loss: 0.0327\n",
            "Epoch 66/100\n",
            "2280/2280 [==============================] - 10s 5ms/step - loss: 0.0421 - val_loss: 0.0338\n",
            "Epoch 67/100\n",
            "2280/2280 [==============================] - 10s 5ms/step - loss: 0.0407 - val_loss: 0.0287\n",
            "Epoch 68/100\n",
            "2280/2280 [==============================] - 10s 5ms/step - loss: 0.0424 - val_loss: 0.0239\n",
            "Epoch 69/100\n",
            "2280/2280 [==============================] - 10s 5ms/step - loss: 0.0371 - val_loss: 0.0232\n",
            "Epoch 70/100\n",
            "2280/2280 [==============================] - 10s 5ms/step - loss: 0.0421 - val_loss: 0.0233\n",
            "Epoch 71/100\n",
            "2280/2280 [==============================] - 10s 5ms/step - loss: 0.0373 - val_loss: 0.0197\n",
            "Epoch 72/100\n",
            "2280/2280 [==============================] - 10s 4ms/step - loss: 0.0354 - val_loss: 0.0222\n",
            "Epoch 73/100\n",
            "2280/2280 [==============================] - 10s 4ms/step - loss: 0.0355 - val_loss: 0.0212\n",
            "Epoch 74/100\n",
            "2280/2280 [==============================] - 10s 5ms/step - loss: 0.0324 - val_loss: 0.0218\n",
            "Epoch 75/100\n",
            "2280/2280 [==============================] - 10s 4ms/step - loss: 0.0329 - val_loss: 0.0214\n",
            "Epoch 76/100\n",
            "2280/2280 [==============================] - 10s 4ms/step - loss: 0.0339 - val_loss: 0.0197\n",
            "Epoch 77/100\n",
            "2280/2280 [==============================] - 10s 4ms/step - loss: 0.0316 - val_loss: 0.0209\n",
            "Epoch 78/100\n",
            "2280/2280 [==============================] - 10s 4ms/step - loss: 0.0320 - val_loss: 0.0225\n",
            "Epoch 79/100\n",
            "2280/2280 [==============================] - 10s 4ms/step - loss: 0.0313 - val_loss: 0.0236\n",
            "Epoch 80/100\n",
            "2280/2280 [==============================] - 10s 4ms/step - loss: 0.0319 - val_loss: 0.0219\n",
            "Epoch 81/100\n",
            "2280/2280 [==============================] - 10s 4ms/step - loss: 0.0295 - val_loss: 0.0237\n",
            "Epoch 82/100\n",
            "2280/2280 [==============================] - 10s 4ms/step - loss: 0.0301 - val_loss: 0.0228\n",
            "Epoch 83/100\n",
            "2280/2280 [==============================] - 10s 4ms/step - loss: 0.0291 - val_loss: 0.0267\n",
            "Epoch 84/100\n",
            "2280/2280 [==============================] - 10s 4ms/step - loss: 0.0288 - val_loss: 0.0228\n",
            "Epoch 85/100\n",
            "2280/2280 [==============================] - 10s 4ms/step - loss: 0.0273 - val_loss: 0.0199\n",
            "Epoch 86/100\n",
            "2280/2280 [==============================] - 10s 4ms/step - loss: 0.0278 - val_loss: 0.0190\n",
            "Epoch 87/100\n",
            "2280/2280 [==============================] - 10s 5ms/step - loss: 0.0275 - val_loss: 0.0193\n",
            "Epoch 88/100\n",
            "2280/2280 [==============================] - 10s 4ms/step - loss: 0.0268 - val_loss: 0.0225\n",
            "Epoch 89/100\n",
            "2280/2280 [==============================] - 10s 4ms/step - loss: 0.0264 - val_loss: 0.0233\n",
            "Epoch 90/100\n",
            "2280/2280 [==============================] - 10s 4ms/step - loss: 0.0254 - val_loss: 0.0205\n",
            "Epoch 91/100\n",
            "2280/2280 [==============================] - 10s 4ms/step - loss: 0.0258 - val_loss: 0.0205\n",
            "Epoch 92/100\n",
            "2280/2280 [==============================] - 10s 4ms/step - loss: 0.0263 - val_loss: 0.0195\n",
            "Epoch 93/100\n",
            "2280/2280 [==============================] - 10s 5ms/step - loss: 0.0260 - val_loss: 0.0191\n",
            "Epoch 94/100\n",
            "2280/2280 [==============================] - 10s 4ms/step - loss: 0.0250 - val_loss: 0.0221\n",
            "Epoch 95/100\n",
            "2280/2280 [==============================] - 10s 5ms/step - loss: 0.0235 - val_loss: 0.0236\n",
            "Epoch 96/100\n",
            "2280/2280 [==============================] - 10s 4ms/step - loss: 0.0308 - val_loss: 0.0255\n",
            "Epoch 97/100\n",
            "2280/2280 [==============================] - 10s 4ms/step - loss: 0.0237 - val_loss: 0.0266\n",
            "Epoch 98/100\n",
            "2280/2280 [==============================] - 10s 4ms/step - loss: 0.0249 - val_loss: 0.0222\n",
            "Epoch 99/100\n",
            "2280/2280 [==============================] - 10s 4ms/step - loss: 0.0237 - val_loss: 0.0239\n",
            "Epoch 100/100\n",
            "2280/2280 [==============================] - 10s 4ms/step - loss: 0.0218 - val_loss: 0.0232\n",
            "Training time 1043 seconds\n"
          ],
          "name": "stdout"
        }
      ]
    },
    {
      "cell_type": "markdown",
      "metadata": {
        "id": "y7FxJ_DUCtor",
        "colab_type": "text"
      },
      "source": [
        ""
      ]
    },
    {
      "cell_type": "code",
      "metadata": {
        "id": "MbYWoZv5Ct_K",
        "colab_type": "code",
        "colab": {
          "base_uri": "https://localhost:8080/",
          "height": 350
        },
        "outputId": "d91bf49b-2ae9-4ce0-901c-a66e69350cad"
      },
      "source": [
        "y_predict, real_y_test, real_y_predict, fig1 = test_model(model, X_test, Y_test, unnormalized_bases)\n",
        "\n",
        "#Show the plot\n",
        "plt.show(fig1)"
      ],
      "execution_count": 203,
      "outputs": [
        {
          "output_type": "display_data",
          "data": {
            "image/png": "[encoded data removed]",
            "text/plain": [
              "<Figure size 720x360 with 1 Axes>"
            ]
          },
          "metadata": {
            "tags": []
          }
        }
      ]
    },
    {
      "cell_type": "markdown",
      "metadata": {
        "id": "JsKt12isCvA6",
        "colab_type": "text"
      },
      "source": [
        ""
      ]
    },
    {
      "cell_type": "code",
      "metadata": {
        "id": "ywK5pjS8Cuok",
        "colab_type": "code",
        "colab": {
          "base_uri": "https://localhost:8080/",
          "height": 404
        },
        "outputId": "d65cedef-18fc-4e45-96c4-f192e708e1ff"
      },
      "source": [
        "Y_daybefore, Y_test, delta_predict, delta_real, fig2 = price_change(Y_daybefore, Y_test, y_predict)\n",
        "\n",
        "#Show the plot\n",
        "plt.show(fig2)"
      ],
      "execution_count": 204,
      "outputs": [
        {
          "output_type": "display_data",
          "data": {
            "image/png": "[encoded data removed]",
            "text/plain": [
              "<Figure size 720x432 with 1 Axes>"
            ]
          },
          "metadata": {
            "tags": []
          }
        }
      ]
    },
    {
      "cell_type": "markdown",
      "metadata": {
        "id": "Ys5-mSnWCxfO",
        "colab_type": "text"
      },
      "source": [
        ""
      ]
    },
    {
      "cell_type": "code",
      "metadata": {
        "id": "OB_in48QCw_0",
        "colab_type": "code",
        "colab": {
          "base_uri": "https://localhost:8080/",
          "height": 51
        },
        "outputId": "96784e30-b4e1-43a9-a5bd-8889b4a35173"
      },
      "source": [
        "delta_predict_1_0, delta_real_1_0 = binary_price(delta_predict, delta_real)\n",
        "\n",
        "print (delta_predict_1_0.shape)\n",
        "print (delta_real_1_0.shape)"
      ],
      "execution_count": 205,
      "outputs": [
        {
          "output_type": "stream",
          "text": [
            "(267, 1)\n",
            "(267, 1)\n"
          ],
          "name": "stdout"
        }
      ]
    },
    {
      "cell_type": "markdown",
      "metadata": {
        "id": "rHl__S1tC0kO",
        "colab_type": "text"
      },
      "source": [
        ""
      ]
    },
    {
      "cell_type": "code",
      "metadata": {
        "id": "_fwDfH15C07r",
        "colab_type": "code",
        "colab": {
          "base_uri": "https://localhost:8080/",
          "height": 85
        },
        "outputId": "aeb282d7-f0c1-4fa1-b6c1-26eae74f8ab4"
      },
      "source": [
        "true_pos, false_pos, true_neg, false_neg = find_positives_negatives(delta_predict_1_0, delta_real_1_0)\n",
        "print (\"True positives:\", true_pos)\n",
        "print (\"False positives:\", false_pos)\n",
        "print (\"True negatives:\", true_neg)\n",
        "print (\"False negatives:\", false_neg)"
      ],
      "execution_count": 206,
      "outputs": [
        {
          "output_type": "stream",
          "text": [
            "True positives: 75\n",
            "False positives: 47\n",
            "True negatives: 52\n",
            "False negatives: 93\n"
          ],
          "name": "stdout"
        }
      ]
    },
    {
      "cell_type": "markdown",
      "metadata": {
        "id": "eCYPxHKeC3iF",
        "colab_type": "text"
      },
      "source": [
        ""
      ]
    },
    {
      "cell_type": "code",
      "metadata": {
        "id": "CwWxiK0iC3Ei",
        "colab_type": "code",
        "colab": {
          "base_uri": "https://localhost:8080/",
          "height": 85
        },
        "outputId": "ee4002bc-5fee-4325-e20d-62ce3fbaf766"
      },
      "source": [
        "precision, recall, F1, MSE = calculate_statistics(true_pos, false_pos, true_neg, false_neg, y_predict, Y_test)\n",
        "print (\"Precision:\", precision)\n",
        "print (\"Recall:\", recall)\n",
        "print (\"F1 score:\", F1)\n",
        "print (\"Mean Squared Error:\", MSE)"
      ],
      "execution_count": 207,
      "outputs": [
        {
          "output_type": "stream",
          "text": [
            "Precision: 0.6147540983606558\n",
            "Recall: 0.44642857142857145\n",
            "F1 score: 0.5172413793103448\n",
            "Mean Squared Error: 0.06960177451142743\n"
          ],
          "name": "stdout"
        }
      ]
    },
    {
      "cell_type": "code",
      "metadata": {
        "id": "Xtm_DwlmEpPw",
        "colab_type": "code",
        "colab": {}
      },
      "source": [
        ""
      ],
      "execution_count": 0,
      "outputs": []
    }
  ]
}