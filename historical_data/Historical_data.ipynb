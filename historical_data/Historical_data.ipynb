{
  "nbformat": 4,
  "nbformat_minor": 0,
  "metadata": {
    "colab": {
      "name": "Historical data.ipynb",
      "version": "0.3.2",
      "provenance": [],
      "collapsed_sections": [],
      "toc_visible": true
    },
    "kernelspec": {
      "name": "python3",
      "display_name": "Python 3"
    }
  },
  "cells": [
    {
      "cell_type": "code",
      "metadata": {
        "id": "XEg2E8Ds3Nmb",
        "colab_type": "code",
        "colab": {}
      },
      "source": [
        "import re\n",
        "import requests\n",
        "from bs4 import BeautifulSoup\n",
        "import csv\n",
        "import pandas as pd\n",
        "import matplotlib.pyplot as plt"
      ],
      "execution_count": 0,
      "outputs": []
    },
    {
      "cell_type": "markdown",
      "metadata": {
        "id": "7896nOe338ro",
        "colab_type": "text"
      },
      "source": [
        "> **Data from 20150101 to today**\n",
        "\n"
      ]
    },
    {
      "cell_type": "code",
      "metadata": {
        "id": "vhJ5xxWg3Pdx",
        "colab_type": "code",
        "colab": {}
      },
      "source": [
        "from datetime import datetime\n",
        "start = '20150101'\n",
        "today = datetime.today().strftime('%Y%m%d')"
      ],
      "execution_count": 0,
      "outputs": []
    },
    {
      "cell_type": "markdown",
      "metadata": {
        "id": "vbhwxrWz3In3",
        "colab_type": "text"
      },
      "source": [
        "## Litecoin"
      ]
    },
    {
      "cell_type": "markdown",
      "metadata": {
        "id": "qsN-NhoaAcBI",
        "colab_type": "text"
      },
      "source": [
        "TODO: reverse rows"
      ]
    },
    {
      "cell_type": "code",
      "metadata": {
        "id": "vnZiK3Db3Rvj",
        "colab_type": "code",
        "colab": {}
      },
      "source": [
        "url = 'https://coinmarketcap.com/currencies/litecoin/historical-data/?start='+start+'&end='+today\n",
        "r = requests.get(url)\n",
        "soup = BeautifulSoup(r.text, 'lxml')\n",
        "divs = soup.find_all(class_ = 'table')"
      ],
      "execution_count": 0,
      "outputs": []
    },
    {
      "cell_type": "code",
      "metadata": {
        "id": "uF112Nlg3Wh7",
        "colab_type": "code",
        "colab": {
          "base_uri": "https://localhost:8080/",
          "height": 34
        },
        "outputId": "e90536ad-20cc-443a-8dba-554660f08554"
      },
      "source": [
        "csvfile = open('litecoin_data.csv', 'w')\n",
        "header = ['Open','High','Low','Close', 'Volume', 'Market Cap'] # not written to csv\n",
        "filewriter = csv.writer(csvfile)\n",
        "filewriter.writerow(header)"
      ],
      "execution_count": 68,
      "outputs": [
        {
          "output_type": "execute_result",
          "data": {
            "text/plain": [
              "39"
            ]
          },
          "metadata": {
            "tags": []
          },
          "execution_count": 68
        }
      ]
    },
    {
      "cell_type": "code",
      "metadata": {
        "id": "6KSt-sqk3kVj",
        "colab_type": "code",
        "colab": {}
      },
      "source": [
        "entries = soup.find_all('td')\n",
        "temp = []\n",
        "for i in range(len(entries)):\n",
        "  \n",
        "  if i % 7 == 0:\n",
        "    if i != 0:\n",
        "      filewriter.writerow(temp)\n",
        "      temp = []\n",
        "  else:\n",
        "    temp.append(entries[i].text)\n",
        "    temp = [temp[i].replace(',', '') for i in range(len(temp))]\n",
        "    "
      ],
      "execution_count": 0,
      "outputs": []
    },
    {
      "cell_type": "code",
      "metadata": {
        "id": "-OSlUK0Q6Ckf",
        "colab_type": "code",
        "colab": {}
      },
      "source": [
        "df_1 = pd.read_csv('./litecoin_data.csv')\n",
        "df_1.apply(pd.to_numeric)"
      ],
      "execution_count": 0,
      "outputs": []
    },
    {
      "cell_type": "code",
      "metadata": {
        "id": "dF8sk0w48QUP",
        "colab_type": "code",
        "colab": {}
      },
      "source": [
        "corr = df_1.corr()\n",
        "corr.style.background_gradient(cmap='coolwarm')"
      ],
      "execution_count": 0,
      "outputs": []
    },
    {
      "cell_type": "markdown",
      "metadata": {
        "id": "fxI0_nnb6rLF",
        "colab_type": "text"
      },
      "source": [
        "## Ethereum"
      ]
    },
    {
      "cell_type": "markdown",
      "metadata": {
        "id": "iNXRmb9tAe_Q",
        "colab_type": "text"
      },
      "source": [
        "TODO: reverse rows"
      ]
    },
    {
      "cell_type": "code",
      "metadata": {
        "id": "ZOyvb5iO60ZB",
        "colab_type": "code",
        "colab": {}
      },
      "source": [
        "url = 'https://coinmarketcap.com/currencies/ethereum/historical-data/?start='+start+'&end='+today\n",
        "r = requests.get(url)\n",
        "soup = BeautifulSoup(r.text, 'lxml')\n",
        "divs = soup.find_all(class_ = 'table')"
      ],
      "execution_count": 0,
      "outputs": []
    },
    {
      "cell_type": "code",
      "metadata": {
        "id": "ymXtqzq069XJ",
        "colab_type": "code",
        "colab": {
          "base_uri": "https://localhost:8080/",
          "height": 34
        },
        "outputId": "181b9c5e-83a7-40db-cda3-cf577c566033"
      },
      "source": [
        "csvfile = open('ethereum_data.csv', 'w')\n",
        "header = ['Open','High','Low','Close', 'Volume', 'Market Cap'] # not written to csv\n",
        "filewriter = csv.writer(csvfile)\n",
        "filewriter.writerow(header)"
      ],
      "execution_count": 81,
      "outputs": [
        {
          "output_type": "execute_result",
          "data": {
            "text/plain": [
              "39"
            ]
          },
          "metadata": {
            "tags": []
          },
          "execution_count": 81
        }
      ]
    },
    {
      "cell_type": "code",
      "metadata": {
        "id": "oqoj4t0w7CeY",
        "colab_type": "code",
        "colab": {}
      },
      "source": [
        "entries = soup.find_all('td')\n",
        "temp = []\n",
        "for i in range(len(entries)):\n",
        "  \n",
        "  if i % 7 == 0:\n",
        "    if i != 0:\n",
        "      filewriter.writerow(temp)\n",
        "      temp = []\n",
        "  else:\n",
        "    temp.append(entries[i].text)\n",
        "    temp = [temp[i].replace(',', '') for i in range(len(temp))]\n",
        "    "
      ],
      "execution_count": 0,
      "outputs": []
    },
    {
      "cell_type": "code",
      "metadata": {
        "id": "oO2_M0Gr7FJz",
        "colab_type": "code",
        "colab": {}
      },
      "source": [
        "df_2 = pd.read_csv('./ethereum_data.csv')\n",
        "df_2.apply(pd.to_numeric)"
      ],
      "execution_count": 0,
      "outputs": []
    },
    {
      "cell_type": "code",
      "metadata": {
        "id": "pclHiu328vtl",
        "colab_type": "code",
        "colab": {
          "base_uri": "https://localhost:8080/",
          "height": 166
        },
        "outputId": "141a0086-94f3-46bf-96ef-8f7605478672"
      },
      "source": [
        "corr = df_2.corr()\n",
        "corr.style.background_gradient(cmap='coolwarm')"
      ],
      "execution_count": 86,
      "outputs": [
        {
          "output_type": "execute_result",
          "data": {
            "text/html": [
              "<style  type=\"text/css\" >\n",
              "    #T_e96d9d4e_a81a_11e9_b589_0242ac1c0002row0_col0 {\n",
              "            background-color:  #b40426;\n",
              "            color:  #f1f1f1;\n",
              "        }    #T_e96d9d4e_a81a_11e9_b589_0242ac1c0002row0_col1 {\n",
              "            background-color:  #b40426;\n",
              "            color:  #f1f1f1;\n",
              "        }    #T_e96d9d4e_a81a_11e9_b589_0242ac1c0002row0_col2 {\n",
              "            background-color:  #b50927;\n",
              "            color:  #f1f1f1;\n",
              "        }    #T_e96d9d4e_a81a_11e9_b589_0242ac1c0002row0_col3 {\n",
              "            background-color:  #b50927;\n",
              "            color:  #f1f1f1;\n",
              "        }    #T_e96d9d4e_a81a_11e9_b589_0242ac1c0002row0_col4 {\n",
              "            background-color:  #3c4ec2;\n",
              "            color:  #f1f1f1;\n",
              "        }    #T_e96d9d4e_a81a_11e9_b589_0242ac1c0002row0_col5 {\n",
              "            background-color:  #b50927;\n",
              "            color:  #f1f1f1;\n",
              "        }    #T_e96d9d4e_a81a_11e9_b589_0242ac1c0002row1_col0 {\n",
              "            background-color:  #b40426;\n",
              "            color:  #f1f1f1;\n",
              "        }    #T_e96d9d4e_a81a_11e9_b589_0242ac1c0002row1_col1 {\n",
              "            background-color:  #b40426;\n",
              "            color:  #f1f1f1;\n",
              "        }    #T_e96d9d4e_a81a_11e9_b589_0242ac1c0002row1_col2 {\n",
              "            background-color:  #b50927;\n",
              "            color:  #f1f1f1;\n",
              "        }    #T_e96d9d4e_a81a_11e9_b589_0242ac1c0002row1_col3 {\n",
              "            background-color:  #b40426;\n",
              "            color:  #f1f1f1;\n",
              "        }    #T_e96d9d4e_a81a_11e9_b589_0242ac1c0002row1_col4 {\n",
              "            background-color:  #3e51c5;\n",
              "            color:  #f1f1f1;\n",
              "        }    #T_e96d9d4e_a81a_11e9_b589_0242ac1c0002row1_col5 {\n",
              "            background-color:  #b40426;\n",
              "            color:  #f1f1f1;\n",
              "        }    #T_e96d9d4e_a81a_11e9_b589_0242ac1c0002row2_col0 {\n",
              "            background-color:  #b50927;\n",
              "            color:  #f1f1f1;\n",
              "        }    #T_e96d9d4e_a81a_11e9_b589_0242ac1c0002row2_col1 {\n",
              "            background-color:  #b50927;\n",
              "            color:  #f1f1f1;\n",
              "        }    #T_e96d9d4e_a81a_11e9_b589_0242ac1c0002row2_col2 {\n",
              "            background-color:  #b40426;\n",
              "            color:  #f1f1f1;\n",
              "        }    #T_e96d9d4e_a81a_11e9_b589_0242ac1c0002row2_col3 {\n",
              "            background-color:  #b40426;\n",
              "            color:  #f1f1f1;\n",
              "        }    #T_e96d9d4e_a81a_11e9_b589_0242ac1c0002row2_col4 {\n",
              "            background-color:  #3b4cc0;\n",
              "            color:  #f1f1f1;\n",
              "        }    #T_e96d9d4e_a81a_11e9_b589_0242ac1c0002row2_col5 {\n",
              "            background-color:  #b40426;\n",
              "            color:  #f1f1f1;\n",
              "        }    #T_e96d9d4e_a81a_11e9_b589_0242ac1c0002row3_col0 {\n",
              "            background-color:  #b50927;\n",
              "            color:  #f1f1f1;\n",
              "        }    #T_e96d9d4e_a81a_11e9_b589_0242ac1c0002row3_col1 {\n",
              "            background-color:  #b40426;\n",
              "            color:  #f1f1f1;\n",
              "        }    #T_e96d9d4e_a81a_11e9_b589_0242ac1c0002row3_col2 {\n",
              "            background-color:  #b40426;\n",
              "            color:  #f1f1f1;\n",
              "        }    #T_e96d9d4e_a81a_11e9_b589_0242ac1c0002row3_col3 {\n",
              "            background-color:  #b40426;\n",
              "            color:  #f1f1f1;\n",
              "        }    #T_e96d9d4e_a81a_11e9_b589_0242ac1c0002row3_col4 {\n",
              "            background-color:  #3d50c3;\n",
              "            color:  #f1f1f1;\n",
              "        }    #T_e96d9d4e_a81a_11e9_b589_0242ac1c0002row3_col5 {\n",
              "            background-color:  #b40426;\n",
              "            color:  #f1f1f1;\n",
              "        }    #T_e96d9d4e_a81a_11e9_b589_0242ac1c0002row4_col0 {\n",
              "            background-color:  #3b4cc0;\n",
              "            color:  #f1f1f1;\n",
              "        }    #T_e96d9d4e_a81a_11e9_b589_0242ac1c0002row4_col1 {\n",
              "            background-color:  #3b4cc0;\n",
              "            color:  #f1f1f1;\n",
              "        }    #T_e96d9d4e_a81a_11e9_b589_0242ac1c0002row4_col2 {\n",
              "            background-color:  #3b4cc0;\n",
              "            color:  #f1f1f1;\n",
              "        }    #T_e96d9d4e_a81a_11e9_b589_0242ac1c0002row4_col3 {\n",
              "            background-color:  #3b4cc0;\n",
              "            color:  #f1f1f1;\n",
              "        }    #T_e96d9d4e_a81a_11e9_b589_0242ac1c0002row4_col4 {\n",
              "            background-color:  #b40426;\n",
              "            color:  #f1f1f1;\n",
              "        }    #T_e96d9d4e_a81a_11e9_b589_0242ac1c0002row4_col5 {\n",
              "            background-color:  #3b4cc0;\n",
              "            color:  #f1f1f1;\n",
              "        }    #T_e96d9d4e_a81a_11e9_b589_0242ac1c0002row5_col0 {\n",
              "            background-color:  #b50927;\n",
              "            color:  #f1f1f1;\n",
              "        }    #T_e96d9d4e_a81a_11e9_b589_0242ac1c0002row5_col1 {\n",
              "            background-color:  #b40426;\n",
              "            color:  #f1f1f1;\n",
              "        }    #T_e96d9d4e_a81a_11e9_b589_0242ac1c0002row5_col2 {\n",
              "            background-color:  #b40426;\n",
              "            color:  #f1f1f1;\n",
              "        }    #T_e96d9d4e_a81a_11e9_b589_0242ac1c0002row5_col3 {\n",
              "            background-color:  #b40426;\n",
              "            color:  #f1f1f1;\n",
              "        }    #T_e96d9d4e_a81a_11e9_b589_0242ac1c0002row5_col4 {\n",
              "            background-color:  #465ecf;\n",
              "            color:  #f1f1f1;\n",
              "        }    #T_e96d9d4e_a81a_11e9_b589_0242ac1c0002row5_col5 {\n",
              "            background-color:  #b40426;\n",
              "            color:  #f1f1f1;\n",
              "        }</style><table id=\"T_e96d9d4e_a81a_11e9_b589_0242ac1c0002\" ><thead>    <tr>        <th class=\"blank level0\" ></th>        <th class=\"col_heading level0 col0\" >Open</th>        <th class=\"col_heading level0 col1\" >High</th>        <th class=\"col_heading level0 col2\" >Low</th>        <th class=\"col_heading level0 col3\" >Close</th>        <th class=\"col_heading level0 col4\" >Volume</th>        <th class=\"col_heading level0 col5\" >Market Cap</th>    </tr></thead><tbody>\n",
              "                <tr>\n",
              "                        <th id=\"T_e96d9d4e_a81a_11e9_b589_0242ac1c0002level0_row0\" class=\"row_heading level0 row0\" >Open</th>\n",
              "                        <td id=\"T_e96d9d4e_a81a_11e9_b589_0242ac1c0002row0_col0\" class=\"data row0 col0\" >1</td>\n",
              "                        <td id=\"T_e96d9d4e_a81a_11e9_b589_0242ac1c0002row0_col1\" class=\"data row0 col1\" >0.998586</td>\n",
              "                        <td id=\"T_e96d9d4e_a81a_11e9_b589_0242ac1c0002row0_col2\" class=\"data row0 col2\" >0.996544</td>\n",
              "                        <td id=\"T_e96d9d4e_a81a_11e9_b589_0242ac1c0002row0_col3\" class=\"data row0 col3\" >0.996533</td>\n",
              "                        <td id=\"T_e96d9d4e_a81a_11e9_b589_0242ac1c0002row0_col4\" class=\"data row0 col4\" >0.376543</td>\n",
              "                        <td id=\"T_e96d9d4e_a81a_11e9_b589_0242ac1c0002row0_col5\" class=\"data row0 col5\" >0.996083</td>\n",
              "            </tr>\n",
              "            <tr>\n",
              "                        <th id=\"T_e96d9d4e_a81a_11e9_b589_0242ac1c0002level0_row1\" class=\"row_heading level0 row1\" >High</th>\n",
              "                        <td id=\"T_e96d9d4e_a81a_11e9_b589_0242ac1c0002row1_col0\" class=\"data row1 col0\" >0.998586</td>\n",
              "                        <td id=\"T_e96d9d4e_a81a_11e9_b589_0242ac1c0002row1_col1\" class=\"data row1 col1\" >1</td>\n",
              "                        <td id=\"T_e96d9d4e_a81a_11e9_b589_0242ac1c0002row1_col2\" class=\"data row1 col2\" >0.996577</td>\n",
              "                        <td id=\"T_e96d9d4e_a81a_11e9_b589_0242ac1c0002row1_col3\" class=\"data row1 col3\" >0.998494</td>\n",
              "                        <td id=\"T_e96d9d4e_a81a_11e9_b589_0242ac1c0002row1_col4\" class=\"data row1 col4\" >0.380757</td>\n",
              "                        <td id=\"T_e96d9d4e_a81a_11e9_b589_0242ac1c0002row1_col5\" class=\"data row1 col5\" >0.997656</td>\n",
              "            </tr>\n",
              "            <tr>\n",
              "                        <th id=\"T_e96d9d4e_a81a_11e9_b589_0242ac1c0002level0_row2\" class=\"row_heading level0 row2\" >Low</th>\n",
              "                        <td id=\"T_e96d9d4e_a81a_11e9_b589_0242ac1c0002row2_col0\" class=\"data row2 col0\" >0.996544</td>\n",
              "                        <td id=\"T_e96d9d4e_a81a_11e9_b589_0242ac1c0002row2_col1\" class=\"data row2 col1\" >0.996577</td>\n",
              "                        <td id=\"T_e96d9d4e_a81a_11e9_b589_0242ac1c0002row2_col2\" class=\"data row2 col2\" >1</td>\n",
              "                        <td id=\"T_e96d9d4e_a81a_11e9_b589_0242ac1c0002row2_col3\" class=\"data row2 col3\" >0.998008</td>\n",
              "                        <td id=\"T_e96d9d4e_a81a_11e9_b589_0242ac1c0002row2_col4\" class=\"data row2 col4\" >0.372464</td>\n",
              "                        <td id=\"T_e96d9d4e_a81a_11e9_b589_0242ac1c0002row2_col5\" class=\"data row2 col5\" >0.997892</td>\n",
              "            </tr>\n",
              "            <tr>\n",
              "                        <th id=\"T_e96d9d4e_a81a_11e9_b589_0242ac1c0002level0_row3\" class=\"row_heading level0 row3\" >Close</th>\n",
              "                        <td id=\"T_e96d9d4e_a81a_11e9_b589_0242ac1c0002row3_col0\" class=\"data row3 col0\" >0.996533</td>\n",
              "                        <td id=\"T_e96d9d4e_a81a_11e9_b589_0242ac1c0002row3_col1\" class=\"data row3 col1\" >0.998494</td>\n",
              "                        <td id=\"T_e96d9d4e_a81a_11e9_b589_0242ac1c0002row3_col2\" class=\"data row3 col2\" >0.998008</td>\n",
              "                        <td id=\"T_e96d9d4e_a81a_11e9_b589_0242ac1c0002row3_col3\" class=\"data row3 col3\" >1</td>\n",
              "                        <td id=\"T_e96d9d4e_a81a_11e9_b589_0242ac1c0002row3_col4\" class=\"data row3 col4\" >0.377826</td>\n",
              "                        <td id=\"T_e96d9d4e_a81a_11e9_b589_0242ac1c0002row3_col5\" class=\"data row3 col5\" >0.999384</td>\n",
              "            </tr>\n",
              "            <tr>\n",
              "                        <th id=\"T_e96d9d4e_a81a_11e9_b589_0242ac1c0002level0_row4\" class=\"row_heading level0 row4\" >Volume</th>\n",
              "                        <td id=\"T_e96d9d4e_a81a_11e9_b589_0242ac1c0002row4_col0\" class=\"data row4 col0\" >0.376543</td>\n",
              "                        <td id=\"T_e96d9d4e_a81a_11e9_b589_0242ac1c0002row4_col1\" class=\"data row4 col1\" >0.380757</td>\n",
              "                        <td id=\"T_e96d9d4e_a81a_11e9_b589_0242ac1c0002row4_col2\" class=\"data row4 col2\" >0.372464</td>\n",
              "                        <td id=\"T_e96d9d4e_a81a_11e9_b589_0242ac1c0002row4_col3\" class=\"data row4 col3\" >0.377826</td>\n",
              "                        <td id=\"T_e96d9d4e_a81a_11e9_b589_0242ac1c0002row4_col4\" class=\"data row4 col4\" >1</td>\n",
              "                        <td id=\"T_e96d9d4e_a81a_11e9_b589_0242ac1c0002row4_col5\" class=\"data row4 col5\" >0.398927</td>\n",
              "            </tr>\n",
              "            <tr>\n",
              "                        <th id=\"T_e96d9d4e_a81a_11e9_b589_0242ac1c0002level0_row5\" class=\"row_heading level0 row5\" >Market Cap</th>\n",
              "                        <td id=\"T_e96d9d4e_a81a_11e9_b589_0242ac1c0002row5_col0\" class=\"data row5 col0\" >0.996083</td>\n",
              "                        <td id=\"T_e96d9d4e_a81a_11e9_b589_0242ac1c0002row5_col1\" class=\"data row5 col1\" >0.997656</td>\n",
              "                        <td id=\"T_e96d9d4e_a81a_11e9_b589_0242ac1c0002row5_col2\" class=\"data row5 col2\" >0.997892</td>\n",
              "                        <td id=\"T_e96d9d4e_a81a_11e9_b589_0242ac1c0002row5_col3\" class=\"data row5 col3\" >0.999384</td>\n",
              "                        <td id=\"T_e96d9d4e_a81a_11e9_b589_0242ac1c0002row5_col4\" class=\"data row5 col4\" >0.398927</td>\n",
              "                        <td id=\"T_e96d9d4e_a81a_11e9_b589_0242ac1c0002row5_col5\" class=\"data row5 col5\" >1</td>\n",
              "            </tr>\n",
              "    </tbody></table>"
            ],
            "text/plain": [
              "<pandas.io.formats.style.Styler at 0x7f0e53c106d8>"
            ]
          },
          "metadata": {
            "tags": []
          },
          "execution_count": 86
        }
      ]
    },
    {
      "cell_type": "markdown",
      "metadata": {
        "id": "yJjQYqfchYvE",
        "colab_type": "text"
      },
      "source": [
        "## Bitcoin"
      ]
    },
    {
      "cell_type": "markdown",
      "metadata": {
        "id": "0beuAwWf84ok",
        "colab_type": "text"
      },
      "source": [
        "### From blockchain.com (12 features)"
      ]
    },
    {
      "cell_type": "markdown",
      "metadata": {
        "id": "dzLWkkdMbVel",
        "colab_type": "text"
      },
      "source": [
        "Imported data from https://www.blockchain.com/en/charts\n",
        "\n",
        "All csv files should have 729 rows."
      ]
    },
    {
      "cell_type": "code",
      "metadata": {
        "id": "k_99uBQWbBU5",
        "colab_type": "code",
        "colab": {}
      },
      "source": [
        "col1 = pd.read_csv('./avg-block-size.csv')\n",
        "col2 = pd.read_csv('./blocks-size.csv')\n",
        "col3 = pd.read_csv('./cost-per-transaction-percent.csv')\n",
        "col4 = pd.read_csv('./hash-rate.csv')\n",
        "col5 = pd.read_csv('./market-cap.csv')\n",
        "col6 = pd.read_csv('./market-price.csv')\n",
        "col7 = pd.read_csv('./median-confirmation-time.csv')\n",
        "col8 = pd.read_csv('./n-transactions-per-block.csv')\n",
        "col9 = pd.read_csv('./n-transactions.csv')\n",
        "col10 = pd.read_csv('./total-bitcoins.csv')\n",
        "col11 = pd.read_csv('./trade-volume.csv')\n",
        "col12 = pd.read_csv('./transaction-fees.csv')"
      ],
      "execution_count": 0,
      "outputs": []
    },
    {
      "cell_type": "code",
      "metadata": {
        "id": "IdrJfILkbLIR",
        "colab_type": "code",
        "colab": {}
      },
      "source": [
        "temp = col1.iloc[:,1].values\n"
      ],
      "execution_count": 0,
      "outputs": []
    },
    {
      "cell_type": "code",
      "metadata": {
        "id": "U2nqXNTLa4gr",
        "colab_type": "code",
        "outputId": "94453430-05f8-487e-f421-695926001021",
        "colab": {
          "base_uri": "https://localhost:8080/",
          "height": 34
        }
      },
      "source": [
        "csvfile = open('bitcoin_1.csv', 'w')\n",
        "header = ['avg-block-size','blocks-size','cost-per-transaction-percent',\n",
        "          'hash-rate','market-cap', 'market-price','median-confirmation-time',\n",
        "          'n-transactions-per-block','n-transactions','total-bitcoins',\n",
        "          'trade-volume','transaction-fees'] # not written to csv\n",
        "filewriter = csv.writer(csvfile)\n",
        "filewriter.writerow(header)"
      ],
      "execution_count": 89,
      "outputs": [
        {
          "output_type": "execute_result",
          "data": {
            "text/plain": [
              "201"
            ]
          },
          "metadata": {
            "tags": []
          },
          "execution_count": 89
        }
      ]
    },
    {
      "cell_type": "code",
      "metadata": {
        "id": "Fg1nY6KHdoNG",
        "colab_type": "code",
        "colab": {}
      },
      "source": [
        "for i in range(0, col1.shape[0]):\n",
        "  temp = []\n",
        "  temp.append(col1.iloc[:,1].values[i])\n",
        "  temp.append(col2.iloc[:,1].values[i])\n",
        "  temp.append(col3.iloc[:,1].values[i])\n",
        "  temp.append(col4.iloc[:,1].values[i])\n",
        "  temp.append(col5.iloc[:,1].values[i])\n",
        "  temp.append(col6.iloc[:,1].values[i])\n",
        "  temp.append(col7.iloc[:,1].values[i])\n",
        "  temp.append(col8.iloc[:,1].values[i])\n",
        "  temp.append(col9.iloc[:,1].values[i])\n",
        "  temp.append(col10.iloc[:,1].values[i])\n",
        "  temp.append(col11.iloc[:,1].values[i])\n",
        "  temp.append(col12.iloc[:,1].values[i])\n",
        "  \n",
        "  filewriter.writerow(temp)"
      ],
      "execution_count": 0,
      "outputs": []
    },
    {
      "cell_type": "code",
      "metadata": {
        "id": "Z9vC0ntJhnoP",
        "colab_type": "code",
        "colab": {}
      },
      "source": [
        "import matplotlib.pyplot as plt\n",
        "\n",
        "df_3 = pd.read_csv('./bitcoin_1.csv')\n",
        "# plt.matshow(df.corr())\n",
        "# plt.show()\n",
        "corr = df_3.corr()\n",
        "corr.style.background_gradient(cmap='coolwarm')"
      ],
      "execution_count": 0,
      "outputs": []
    },
    {
      "cell_type": "markdown",
      "metadata": {
        "id": "IMc6l9bJ9Qtm",
        "colab_type": "text"
      },
      "source": [
        "Correlation to **market-price**:\n",
        "\n",
        "\n",
        "*   blocks-size: -0.254\n",
        "*   hash-rate: -0.211\n",
        "*   market-cap: 0.999\n",
        "*   total-bitcoins: -0.272\n",
        "*   trade-volume: **0.687**\n",
        "*   transaction-fees: **0.579**\n",
        "\n"
      ]
    },
    {
      "cell_type": "markdown",
      "metadata": {
        "id": "5uFzUbAR_hi9",
        "colab_type": "text"
      },
      "source": [
        "### From bitcoin.com (39 features)"
      ]
    },
    {
      "cell_type": "markdown",
      "metadata": {
        "id": "_aKFlcNn_oIV",
        "colab_type": "text"
      },
      "source": [
        "https://charts.bitcoin.com/btc/chart/price\n",
        "\n",
        "Using Selenium without opening the browser\n",
        "\n",
        "Download 39 csv files and merge to one\n",
        "\n",
        "Delete data before 2015"
      ]
    },
    {
      "cell_type": "code",
      "metadata": {
        "id": "J8juO3N1_md4",
        "colab_type": "code",
        "colab": {}
      },
      "source": [
        ""
      ],
      "execution_count": 0,
      "outputs": []
    }
  ]
}